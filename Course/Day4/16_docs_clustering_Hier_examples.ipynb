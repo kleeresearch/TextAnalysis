{
  "cells": [
    {
      "cell_type": "markdown",
      "metadata": {
        "id": "view-in-github",
        "colab_type": "text"
      },
      "source": [
        "<a href=\"https://colab.research.google.com/github/kleeresearch/TextAnalysis/blob/master/Course/Day4/16_docs_clustering_Hier_examples.ipynb\" target=\"_parent\"><img src=\"https://colab.research.google.com/assets/colab-badge.svg\" alt=\"Open In Colab\"/></a>"
      ]
    },
    {
      "cell_type": "markdown",
      "metadata": {
        "id": "IKxi849Q9x60"
      },
      "source": [
        "아래와 같이 텍스트 파일을 읽어 옵니다.\n",
        "\n",
        "전처리를 통해 문서로 표현. 군집화 분석.\n",
        "\n",
        "워닝"
      ]
    },
    {
      "cell_type": "code",
      "source": [
        "from google.colab import drive\n",
        "drive.mount('/content/drive')"
      ],
      "metadata": {
        "colab": {
          "base_uri": "https://localhost:8080/"
        },
        "id": "rEZSvUAm9538",
        "outputId": "2702cc1f-0030-4ef8-f8dc-d861a5bddc8d"
      },
      "execution_count": null,
      "outputs": [
        {
          "output_type": "stream",
          "name": "stdout",
          "text": [
            "Mounted at /content/drive\n"
          ]
        }
      ]
    },
    {
      "cell_type": "code",
      "execution_count": null,
      "metadata": {
        "id": "8Lz9uBk_9x64"
      },
      "outputs": [],
      "source": [
        "import numpy as np\n",
        "from os import listdir\n",
        "from os.path import isfile, join\n",
        "\n",
        "mypath = '/content/drive/MyDrive/KOSSDA_텍스트마이닝_강의자료/강의자료/Day4/python_code/example_En_docs/'\n",
        "onlyfiles = [f for f in listdir(mypath) if isfile(join(mypath, f))]\n",
        "\n",
        "total_docs = []\n",
        "onlyfiles.sort()\n",
        "for file in onlyfiles:\n",
        "    file_path = mypath+file\n",
        "    with open(file_path, 'r', encoding='utf8') as f:\n",
        "        content = f.read()\n",
        "    total_docs.append(content)"
      ]
    },
    {
      "cell_type": "code",
      "execution_count": null,
      "metadata": {
        "id": "dJ1vqwEx9x66",
        "outputId": "e2fd8722-da70-4ef0-84b2-8ae661ca0929",
        "colab": {
          "base_uri": "https://localhost:8080/"
        }
      },
      "outputs": [
        {
          "output_type": "execute_result",
          "data": {
            "text/plain": [
              "15"
            ]
          },
          "metadata": {},
          "execution_count": 5
        }
      ],
      "source": [
        "len(total_docs)"
      ]
    },
    {
      "cell_type": "code",
      "execution_count": null,
      "metadata": {
        "scrolled": true,
        "id": "Jx8-rK0W9x67",
        "outputId": "3cad6a86-6ce3-4d7d-886d-b10d234e13f3",
        "colab": {
          "base_uri": "https://localhost:8080/",
          "height": 143
        }
      },
      "outputs": [
        {
          "output_type": "execute_result",
          "data": {
            "text/plain": [
              "'Ryen Aleman was engrossed in the virtual world, focused on the video game in front of him, when he realized the gunshots he was hearing were real. He ducked and bolted for a restroom to take cover.\\nAnother mass shooting was unfolding in Florida, this time at a tournament for competitive players of the football video game, Madden, in Jacksonville. The winners would go on to a higher level tournament in Las Vegas in October, where large cash prizes could be won.\\nParticipants had gathered at the Jacksonville Landing Complex, an open-air marketplace with stores, bars and restaurants along the St. Johns River.\\n\\nDavid Katz, a 24-year-old gamer from Baltimore, Maryland, was in Jacksonville for the tournament at GLHF Game Bar, in the back of a pizza restaurant. On Sunday, he brought a gun into the venue and opened fire, killing two people. Then he turned the gun on himself, Jacksonville Sheriff Mike Williams said. Police have not released a possible motive.\\nKatz used at least one handgun in the shooting, the sheriff said. Nine other people suffered gunshot wounds and two people were injured fleeing the area, Williams said. The victims were all in stable condition at local hospitals, the sheriff said.\\nThe horror that unfolded was captured on an online stream of the event, posted the website Twitch. The game abruptly stopped after several shots were heard.\\nPeople screamed. One person cried out, \"Oh f**, what\\'d he shoot me with?\" \\nShortly after 1:30 p.m., 911 calls started pouring in about a shooting, according to Williams. Officers were on the scene within two minutes.\\nAleman said he huddled in the bathroom for 10 minutes and ran from the scene.\\n\"I\\'m still shocked, I can hardly talk,\" he told CNN.\\nSeven members of the Jacksonville Fire Station 1 -- known as \"The Rock\" -- were doing routine training in a parking garage across the street from the Landing, when dozens of people came running out, said Randy Wyse, president of the Jacksonville Association of Fire Fighters.\\nOne person pulled up their shirt, showing where they had been shot in the chest, Wyse said. A second person with gunshot wounds followed shortly behind them.\\nAs four firefighters administered first aid, three others ran toward the Landing, Wyse said, and flagged down a police officer.\\nThey started treating victims and found the three dead bodies, including Katz\\'s body.\\nHours after he committed suicide, authorities said, agents with the Bureau of Alcohol, Tobacco, Firearms and Explosives and FBI and Baltimore Police searched Katz\\'s family home in Baltimore.\\nKatz went by the gaming naming \"Bread\" and previously won Madden tournaments in 2017, multiple gamers told CNN.\\nIn February 2017, the Buffalo Bills tweeted out a picture of him after he won the Madden 17 Bills Championship. \"Congrats to David Katz, the Madden 17 Bills Championship winner! Thanks for following along, Bills fans,\" the tweet read.\\nIn an interview after the win with former Buffalos Bills player Steve Tasker, Katz talked about his prowess.\\n\"I think personally I\\'m one of the better players,\" he said. \\nFlorida has seen several mass shootings in recent years: a gunman killed 17 people at Marjory Stoneman Douglas high school in Parkland earlier this year; five people were gunned down at the Fort Lauderdale airport last year; and 49 were shot dead at the Pulse nightclub in Orlando in 2016.\\n\"We have got to change,\" Gov. Rick Scott told reporters Sunday night. \"We\\'ve got to really stop and say to ourselves: there\\'s something wrong.\"\\n\"Why are young men willing to give up their life, or why don\\'t they value somebody else\\'s life?\" he said. \"We\\'ve got to figure this out.\"\\nFormer Congresswoman Gabrielle Giffords, who was seriously wounded in a mass shooting, said the nation\\'s attention turns to Florida, again.\\n\"The nation once again looks to Florida with grief and heavy hearts,\" Giffords, who co-founded a gun violence prevention organization, said in a statement.\\n\"The massacre in Jacksonville is a tragic reminder of the threats we face from gun violence, no matter who we are or where our day takes us,\" said Giffords. \"And it\\'s yet another devastating indictment of this country\\'s inability to keep our kids safe.\"\\n\\n    The nation once again looks to Florida with grief and heavy hearts. The massacre in Jacksonville is yet another devastating indictment of this country\\'s inability to keep our kids safe. https://t.co/NNw88rVWR2\\n    — Gabrielle Giffords (@GabbyGiffords) August 26, 2018\\n\\nEA Sports, a video game developer and publisher, condemned the shooting as \"a senseless act of violence.\"\\nCompLexity Gaming founder and CEO Jason Lake told CNN that the shooting may make the growing eSports industry reconsider security at events.\\nOne of the company\\'s gamers, a 19-year-old who goes by Drini, was shot in the thumb but managed to escape and is going to be fine, Lake said.\\n\"To have someone walk into an event like this that\\'s all about good sportsmanship and teamwork and just good vibes, and do something like this, it\\'s heartbreaking,\" he said. \"I think the e-sports industry as a whole is going to have to step back and take a look at further strengthening our security.\"'"
            ],
            "application/vnd.google.colaboratory.intrinsic+json": {
              "type": "string"
            }
          },
          "metadata": {},
          "execution_count": 6
        }
      ],
      "source": [
        "total_docs[0]"
      ]
    },
    {
      "cell_type": "code",
      "execution_count": null,
      "metadata": {
        "id": "6KIFAx7O9x68"
      },
      "outputs": [],
      "source": [
        "import re\n",
        "import nltk\n",
        "from nltk.corpus import stopwords\n",
        "\n",
        "def do_En_preprocessing(text, customized_stopwords):\n",
        "    cleaned_content = re.sub(r'[^\\w\\d\\s]','',text) # To remove symbols\n",
        "    cleaned_content = cleaned_content.lower() # Case conversion, upper -> lower\n",
        "    word_tokens = nltk.word_tokenize(cleaned_content) # Tokenization\n",
        "    tokens_pos = nltk.pos_tag(word_tokens) # POS tagging\n",
        "    NN_words = []   # To select nouns\n",
        "    for word, pos in tokens_pos:\n",
        "        if 'NN' in pos:\n",
        "            NN_words.append(word)\n",
        "\n",
        "    wlem = nltk.WordNetLemmatizer()   # Lemmatization\n",
        "    lemmatized_words = []\n",
        "    for word in NN_words:\n",
        "        lemmatized_words.append(wlem.lemmatize(word))\n",
        "    # 불용어 제거\n",
        "    stopwords_list = stopwords.words('english')\n",
        "    unique_NN_words = set(lemmatized_words)\n",
        "    final_NN_words = lemmatized_words\n",
        "    for word in unique_NN_words:\n",
        "        if word in stopwords_list:\n",
        "            while word in final_NN_words:\n",
        "                final_NN_words.remove(word)\n",
        "\n",
        "    unique_NN_words1 = set(final_NN_words)\n",
        "    for word in unique_NN_words1:\n",
        "        if word in customized_stopwords:\n",
        "            while word in final_NN_words:\n",
        "                final_NN_words.remove(word)\n",
        "\n",
        "    return final_NN_words"
      ]
    },
    {
      "cell_type": "code",
      "execution_count": null,
      "metadata": {
        "id": "vG5jSqUT9x68"
      },
      "outputs": [],
      "source": [
        "customized_stopwords = ['be', 'today', 'yesterday', 'new', 'york', 'time'] # 불용어 사전 생성하기"
      ]
    },
    {
      "cell_type": "code",
      "source": [
        "nltk.download('punkt')\n",
        "nltk.download('averaged_perceptron_tagger')\n",
        "nltk.download('wordnet')\n",
        "nltk.download('stopwords')"
      ],
      "metadata": {
        "colab": {
          "base_uri": "https://localhost:8080/"
        },
        "id": "1JvQBNh9-OGC",
        "outputId": "5584fdea-1ab7-4d81-dce7-a886842b1bb4"
      },
      "execution_count": null,
      "outputs": [
        {
          "output_type": "stream",
          "name": "stderr",
          "text": [
            "[nltk_data] Downloading package punkt to /root/nltk_data...\n",
            "[nltk_data]   Package punkt is already up-to-date!\n",
            "[nltk_data] Downloading package averaged_perceptron_tagger to\n",
            "[nltk_data]     /root/nltk_data...\n",
            "[nltk_data]   Package averaged_perceptron_tagger is already up-to-\n",
            "[nltk_data]       date!\n",
            "[nltk_data] Downloading package wordnet to /root/nltk_data...\n",
            "[nltk_data]   Package wordnet is already up-to-date!\n",
            "[nltk_data] Downloading package stopwords to /root/nltk_data...\n",
            "[nltk_data]   Unzipping corpora/stopwords.zip.\n"
          ]
        },
        {
          "output_type": "execute_result",
          "data": {
            "text/plain": [
              "True"
            ]
          },
          "metadata": {},
          "execution_count": 17
        }
      ]
    },
    {
      "cell_type": "code",
      "execution_count": null,
      "metadata": {
        "id": "FoYktqrr9x7A"
      },
      "outputs": [],
      "source": [
        "docs_nouns = [do_En_preprocessing(doc, customized_stopwords) for doc in total_docs]"
      ]
    },
    {
      "cell_type": "markdown",
      "source": [
        "텍스트 데이터가 리스트 데이터로 표현되어야 한다. 하나의 문자열이어야 한다.\n",
        "\n",
        "하나의 문자열 데이터로 나타나야 한다.\n",
        "\n",
        "join function을 이용해서 vecotrization 을 쓰면 된다."
      ],
      "metadata": {
        "id": "1BlgAAyr-et2"
      }
    },
    {
      "cell_type": "code",
      "execution_count": null,
      "metadata": {
        "id": "zYKuYSTf9x7A",
        "outputId": "e62345e8-abe7-4d97-a52e-956bf05093d6",
        "colab": {
          "base_uri": "https://localhost:8080/"
        }
      },
      "outputs": [
        {
          "output_type": "stream",
          "name": "stdout",
          "text": [
            "['aleman', 'world', 'video', 'game', 'front', 'gunshot', 'restroom', 'cover', 'mass', 'shooting', 'florida', 'tournament', 'player', 'football', 'video', 'game', 'madden', 'jacksonville', 'winner', 'level', 'tournament', 'vega', 'october', 'cash', 'prize', 'participant', 'jacksonville', 'marketplace', 'store', 'bar', 'restaurant', 'st', 'john', 'river', 'david', 'gamer', 'baltimore', 'maryland', 'jacksonville', 'tournament', 'game', 'bar', 'back', 'pizza', 'restaurant', 'sunday', 'gun', 'venue', 'fire', 'people', 'gun', 'mike', 'williams', 'police', 'motive', 'katz', 'handgun', 'sheriff', 'people', 'wound', 'people', 'area', 'williams', 'victim', 'condition', 'hospital', 'sheriff', 'horror', 'stream', 'event', 'game', 'shot', 'people', 'person', 'f', 'whatd', 'call', 'williams', 'officer', 'scene', 'minute', 'bathroom', 'minute', 'ran', 'scene', 'im', 'member', 'jacksonville', 'fire', 'station', 'rock', 'training', 'parking', 'garage', 'street', 'landing', 'dozen', 'people', 'president', 'jacksonville', 'association', 'fire', 'fighter', 'person', 'shirt', 'chest', 'wyse', 'person', 'wound', 'firefighter', 'aid', 'others', 'landing', 'wyse', 'officer', 'victim', 'body', 'katzs', 'body', 'hour', 'authority', 'agent', 'bureau', 'alcohol', 'tobacco', 'firearm', 'explosive', 'fbi', 'police', 'family', 'home', 'baltimore', 'katz', 'gaming', 'bread', 'tournament', 'multiple', 'gamers', 'cnn', 'buffalo', 'bill', 'picture', 'bill', 'congrats', 'bill', 'thanks', 'bill', 'tweet', 'read', 'interview', 'win', 'buffalo', 'bill', 'player', 'tasker', 'katz', 'prowess', 'player', 'florida', 'mass', 'shooting', 'year', 'gunman', 'people', 'douglas', 'school', 'parkland', 'year', 'people', 'fort', 'lauderdale', 'airport', 'year', 'pulse', 'nightclub', 'orlando', 'gov', 'rick', 'scott', 'reporter', 'night', 'weve', 'something', 'men', 'life', 'value', 'somebody', 'life', 'congresswoman', 'gabrielle', 'giffords', 'mass', 'shooting', 'nation', 'attention', 'nation', 'grief', 'heart', 'giffords', 'gun', 'violence', 'prevention', 'organization', 'statement', 'massacre', 'jacksonville', 'reminder', 'threat', 'violence', 'matter', 'day', 'giffords', 'indictment', 'country', 'inability', 'kid', 'nation', 'grief', 'heart', 'massacre', 'jacksonville', 'indictment', 'country', 'inability', 'kid', 'httpstconnw88rvwr2', 'gabrielle', 'giffords', 'gabbygiffords', 'ea', 'sport', 'video', 'game', 'developer', 'publisher', 'shooting', 'senseless', 'act', 'violence', 'complexity', 'founder', 'ceo', 'jason', 'cnn', 'shooting', 'esports', 'industry', 'security', 'event', 'company', 'drini', 'thumb', 'lake', 'someone', 'walk', 'event', 'sportsmanship', 'teamwork', 'vibe', 'something', 'heartbreaking', 'esports', 'industry', 'whole', 'look', 'security']\n"
          ]
        }
      ],
      "source": [
        "print(docs_nouns[0]) # 첫번째 문서에 대한 내용 ((문서 내용, [명사단어])로 구성)"
      ]
    },
    {
      "cell_type": "code",
      "execution_count": null,
      "metadata": {
        "id": "n9m1_QG59x7B"
      },
      "outputs": [],
      "source": [
        "documents_filtered = [' '.join(doc) for doc in docs_nouns] # list of docs, doc 은 단어들로 구성이 된 string data\n",
        "# 불필요한 단어들을 제거하고 난후 DTM로 변환하기 위해 다시 list of strings의 형태로 변환"
      ]
    },
    {
      "cell_type": "code",
      "execution_count": null,
      "metadata": {
        "id": "SvFTkIx39x7B"
      },
      "outputs": [],
      "source": [
        "DOCS_NUM=len(docs_nouns)"
      ]
    },
    {
      "cell_type": "code",
      "execution_count": null,
      "metadata": {
        "id": "pKXQyNnH9x7B",
        "outputId": "fa3b880b-2bf6-48a0-b518-e6f22eb6f6b2",
        "colab": {
          "base_uri": "https://localhost:8080/"
        }
      },
      "outputs": [
        {
          "output_type": "execute_result",
          "data": {
            "text/plain": [
              "15"
            ]
          },
          "metadata": {},
          "execution_count": 22
        }
      ],
      "source": [
        "DOCS_NUM"
      ]
    },
    {
      "cell_type": "code",
      "execution_count": null,
      "metadata": {
        "id": "Pk_nNEX29x7C"
      },
      "outputs": [],
      "source": [
        "from sklearn.feature_extraction.text import CountVectorizer # frequency based DTM\n",
        "from sklearn.feature_extraction.text import TfidfVectorizer # tf-idf based DTM"
      ]
    },
    {
      "cell_type": "code",
      "execution_count": null,
      "metadata": {
        "id": "ogoOxi6z9x7C"
      },
      "outputs": [],
      "source": [
        "tf_vectorizer = CountVectorizer()\n",
        "DTM_tf = tf_vectorizer.fit_transform(documents_filtered)\n",
        "DTM_TF = np.array(DTM_tf.todense())"
      ]
    },
    {
      "cell_type": "code",
      "execution_count": null,
      "metadata": {
        "id": "4Of8-xat9x7C"
      },
      "outputs": [],
      "source": [
        "tfidf_vectorizer = TfidfVectorizer()\n",
        "DTM_tfidf = tfidf_vectorizer.fit_transform(documents_filtered)\n",
        "DTM_TFIDF = np.array(DTM_tfidf.todense())"
      ]
    },
    {
      "cell_type": "markdown",
      "metadata": {
        "id": "EtWjC5k39x7D"
      },
      "source": [
        "# 위계적 군집 분석"
      ]
    },
    {
      "cell_type": "markdown",
      "source": [
        "agglomerative 방법론이 일반적으로 사용되는 방법."
      ],
      "metadata": {
        "id": "VEMgWWCS-6Rl"
      }
    },
    {
      "cell_type": "code",
      "execution_count": null,
      "metadata": {
        "id": "nExTfIQt9x7D"
      },
      "outputs": [],
      "source": [
        "from sklearn.cluster import AgglomerativeClustering"
      ]
    },
    {
      "cell_type": "code",
      "execution_count": null,
      "metadata": {
        "id": "ZuW0UiJV9x7D"
      },
      "outputs": [],
      "source": [
        "cluster_idf = AgglomerativeClustering(linkage='average', affinity='cosine', n_clusters=5)"
      ]
    },
    {
      "cell_type": "markdown",
      "source": [
        "fit function을 이용. TF 정보를 담고 있는 DTM을 입력하여 군집화 정보"
      ],
      "metadata": {
        "id": "n18S7mAy--2p"
      }
    },
    {
      "cell_type": "code",
      "execution_count": null,
      "metadata": {
        "id": "UhUxVHA19x7D",
        "colab": {
          "base_uri": "https://localhost:8080/"
        },
        "outputId": "a6e57551-568c-4fdf-839e-bf3769aaa0d3"
      },
      "outputs": [
        {
          "output_type": "stream",
          "name": "stderr",
          "text": [
            "/usr/local/lib/python3.10/dist-packages/sklearn/cluster/_agglomerative.py:983: FutureWarning: Attribute `affinity` was deprecated in version 1.2 and will be removed in 1.4. Use `metric` instead\n",
            "  warnings.warn(\n"
          ]
        }
      ],
      "source": [
        "clusters_hc = cluster_idf.fit(DTM_TF)"
      ]
    },
    {
      "cell_type": "code",
      "execution_count": null,
      "metadata": {
        "id": "isAYoUfH9x7D",
        "outputId": "8d1715d6-ab33-44ac-81c0-1f5094a8a340",
        "colab": {
          "base_uri": "https://localhost:8080/"
        }
      },
      "outputs": [
        {
          "output_type": "execute_result",
          "data": {
            "text/plain": [
              "array([2, 2, 2, 4, 4, 1, 1, 1, 0, 0, 0, 0, 3, 3, 3])"
            ]
          },
          "metadata": {},
          "execution_count": 29
        }
      ],
      "source": [
        "clusters_hc.labels_"
      ]
    },
    {
      "cell_type": "code",
      "execution_count": null,
      "metadata": {
        "id": "RxaEw3uX9x7E",
        "outputId": "37f883f4-03f9-44c6-c74c-c73e83cc0b02",
        "colab": {
          "base_uri": "https://localhost:8080/",
          "height": 592
        }
      },
      "outputs": [
        {
          "output_type": "display_data",
          "data": {
            "text/plain": [
              "<Figure size 2500x1000 with 1 Axes>"
            ],
            "image/png": "[encoded data removed]"
          },
          "metadata": {}
        }
      ],
      "source": [
        "from matplotlib import pyplot as plt\n",
        "from scipy.cluster.hierarchy import dendrogram, linkage\n",
        "%matplotlib inline\n",
        "np.set_printoptions(precision=5, suppress=True)\n",
        "Z = linkage(DTM_TFIDF, 'average', metric='cosine')\n",
        "plt.figure(figsize=(25, 10))\n",
        "plt.title('Hierarchical Clustering Dendrogram', fontsize=18)\n",
        "plt.xlabel('Document ID', fontsize=18)\n",
        "plt.ylabel('Distance', fontsize=18)\n",
        "dendrogram(\n",
        "    Z,\n",
        "    leaf_rotation=90.,  # rotates the x axis labels\n",
        "    leaf_font_size=14.,  # font size for the x axis labels\n",
        ")\n",
        "plt.show()"
      ]
    },
    {
      "cell_type": "code",
      "execution_count": null,
      "metadata": {
        "id": "-HSZZRK89x7E"
      },
      "outputs": [],
      "source": []
    },
    {
      "cell_type": "markdown",
      "source": [
        "질의응답\n",
        "* 네트워크 분석 후 군집화하는 방법(모듈성)이 있을까요?\n",
        "- 본 강의에는 포함되어 있지 않지만\n",
        "- unicet으로 네트워크 분석, 플랏한 다음에 별도로 산식하는 알고리즘이 있음.\n",
        "- 의미연결망의 군집분석을 통해 CONCUR 분석 가능"
      ],
      "metadata": {
        "id": "7r0U2I30BgRL"
      }
    }
  ],
  "metadata": {
    "kernelspec": {
      "display_name": "Python 3 (ipykernel)",
      "language": "python",
      "name": "python3"
    },
    "language_info": {
      "codemirror_mode": {
        "name": "ipython",
        "version": 3
      },
      "file_extension": ".py",
      "mimetype": "text/x-python",
      "name": "python",
      "nbconvert_exporter": "python",
      "pygments_lexer": "ipython3",
      "version": "3.9.13"
    },
    "colab": {
      "provenance": [],
      "include_colab_link": true
    }
  },
  "nbformat": 4,
  "nbformat_minor": 0
}