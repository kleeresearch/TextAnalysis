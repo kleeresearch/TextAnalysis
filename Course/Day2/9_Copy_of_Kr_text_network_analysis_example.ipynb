{
  "cells": [
    {
      "cell_type": "markdown",
      "metadata": {
        "id": "view-in-github",
        "colab_type": "text"
      },
      "source": [
        "<a href=\"https://colab.research.google.com/github/kleeresearch/TextAnalysis/blob/master/Course/Day2/9_Copy_of_Kr_text_network_analysis_example.ipynb\" target=\"_parent\"><img src=\"https://colab.research.google.com/assets/colab-badge.svg\" alt=\"Open In Colab\"/></a>"
      ]
    },
    {
      "cell_type": "markdown",
      "metadata": {
        "id": "0H_-8T41Ctrt"
      },
      "source": [
        "# 전처리 수행 후, 명사 단어 추출"
      ]
    },
    {
      "cell_type": "code",
      "source": [
        "from google.colab import drive\n",
        "drive.mount('/content/drive')"
      ],
      "metadata": {
        "colab": {
          "base_uri": "https://localhost:8080/"
        },
        "id": "iXxTL7TqDN9D",
        "outputId": "749ac18c-0d14-4007-e928-68c23bdd2b7c"
      },
      "execution_count": 1,
      "outputs": [
        {
          "output_type": "stream",
          "name": "stdout",
          "text": [
            "Mounted at /content/drive\n"
          ]
        }
      ]
    },
    {
      "cell_type": "code",
      "source": [
        "!pip install kiwipiepy"
      ],
      "metadata": {
        "colab": {
          "base_uri": "https://localhost:8080/"
        },
        "id": "jfZ4bBDgC7wV",
        "outputId": "9ac9f9f0-a067-4624-dce5-0057bf98f574"
      },
      "execution_count": 2,
      "outputs": [
        {
          "output_type": "stream",
          "name": "stdout",
          "text": [
            "Collecting kiwipiepy\n",
            "  Downloading kiwipiepy-0.16.2-cp310-cp310-manylinux_2_17_x86_64.manylinux2014_x86_64.whl (2.8 MB)\n",
            "\u001b[2K     \u001b[90m━━━━━━━━━━━━━━━━━━━━━━━━━━━━━━━━━━━━━━━━\u001b[0m \u001b[32m2.8/2.8 MB\u001b[0m \u001b[31m11.0 MB/s\u001b[0m eta \u001b[36m0:00:00\u001b[0m\n",
            "\u001b[?25hCollecting kiwipiepy-model~=0.16 (from kiwipiepy)\n",
            "  Downloading kiwipiepy_model-0.16.0.tar.gz (30.8 MB)\n",
            "\u001b[2K     \u001b[90m━━━━━━━━━━━━━━━━━━━━━━━━━━━━━━━━━━━━━━━━\u001b[0m \u001b[32m30.8/30.8 MB\u001b[0m \u001b[31m35.2 MB/s\u001b[0m eta \u001b[36m0:00:00\u001b[0m\n",
            "\u001b[?25h  Preparing metadata (setup.py) ... \u001b[?25l\u001b[?25hdone\n",
            "Requirement already satisfied: numpy in /usr/local/lib/python3.10/dist-packages (from kiwipiepy) (1.23.5)\n",
            "Requirement already satisfied: tqdm in /usr/local/lib/python3.10/dist-packages (from kiwipiepy) (4.66.1)\n",
            "Building wheels for collected packages: kiwipiepy-model\n",
            "  Building wheel for kiwipiepy-model (setup.py) ... \u001b[?25l\u001b[?25hdone\n",
            "  Created wheel for kiwipiepy-model: filename=kiwipiepy_model-0.16.0-py3-none-any.whl size=30813256 sha256=b5500c61d8239295fdabddd21ee918785063f4c4850dbab3b33246b14e71f030\n",
            "  Stored in directory: /root/.cache/pip/wheels/6b/03/2b/ac2c97cc65ebd9df3516f4b900adc2f0a744df8d1375b2e2ef\n",
            "Successfully built kiwipiepy-model\n",
            "Installing collected packages: kiwipiepy-model, kiwipiepy\n",
            "Successfully installed kiwipiepy-0.16.2 kiwipiepy-model-0.16.0\n"
          ]
        }
      ]
    },
    {
      "cell_type": "code",
      "source": [
        "!pwd"
      ],
      "metadata": {
        "colab": {
          "base_uri": "https://localhost:8080/"
        },
        "id": "UWOZPIvefs2f",
        "outputId": "f8209e5c-b0ed-475d-9581-9874f54a344e"
      },
      "execution_count": 17,
      "outputs": [
        {
          "output_type": "stream",
          "name": "stdout",
          "text": [
            "/content\n"
          ]
        }
      ]
    },
    {
      "cell_type": "code",
      "source": [
        "!ls"
      ],
      "metadata": {
        "colab": {
          "base_uri": "https://localhost:8080/"
        },
        "id": "nm3uVCG1ft1h",
        "outputId": "6248411d-1137-400f-bed6-208acd96a8aa"
      },
      "execution_count": 18,
      "outputs": [
        {
          "output_type": "stream",
          "name": "stdout",
          "text": [
            "drive  sample_data\n"
          ]
        }
      ]
    },
    {
      "cell_type": "code",
      "source": [
        "%cd /content/drive/MyDrive/KOSSDA_텍스트마이닝_강의자료/강의자료/Day2/python_code"
      ],
      "metadata": {
        "colab": {
          "base_uri": "https://localhost:8080/"
        },
        "id": "ZKHSTIxlfvHQ",
        "outputId": "6e9e69be-cf23-47dc-ae38-24383b977ed9"
      },
      "execution_count": 19,
      "outputs": [
        {
          "output_type": "stream",
          "name": "stdout",
          "text": [
            "/content/drive/MyDrive/KOSSDA_텍스트마이닝_강의자료/강의자료/Day2/python_code\n"
          ]
        }
      ]
    },
    {
      "cell_type": "code",
      "execution_count": 3,
      "metadata": {
        "id": "-_r8YRXiCtr0"
      },
      "outputs": [],
      "source": [
        "# 키위 형태소 분석기 사용\n",
        "import re\n",
        "from kiwipiepy import Kiwi\n",
        "from kiwipiepy.utils import Stopwords\n",
        "kiwi = Kiwi()\n",
        "stopwords = Stopwords()\n",
        "\n",
        "# 사용자 정의 불용어를 키위 형태소 분석기의 불용어 사전에 추가하기\n",
        "customized_stopwords = ['재테크','배포','금지', '기자', '페이스북']\n",
        "for word in customized_stopwords:\n",
        "    stopwords.add((word, 'NNG'))\n",
        "\n",
        "# 전처리를 통해 명사 단어들 추출\n",
        "def Kr_preprocessing(text):\n",
        "    filtered_content = re.sub(r'[^\\s\\d\\w]','',text)\n",
        "    kiwi_tokens = kiwi.tokenize(filtered_content, stopwords=stopwords)\n",
        "    Noun_words = []\n",
        "    for token in kiwi_tokens:\n",
        "        if 'NN' in token.tag:\n",
        "            Noun_words.append(token.form)\n",
        "    # 길이가 1인 단어 제거 하기\n",
        "    final_Noun_words = []\n",
        "    for word in Noun_words:\n",
        "        if len(word)>1:\n",
        "            final_Noun_words.append(word)\n",
        "    return final_Noun_words"
      ]
    },
    {
      "cell_type": "code",
      "execution_count": 4,
      "metadata": {
        "id": "hMw3PJuyCtr6"
      },
      "outputs": [],
      "source": [
        "# 신문기사 내용 불러오기\n",
        "with open('/content/drive/MyDrive/KOSSDA_텍스트마이닝_강의자료/강의자료/Day1/python_code/Korean_news.txt', 'r', encoding='utf8') as f:\n",
        "    content = f.read()"
      ]
    },
    {
      "cell_type": "code",
      "execution_count": 5,
      "metadata": {
        "id": "CkWX8mabCtr6",
        "outputId": "fbdfc1bc-da29-480b-e8a8-38cb7560c4e8",
        "colab": {
          "base_uri": "https://localhost:8080/",
          "height": 178
        }
      },
      "outputs": [
        {
          "output_type": "execute_result",
          "data": {
            "text/plain": [
              "'아셈 계기 영국·독일·태국 정상회담…대북제재 완화 설득 가속화문재인 대통령이 18일 오후(현지시간) 바티칸 교황청을 방문해 프란치스코 교황과 악수하고 있다. (청와대 페이스북) 2018.10.18/뉴스1(바티칸=뉴스1) 조소영 기자 = 프란치스코 교황이 18일(현지시간) 문재인 대통령과의 만남에서 사실상 방북(訪北)의사를 밝힘에 따라 문 대통령의 \\'한반도 평화프로세스\\' 추진에 상당한 힘이 실리게 됐다. 문 대통령은 교황의 지지를 기반으로 제2차 북미정상회담의 신속한 개최를 촉구하고 국제사회에 북한의 비핵화를 촉진하기 위해선 대북제재 완화가 일정 정도 필요하다는 주장을 이어갈 것으로 보인다.문 대통령은 이날 오후 12시5분 바티칸 교황궁 내 교황서재에서 40분 동안 프란치스코 교황을 단독 예방했다. 교황과의 만남은 원활한 의사소통을 위한 통역 외에 배석자 없이 \\'비밀\\'로 이뤄진다는 원칙에 따라 이날 예방도 통역을 위해 자리한 한현택 신부 외 누구도 배석하지 않은 것으로 전해졌다.다만 사전에 청와대와 바티칸 사이 협의를 거쳐 이례적으로 면담의 주요내용이 공개됐다. 이에 따라 윤영찬 청와대 국민소통수석이 밝힌 데 따르면 교황은 문 대통령이 김정은 북한 국무위원장의 방북 초청 의사를 전하면서 \"김 위원장이 초청장을 보내도 좋겠느냐\"고 하자 \"공식 초청장을 보내주면 좋겠다\"고 했다.교황은 이어 \"초청장이 오면 무조건 응답을 줄 것이고 나는 갈 수 있다\"고 했다. \\'북한을 갈 수 있다\\'고 완벽히 언급하지는 않았지만 문맥상 이는 북한 땅을 밟겠다는 뜻으로 해석됐다. 교황은 그러면서 \"한반도에서 평화프로세스를 추진 중인 한국정부의 노력을 강력히 지지한다\"며 \"멈추지 말고 앞으로 나아가라. 두려워하지 말라\"고 하면서 이 해석에 힘을 보탰다.윤 수석은 \\'교황이 방북시점에 대한 언급은 없었느냐\\'는 데에 \"시점에 대해선 말이 없었다\"고 전했다. 이에 따라 한편에선 교황의 답이 원론적 의미가 아니냐는 풀이도 나오지만 교황이 방북 자체에 문을 열어뒀다는 데에 의의가 있다는 평이다.앞서 문 대통령이 추진하는 유럽에서의 한반도 평화프로세스 설득 작업은 주춤거리는 모양새가 감지됐었다. 문 대통령은 지난 15일 에마뉘엘 마크롱 프랑스 대통령과 만나 프랑스가 유엔 안보리 상임이사국으로서 대북제재 완화에 힘을 실어달라고 요청했지만 마크롱 대통령은 CVID(완전하고 불가역적이고 검증가능한 비핵화)를 강조하며 완곡한 거절의사를 밝힌 바 있다.하지만 17일 문 대통령이 한반도 평화를 위한 특별미사에 참석하고 특별연설을 하면서 \\'한반도 평화프로세스\\'가 한껏 탄력을 받은 데 이어 18일 바티칸에서 알현한 교황이 적극적으로 나서면서 국제사회가 영향을 받을 수밖에 없을 것으로 보인다. 전세계 인구의 17.7%인 12억8500만명의 신자를 보유한 가톨릭의 수장이 직접 나서기 때문에 파급력이 상당할 것이기 때문이다. 아울러 교황의 방북이 성사되면 역사상 처음으로 북한 땅을 밟는 교황이라는 상징성도 갖게 된다.문 대통령은 이러한 기세로 19일 벨기에 브뤼셀에서 열리는 제12차 아셈(ASEM·아시아-유럽정상회의)에서 영국과 독일, 태국 총리와 정상회담을 갖는다. 특히 영국, 독일 총리와 만나 대북제재 완화 등 한반도 평화프로세스 설득작업에 가속페달을 밟을 전망이다.영국은 미국, 프랑스, 러시아, 중국과 함께 유엔 안보리 상임이사국에 속한다. 이미 5차례 비상임이사국을 지낸 독일은 내년 안보리 비상임이사국(2020년까지)으로 선출돼 있다.silverpaper@news1.kr▶ 진짜 블록체인을 만나는 곳 \\'크립토허브\\' 오픈! ▶ 글로벌바이오포럼 2018 참가하기▶ 네이버 메인에서 [뉴스1]을 구독해주세요[© 뉴스1코리아(news1.kr), 무단 전재 및 재배포 금지]'"
            ],
            "application/vnd.google.colaboratory.intrinsic+json": {
              "type": "string"
            }
          },
          "metadata": {},
          "execution_count": 5
        }
      ],
      "source": [
        "content"
      ]
    },
    {
      "cell_type": "code",
      "execution_count": 6,
      "metadata": {
        "id": "j0LWSeFpCtr8"
      },
      "outputs": [],
      "source": [
        "# 전처리를 수행하여 불용어가 제거된 명사 단어들 추출\n",
        "final_nouns = Kr_preprocessing(content)"
      ]
    },
    {
      "cell_type": "code",
      "execution_count": 7,
      "metadata": {
        "id": "RMsguaTmCtr8",
        "outputId": "30bd5bac-6ae8-4146-a1f4-0c4dca1fda58",
        "colab": {
          "base_uri": "https://localhost:8080/"
        }
      },
      "outputs": [
        {
          "output_type": "stream",
          "name": "stdout",
          "text": [
            "['아셈', '계기', '영국', '독일', '태국', '정상', '회담', '대북', '제재', '완화', '설득', '가속', '문재인', '대통령', '오후', '현지', '시간', '바티칸', '교황청', '방문', '프란치스코', '교황', '악수', '청와대', '페이스북', '뉴스1', '바티칸', '뉴스', '소영', '프란치스코', '교황', '현지', '시간', '문재인', '대통령', '만남', '사실', '방북', '의사', '대통령', '한반도', '평화', '프로세스', '추진', '상당', '대통령', '교황', '지지', '기반', '북미', '정상', '회담', '신속', '개최', '촉구', '국제', '사회', '북한', '비핵', '촉진', '대북', '제재', '완화', '일정', '정도', '필요', '주장', '대통령', '이날', '오후', '바티칸', '교황', '교황', '서재', '동안', '프란치스코', '교황', '단독', '예방', '교황', '만남', '원활', '의사소통', '통역', '배석자', '비밀', '원칙', '이날', '예방', '통역', '자리', '한현택', '신부', '배석', '사전', '청와대', '바티칸', '사이', '협의', '이례', '면담', '주요', '내용', '공개', '윤영', '청와대', '국민', '소통', '수석', '교황', '대통령', '김정은', '북한', '국무', '위원장', '방북', '초청', '의사', '위원장', '초청장', '공식', '초청장', '교황', '초청장', '응답', '북한', '언급', '문맥', '북한', '해석', '교황', '한반도', '평화', '프로세스', '추진', '한국', '정부', '노력', '지지', '해석', '수석', '교황', '방북', '시점', '언급', '시점', '한편', '교황', '원론', '의미', '풀이', '교황', '방북', '자체', '의의', '대통령', '추진', '유럽', '한반도', '평화', '프로세스', '설득', '작업', '모양새', '감지', '대통령', '에마뉘엘', '마크롱', '프랑스', '대통령', '프랑스', '유엔', '안보리', '상임', '이사국', '대북', '제재', '완화', '요청', '마크롱', '대통령', '완전', '가역', '검증', '가능', '비핵', '강조', '거절', '의사', '대통령', '한반도', '평화', '특별', '미사', '참석', '특별', '연설', '한반도', '평화', '프로세스', '탄력', '바티칸', '알현', '교황', '적극', '국제', '사회', '영향', '세계', '인구', '신자', '보유', '가톨릭', '수장', '파급력', '상당', '교황', '방북', '성사', '역사', '처음', '북한', '교황', '상징', '대통령', '기세', '벨기에', '브뤼셀', '아셈', '아시아', '유럽', '정상', '회의', '영국', '독일', '태국', '총리', '정상', '회담', '영국', '독일', '총리', '대북', '제재', '완화', '한반도', '평화', '프로세스', '설득', '작업', '가속', '페달', '전망', '영국', '미국', '프랑스', '러시아', '중국', '유엔', '안보리', '상임', '이사국', '차례', '상임', '이사국', '독일', '내년', '안보리', '상임', '이사국', '선출', '블록체인', '크립토허브', '오픈', '글로벌', '바이오', '포럼', '참가', '하기', '네이버', '메인', '뉴스1', '구독', '뉴스1', '코리아', '무단', '전재']\n"
          ]
        }
      ],
      "source": [
        "print(final_nouns)"
      ]
    },
    {
      "cell_type": "markdown",
      "metadata": {
        "id": "B52qS_aOCtr8"
      },
      "source": [
        "# 단어 선택하기"
      ]
    },
    {
      "cell_type": "code",
      "execution_count": 8,
      "metadata": {
        "id": "XIajwJD7Ctr9"
      },
      "outputs": [],
      "source": [
        "from collections import Counter\n",
        "c = Counter(final_nouns)"
      ]
    },
    {
      "cell_type": "code",
      "execution_count": 9,
      "metadata": {
        "id": "Udp_mrKrCtr9",
        "outputId": "293022bb-88a3-448b-fcb8-e5e8be24a827",
        "colab": {
          "base_uri": "https://localhost:8080/"
        }
      },
      "outputs": [
        {
          "output_type": "execute_result",
          "data": {
            "text/plain": [
              "[('교황', 16),\n",
              " ('대통령', 12),\n",
              " ('한반도', 6),\n",
              " ('평화', 6),\n",
              " ('바티칸', 5),\n",
              " ('방북', 5),\n",
              " ('프로세스', 5),\n",
              " ('북한', 5),\n",
              " ('영국', 4),\n",
              " ('독일', 4)]"
            ]
          },
          "metadata": {},
          "execution_count": 9
        }
      ],
      "source": [
        "# 빈도 기준 상위 10개 단어들\n",
        "c.most_common(10)"
      ]
    },
    {
      "cell_type": "code",
      "execution_count": 10,
      "metadata": {
        "id": "K7ZAP7rSCtr-"
      },
      "outputs": [],
      "source": [
        "# Counter 클래스를 이용한 빈도 분석 결과물로부터 10개 단어 추출\n",
        "def get_words(counter_results):\n",
        "    words = []\n",
        "    for word, fre in counter_results:\n",
        "        words.append(word)\n",
        "    return words"
      ]
    },
    {
      "cell_type": "code",
      "execution_count": 11,
      "metadata": {
        "id": "gJhT8RTICtsA"
      },
      "outputs": [],
      "source": [
        "# 빈도 분석 결과물로부터 단어들만 추출\n",
        "selected_words = get_words(c.most_common(10))"
      ]
    },
    {
      "cell_type": "code",
      "execution_count": 12,
      "metadata": {
        "id": "Gl_-ehmbCtsB",
        "outputId": "cbdcb274-bb1a-4fcf-cda3-87ebf06b80fa",
        "colab": {
          "base_uri": "https://localhost:8080/"
        }
      },
      "outputs": [
        {
          "output_type": "execute_result",
          "data": {
            "text/plain": [
              "['교황', '대통령', '한반도', '평화', '바티칸', '방북', '프로세스', '북한', '영국', '독일']"
            ]
          },
          "metadata": {},
          "execution_count": 12
        }
      ],
      "source": [
        "selected_words"
      ]
    },
    {
      "cell_type": "code",
      "execution_count": 13,
      "metadata": {
        "id": "eTu4KwgQCtsB"
      },
      "outputs": [],
      "source": [
        "#selected_words = ['교황', '한반도', '북한', '영국', '독일'] # You can selected a list of words based on other criterion"
      ]
    },
    {
      "cell_type": "markdown",
      "metadata": {
        "id": "GFIRaIdBCtsC"
      },
      "source": [
        "# 문장 단위로 쪼개기"
      ]
    },
    {
      "cell_type": "code",
      "execution_count": 14,
      "metadata": {
        "id": "prINeYnKCtsC"
      },
      "outputs": [],
      "source": [
        "# 텍스트 데이터를 문장 단위로 분할하고, 각 문장에 대해서 전처리 수행\n",
        "def get_sentences(content):\n",
        "    text1 = re.sub(r'[^\\.\\?\\!\\s\\w\\d]', ' ', content)\n",
        "    text1 = re.sub(r'([\\.\\?\\!])',r'\\1 ', text1)\n",
        "    sentences = re.split(r'[\\.\\?\\!]\\s+', text1)\n",
        "    sentences = [Kr_preprocessing(sentence) for sentence in sentences if len(sentence)>0]\n",
        "    return sentences"
      ]
    },
    {
      "cell_type": "code",
      "execution_count": 15,
      "metadata": {
        "id": "pzLx4ipvCtsC"
      },
      "outputs": [],
      "source": [
        "sentences = get_sentences(content)"
      ]
    },
    {
      "cell_type": "markdown",
      "metadata": {
        "id": "BVnQm1KcCtsC"
      },
      "source": [
        "# 네트워크 생성"
      ]
    },
    {
      "cell_type": "code",
      "execution_count": 20,
      "metadata": {
        "id": "SLx5QVgfCtsD"
      },
      "outputs": [],
      "source": [
        "# 네트워크 생성\n",
        "import networkx as nx\n",
        "from Kr_na import do_na\n",
        "g = do_na(sentences, selected_words)"
      ]
    },
    {
      "cell_type": "code",
      "execution_count": 21,
      "metadata": {
        "id": "-w_U-qElCtsD",
        "outputId": "90e237f9-381c-4718-b70f-872977eb26b4",
        "colab": {
          "base_uri": "https://localhost:8080/"
        }
      },
      "outputs": [
        {
          "output_type": "execute_result",
          "data": {
            "text/plain": [
              "NodeView(('교황', '대통령', '한반도', '평화', '바티칸', '방북', '프로세스', '북한', '영국', '독일'))"
            ]
          },
          "metadata": {},
          "execution_count": 21
        }
      ],
      "source": [
        "g.nodes()"
      ]
    },
    {
      "cell_type": "code",
      "execution_count": 22,
      "metadata": {
        "id": "RUbkV08UCtsD",
        "outputId": "2b09f2b5-3b61-4846-e3cd-40fecfa47800",
        "colab": {
          "base_uri": "https://localhost:8080/"
        }
      },
      "outputs": [
        {
          "output_type": "execute_result",
          "data": {
            "text/plain": [
              "AtlasView({'교황': {'weight': 3}, '대통령': {'weight': 2}, '방북': {'weight': 2}})"
            ]
          },
          "metadata": {},
          "execution_count": 22
        }
      ],
      "source": [
        "g['북한']"
      ]
    },
    {
      "cell_type": "code",
      "execution_count": 23,
      "metadata": {
        "id": "3g-zF7stCtsD",
        "outputId": "52c9101e-509f-441a-8788-14c55b052e34",
        "colab": {
          "base_uri": "https://localhost:8080/"
        }
      },
      "outputs": [
        {
          "output_type": "execute_result",
          "data": {
            "text/plain": [
              "AtlasView({'바티칸': {'weight': 4}, '교황': {'weight': 6}, '영국': {'weight': 2}, '독일': {'weight': 2}, '방북': {'weight': 2}, '한반도': {'weight': 3}, '평화': {'weight': 3}, '프로세스': {'weight': 3}, '북한': {'weight': 2}})"
            ]
          },
          "metadata": {},
          "execution_count": 23
        }
      ],
      "source": [
        "g['대통령']"
      ]
    },
    {
      "cell_type": "code",
      "execution_count": 26,
      "metadata": {
        "id": "CGLZV4fsCtsE",
        "outputId": "e3c9929f-1b31-4051-fa68-e8ded3d12a55",
        "colab": {
          "base_uri": "https://localhost:8080/",
          "height": 1000
        }
      },
      "outputs": [
        {
          "output_type": "stream",
          "name": "stderr",
          "text": [
            "WARNING:matplotlib.font_manager:findfont: Font family 'Malgun Gothic' not found.\n",
            "WARNING:matplotlib.font_manager:findfont: Font family 'Malgun Gothic' not found.\n",
            "/usr/local/lib/python3.10/dist-packages/IPython/core/pylabtools.py:151: UserWarning: Glyph 44368 (\\N{HANGUL SYLLABLE GYO}) missing from current font.\n",
            "  fig.canvas.print_figure(bytes_io, **kw)\n",
            "/usr/local/lib/python3.10/dist-packages/IPython/core/pylabtools.py:151: UserWarning: Glyph 54889 (\\N{HANGUL SYLLABLE HWANG}) missing from current font.\n",
            "  fig.canvas.print_figure(bytes_io, **kw)\n",
            "WARNING:matplotlib.font_manager:findfont: Font family 'Malgun Gothic' not found.\n",
            "/usr/local/lib/python3.10/dist-packages/IPython/core/pylabtools.py:151: UserWarning: Glyph 45824 (\\N{HANGUL SYLLABLE DAE}) missing from current font.\n",
            "  fig.canvas.print_figure(bytes_io, **kw)\n",
            "/usr/local/lib/python3.10/dist-packages/IPython/core/pylabtools.py:151: UserWarning: Glyph 53685 (\\N{HANGUL SYLLABLE TONG}) missing from current font.\n",
            "  fig.canvas.print_figure(bytes_io, **kw)\n",
            "/usr/local/lib/python3.10/dist-packages/IPython/core/pylabtools.py:151: UserWarning: Glyph 47161 (\\N{HANGUL SYLLABLE RYEONG}) missing from current font.\n",
            "  fig.canvas.print_figure(bytes_io, **kw)\n",
            "WARNING:matplotlib.font_manager:findfont: Font family 'Malgun Gothic' not found.\n",
            "/usr/local/lib/python3.10/dist-packages/IPython/core/pylabtools.py:151: UserWarning: Glyph 54620 (\\N{HANGUL SYLLABLE HAN}) missing from current font.\n",
            "  fig.canvas.print_figure(bytes_io, **kw)\n",
            "/usr/local/lib/python3.10/dist-packages/IPython/core/pylabtools.py:151: UserWarning: Glyph 48152 (\\N{HANGUL SYLLABLE BAN}) missing from current font.\n",
            "  fig.canvas.print_figure(bytes_io, **kw)\n",
            "/usr/local/lib/python3.10/dist-packages/IPython/core/pylabtools.py:151: UserWarning: Glyph 46020 (\\N{HANGUL SYLLABLE DO}) missing from current font.\n",
            "  fig.canvas.print_figure(bytes_io, **kw)\n",
            "WARNING:matplotlib.font_manager:findfont: Font family 'Malgun Gothic' not found.\n",
            "/usr/local/lib/python3.10/dist-packages/IPython/core/pylabtools.py:151: UserWarning: Glyph 54217 (\\N{HANGUL SYLLABLE PYEONG}) missing from current font.\n",
            "  fig.canvas.print_figure(bytes_io, **kw)\n",
            "/usr/local/lib/python3.10/dist-packages/IPython/core/pylabtools.py:151: UserWarning: Glyph 54868 (\\N{HANGUL SYLLABLE HWA}) missing from current font.\n",
            "  fig.canvas.print_figure(bytes_io, **kw)\n",
            "WARNING:matplotlib.font_manager:findfont: Font family 'Malgun Gothic' not found.\n",
            "/usr/local/lib/python3.10/dist-packages/IPython/core/pylabtools.py:151: UserWarning: Glyph 48148 (\\N{HANGUL SYLLABLE BA}) missing from current font.\n",
            "  fig.canvas.print_figure(bytes_io, **kw)\n",
            "/usr/local/lib/python3.10/dist-packages/IPython/core/pylabtools.py:151: UserWarning: Glyph 54000 (\\N{HANGUL SYLLABLE TI}) missing from current font.\n",
            "  fig.canvas.print_figure(bytes_io, **kw)\n",
            "/usr/local/lib/python3.10/dist-packages/IPython/core/pylabtools.py:151: UserWarning: Glyph 52856 (\\N{HANGUL SYLLABLE KAN}) missing from current font.\n",
            "  fig.canvas.print_figure(bytes_io, **kw)\n",
            "WARNING:matplotlib.font_manager:findfont: Font family 'Malgun Gothic' not found.\n",
            "/usr/local/lib/python3.10/dist-packages/IPython/core/pylabtools.py:151: UserWarning: Glyph 48169 (\\N{HANGUL SYLLABLE BANG}) missing from current font.\n",
            "  fig.canvas.print_figure(bytes_io, **kw)\n",
            "/usr/local/lib/python3.10/dist-packages/IPython/core/pylabtools.py:151: UserWarning: Glyph 48513 (\\N{HANGUL SYLLABLE BUG}) missing from current font.\n",
            "  fig.canvas.print_figure(bytes_io, **kw)\n",
            "WARNING:matplotlib.font_manager:findfont: Font family 'Malgun Gothic' not found.\n",
            "/usr/local/lib/python3.10/dist-packages/IPython/core/pylabtools.py:151: UserWarning: Glyph 54532 (\\N{HANGUL SYLLABLE PEU}) missing from current font.\n",
            "  fig.canvas.print_figure(bytes_io, **kw)\n",
            "/usr/local/lib/python3.10/dist-packages/IPython/core/pylabtools.py:151: UserWarning: Glyph 47196 (\\N{HANGUL SYLLABLE RO}) missing from current font.\n",
            "  fig.canvas.print_figure(bytes_io, **kw)\n",
            "/usr/local/lib/python3.10/dist-packages/IPython/core/pylabtools.py:151: UserWarning: Glyph 49464 (\\N{HANGUL SYLLABLE SE}) missing from current font.\n",
            "  fig.canvas.print_figure(bytes_io, **kw)\n",
            "/usr/local/lib/python3.10/dist-packages/IPython/core/pylabtools.py:151: UserWarning: Glyph 49828 (\\N{HANGUL SYLLABLE SEU}) missing from current font.\n",
            "  fig.canvas.print_figure(bytes_io, **kw)\n",
            "WARNING:matplotlib.font_manager:findfont: Font family 'Malgun Gothic' not found.\n",
            "WARNING:matplotlib.font_manager:findfont: Font family 'Malgun Gothic' not found.\n",
            "/usr/local/lib/python3.10/dist-packages/IPython/core/pylabtools.py:151: UserWarning: Glyph 50689 (\\N{HANGUL SYLLABLE YEONG}) missing from current font.\n",
            "  fig.canvas.print_figure(bytes_io, **kw)\n",
            "/usr/local/lib/python3.10/dist-packages/IPython/core/pylabtools.py:151: UserWarning: Glyph 44397 (\\N{HANGUL SYLLABLE GUG}) missing from current font.\n",
            "  fig.canvas.print_figure(bytes_io, **kw)\n",
            "WARNING:matplotlib.font_manager:findfont: Font family 'Malgun Gothic' not found.\n",
            "/usr/local/lib/python3.10/dist-packages/IPython/core/pylabtools.py:151: UserWarning: Glyph 46021 (\\N{HANGUL SYLLABLE DOG}) missing from current font.\n",
            "  fig.canvas.print_figure(bytes_io, **kw)\n",
            "/usr/local/lib/python3.10/dist-packages/IPython/core/pylabtools.py:151: UserWarning: Glyph 51068 (\\N{HANGUL SYLLABLE IL}) missing from current font.\n",
            "  fig.canvas.print_figure(bytes_io, **kw)\n",
            "WARNING:matplotlib.font_manager:findfont: Font family 'Malgun Gothic' not found.\n",
            "WARNING:matplotlib.font_manager:findfont: Font family 'Malgun Gothic' not found.\n",
            "WARNING:matplotlib.font_manager:findfont: Font family 'Malgun Gothic' not found.\n",
            "WARNING:matplotlib.font_manager:findfont: Font family 'Malgun Gothic' not found.\n",
            "WARNING:matplotlib.font_manager:findfont: Font family 'Malgun Gothic' not found.\n",
            "WARNING:matplotlib.font_manager:findfont: Font family 'Malgun Gothic' not found.\n",
            "WARNING:matplotlib.font_manager:findfont: Font family 'Malgun Gothic' not found.\n",
            "WARNING:matplotlib.font_manager:findfont: Font family 'Malgun Gothic' not found.\n",
            "WARNING:matplotlib.font_manager:findfont: Font family 'Malgun Gothic' not found.\n",
            "WARNING:matplotlib.font_manager:findfont: Font family 'Malgun Gothic' not found.\n",
            "WARNING:matplotlib.font_manager:findfont: Font family 'Malgun Gothic' not found.\n",
            "WARNING:matplotlib.font_manager:findfont: Font family 'Malgun Gothic' not found.\n",
            "WARNING:matplotlib.font_manager:findfont: Font family 'Malgun Gothic' not found.\n",
            "WARNING:matplotlib.font_manager:findfont: Font family 'Malgun Gothic' not found.\n",
            "WARNING:matplotlib.font_manager:findfont: Font family 'Malgun Gothic' not found.\n",
            "WARNING:matplotlib.font_manager:findfont: Font family 'Malgun Gothic' not found.\n",
            "WARNING:matplotlib.font_manager:findfont: Font family 'Malgun Gothic' not found.\n",
            "WARNING:matplotlib.font_manager:findfont: Font family 'Malgun Gothic' not found.\n",
            "WARNING:matplotlib.font_manager:findfont: Font family 'Malgun Gothic' not found.\n",
            "WARNING:matplotlib.font_manager:findfont: Font family 'Malgun Gothic' not found.\n",
            "WARNING:matplotlib.font_manager:findfont: Font family 'Malgun Gothic' not found.\n"
          ]
        },
        {
          "output_type": "display_data",
          "data": {
            "text/plain": [
              "<Figure size 640x480 with 1 Axes>"
            ],
            "image/png": "[encoded data removed]"
          },
          "metadata": {}
        }
      ],
      "source": [
        "import matplotlib.pyplot as plt\n",
        "import matplotlib.font_manager as fm\n",
        "from matplotlib import rc\n",
        "font_name = fm.FontProperties(fname=\"/content/drive/MyDrive/KOSSDA_텍스트마이닝_강의자료/강의자료/Day2/python_code/malgun.ttf\").get_name()\n",
        "rc('font', family=font_name)\n",
        "# 맥의 경우, /Library/Fonts 또는 /System/Library/Fonts 에 있는 한글 폰트 사용\n",
        "\n",
        "pos=nx.shell_layout(g)\n",
        "nx.draw_shell(g)\n",
        "nx.draw_networkx_labels(g,pos,font_family=font_name,font_size=10)\n",
        "plt.show()"
      ]
    },
    {
      "cell_type": "code",
      "execution_count": 27,
      "metadata": {
        "id": "3L48H_LVCtsF"
      },
      "outputs": [],
      "source": [
        "nx.write_graphml(g, 'test_kr.graphml')"
      ]
    },
    {
      "cell_type": "markdown",
      "metadata": {
        "id": "o9UPenOmCtsF"
      },
      "source": [
        "## 중심도 계산하기"
      ]
    },
    {
      "cell_type": "code",
      "execution_count": 28,
      "metadata": {
        "id": "EUqXdvqlCtsF",
        "outputId": "fe65cc1e-9929-4f18-9f0b-c41f979ff89b",
        "colab": {
          "base_uri": "https://localhost:8080/"
        }
      },
      "outputs": [
        {
          "output_type": "execute_result",
          "data": {
            "text/plain": [
              "[('교황', 1.0),\n",
              " ('대통령', 1.0),\n",
              " ('한반도', 0.8888888888888888),\n",
              " ('평화', 0.8888888888888888),\n",
              " ('바티칸', 0.8888888888888888),\n",
              " ('프로세스', 0.8888888888888888),\n",
              " ('방북', 0.7777777777777777),\n",
              " ('영국', 0.7777777777777777),\n",
              " ('독일', 0.7777777777777777),\n",
              " ('북한', 0.3333333333333333)]"
            ]
          },
          "metadata": {},
          "execution_count": 28
        }
      ],
      "source": [
        "# 디그리 중심도\n",
        "sorted(nx.degree_centrality(g).items(), key=lambda x:x[1],reverse=True)"
      ]
    },
    {
      "cell_type": "code",
      "execution_count": 29,
      "metadata": {
        "id": "KZkFWCNuCtsF",
        "outputId": "77689063-823d-4598-c654-e64ace3f92e9",
        "colab": {
          "base_uri": "https://localhost:8080/"
        }
      },
      "outputs": [
        {
          "output_type": "execute_result",
          "data": {
            "text/plain": [
              "[('교황', 0.07407407407407408),\n",
              " ('대통령', 0.07407407407407408),\n",
              " ('방북', 0.037037037037037035),\n",
              " ('한반도', 0.009259259259259259),\n",
              " ('평화', 0.009259259259259259),\n",
              " ('바티칸', 0.009259259259259259),\n",
              " ('프로세스', 0.009259259259259259),\n",
              " ('북한', 0.0),\n",
              " ('영국', 0.0),\n",
              " ('독일', 0.0)]"
            ]
          },
          "metadata": {},
          "execution_count": 29
        }
      ],
      "source": [
        "# 매개 중심도\n",
        "sorted(nx.betweenness_centrality(g).items(), key=lambda x:x[1],reverse=True)"
      ]
    },
    {
      "cell_type": "code",
      "execution_count": 30,
      "metadata": {
        "id": "hoFuB0sNCtsG",
        "outputId": "6ac2f2e6-a63c-4dd1-8564-06072d97b973",
        "colab": {
          "base_uri": "https://localhost:8080/"
        }
      },
      "outputs": [
        {
          "output_type": "execute_result",
          "data": {
            "text/plain": [
              "[('교황', 1.0),\n",
              " ('대통령', 1.0),\n",
              " ('한반도', 0.9),\n",
              " ('평화', 0.9),\n",
              " ('바티칸', 0.9),\n",
              " ('프로세스', 0.9),\n",
              " ('방북', 0.8181818181818182),\n",
              " ('영국', 0.8181818181818182),\n",
              " ('독일', 0.8181818181818182),\n",
              " ('북한', 0.6)]"
            ]
          },
          "metadata": {},
          "execution_count": 30
        }
      ],
      "source": [
        "# 근접 중심도\n",
        "sorted(nx.closeness_centrality(g).items(), key=lambda x:x[1],reverse=True)"
      ]
    },
    {
      "cell_type": "code",
      "execution_count": 30,
      "metadata": {
        "id": "-miwmzheCtsG"
      },
      "outputs": [],
      "source": []
    }
  ],
  "metadata": {
    "kernelspec": {
      "display_name": "Python 3 (ipykernel)",
      "language": "python",
      "name": "python3"
    },
    "language_info": {
      "codemirror_mode": {
        "name": "ipython",
        "version": 3
      },
      "file_extension": ".py",
      "mimetype": "text/x-python",
      "name": "python",
      "nbconvert_exporter": "python",
      "pygments_lexer": "ipython3",
      "version": "3.9.13"
    },
    "colab": {
      "provenance": [],
      "include_colab_link": true
    }
  },
  "nbformat": 4,
  "nbformat_minor": 0
}