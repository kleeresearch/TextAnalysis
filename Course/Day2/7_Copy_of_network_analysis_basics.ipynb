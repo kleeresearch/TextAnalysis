{
  "cells": [
    {
      "cell_type": "markdown",
      "metadata": {
        "id": "view-in-github",
        "colab_type": "text"
      },
      "source": [
        "<a href=\"https://colab.research.google.com/github/kleeresearch/TextAnalysis/blob/master/Course/Day2/7_Copy_of_network_analysis_basics.ipynb\" target=\"_parent\"><img src=\"https://colab.research.google.com/assets/colab-badge.svg\" alt=\"Open In Colab\"/></a>"
      ]
    },
    {
      "cell_type": "markdown",
      "source": [
        "네트워크 분석을 위해 3가지 작업 수행\n",
        "1. create a network\n",
        "2. nodes\n",
        "3. edges"
      ],
      "metadata": {
        "id": "Gso50A7ShZ0X"
      }
    },
    {
      "cell_type": "code",
      "execution_count": 7,
      "metadata": {
        "id": "FMsKF3MZhGPZ"
      },
      "outputs": [],
      "source": [
        "import networkx as nx\n",
        "import matplotlib.pyplot as plt"
      ]
    },
    {
      "cell_type": "markdown",
      "source": [
        "Graph 펑션을 사용."
      ],
      "metadata": {
        "id": "AZsgkkkFhiZX"
      }
    },
    {
      "cell_type": "code",
      "execution_count": 8,
      "metadata": {
        "id": "p4vTWnKBhGPb"
      },
      "outputs": [],
      "source": [
        "# Greate an empty graph\n",
        "g = nx.Graph()"
      ]
    },
    {
      "cell_type": "markdown",
      "source": [
        "노드를 추가한다. 추가 방법 2가지.\n",
        "1. 한 번에 하나의 노드를 추가하는 방법 - 이름이 1인 노드를 추가한다.\n",
        "2. 한 번에 여러개의 노드를 추가하는 방법 - add_nodes_from으로 리스트 데이터 추가\n",
        "- 1,2,3,4,5,6 노드를 한 번에 추가하겠다."
      ],
      "metadata": {
        "id": "FEr5AxoXhme9"
      }
    },
    {
      "cell_type": "code",
      "execution_count": 9,
      "metadata": {
        "id": "mUXADcvshGPb"
      },
      "outputs": [],
      "source": [
        "g.add_nodes_from([1,2,3,4,5,6]) # Add nodes from a list\n",
        "#g.add_node(1)"
      ]
    },
    {
      "cell_type": "markdown",
      "source": [
        "nodes 펑션을 적용해보면 해당 네트워크에 포함되어 있는 노드의 정보가 나온다."
      ],
      "metadata": {
        "id": "X_MfBPOdiDSg"
      }
    },
    {
      "cell_type": "code",
      "execution_count": 10,
      "metadata": {
        "id": "rEWIceVZhGPc",
        "outputId": "0a61a65d-ef62-4cad-ee8f-7ad9fbd0564b",
        "colab": {
          "base_uri": "https://localhost:8080/"
        }
      },
      "outputs": [
        {
          "output_type": "execute_result",
          "data": {
            "text/plain": [
              "NodeView((1, 2, 3, 4, 5, 6))"
            ]
          },
          "metadata": {},
          "execution_count": 10
        }
      ],
      "source": [
        "g.nodes()"
      ]
    },
    {
      "cell_type": "markdown",
      "source": [
        "특정 네트워크에 포함되어 있는 edge 펑션을 적용해 볼 수 있다.\n",
        "아무것도 없는 결과가 나온다.\n",
        "왜냐하면 노드 정보만 있고 엣지 정보는 추가하지 않았기 때문이다."
      ],
      "metadata": {
        "id": "I_cW7rbViLif"
      }
    },
    {
      "cell_type": "code",
      "execution_count": 11,
      "metadata": {
        "id": "fSryzzuohGPd",
        "outputId": "8319020a-4fab-43af-e55d-821a40310886",
        "colab": {
          "base_uri": "https://localhost:8080/"
        }
      },
      "outputs": [
        {
          "output_type": "execute_result",
          "data": {
            "text/plain": [
              "EdgeView([])"
            ]
          },
          "metadata": {},
          "execution_count": 11
        }
      ],
      "source": [
        "g.edges()"
      ]
    },
    {
      "cell_type": "markdown",
      "source": [
        "엣지를 추가하는 방법도 노드와 마찬가지로 2가지 방법\n",
        "1. 한 번에 하나의 엣지 추가\n",
        "2. 한 번에 여러개의 엣지 추가\n",
        "- add_edges_from 으로 리스트 데이터 추가\n",
        "- (1,3)은 1번 노드와 3번 노드 사이에 존재하는 엣지를 추가하겠다 의미."
      ],
      "metadata": {
        "id": "NwhnK4STiU4t"
      }
    },
    {
      "cell_type": "code",
      "execution_count": 25,
      "metadata": {
        "id": "h34rH0uuhGPd"
      },
      "outputs": [],
      "source": [
        "# Add egdes from a list\n",
        "g.add_edges_from([(1,3), (2,4), (2,5), (2,6), (3,4), (4,6), (5,6)])\n",
        "#g.add_edge(1,3)"
      ]
    },
    {
      "cell_type": "code",
      "execution_count": 26,
      "metadata": {
        "id": "dIcAbTymhGPe",
        "outputId": "0898f116-c31e-4d39-9fa3-f8918255e2be",
        "colab": {
          "base_uri": "https://localhost:8080/"
        }
      },
      "outputs": [
        {
          "output_type": "stream",
          "name": "stdout",
          "text": [
            "[1, 2, 3, 4, 5, 6]\n",
            "[(1, 3), (2, 4), (2, 5), (2, 6), (3, 4), (4, 6), (5, 6)]\n"
          ]
        }
      ],
      "source": [
        "print(g.nodes())\n",
        "print(g.edges())"
      ]
    },
    {
      "cell_type": "markdown",
      "source": [
        "1번과 3번 사이에 존재하는 엣지, 2번과 4번 사이에 존재하는 엣지, 등등 한번에 여러개의 엣지를 추가할 수 있다. g 라는 그래프 안에 존재하는 노드와 엣지의 정보를 확인할 수 있다. 해당 그래프 안에 존재하는 엣지 정보가 될 수 있다."
      ],
      "metadata": {
        "id": "hbatl2CAjAtu"
      }
    },
    {
      "cell_type": "code",
      "execution_count": 27,
      "metadata": {
        "id": "7uPM3DhnhGPe",
        "outputId": "70e12e80-5eaf-4fb2-c6f3-f95545015dfb",
        "colab": {
          "base_uri": "https://localhost:8080/"
        }
      },
      "outputs": [
        {
          "output_type": "stream",
          "name": "stdout",
          "text": [
            "6\n",
            "7\n"
          ]
        }
      ],
      "source": [
        "# basic calculations\n",
        "print(g.number_of_nodes()) # number of nodes\n",
        "print(g.number_of_edges()) # number of edges"
      ]
    },
    {
      "cell_type": "markdown",
      "source": [
        "6개의 노드와 7개의 엣지가 있다."
      ],
      "metadata": {
        "id": "Oq8AK14qjgM9"
      }
    },
    {
      "cell_type": "markdown",
      "source": [
        "특정 노드에 대한 정보는 숫자를 입력해주변 된다. 노드 3에 대한 정보를 입력해서 확인해 본다."
      ],
      "metadata": {
        "id": "abwDCG5kjoRM"
      }
    },
    {
      "cell_type": "code",
      "execution_count": 28,
      "metadata": {
        "id": "PKKrCq2jhGPe",
        "outputId": "66ecc165-1e18-446b-fce2-2586109977bd",
        "colab": {
          "base_uri": "https://localhost:8080/"
        }
      },
      "outputs": [
        {
          "output_type": "execute_result",
          "data": {
            "text/plain": [
              "AtlasView({1: {'weight': 3}, 4: {'weight': 2}})"
            ]
          },
          "metadata": {},
          "execution_count": 28
        }
      ],
      "source": [
        "g[3]"
      ]
    },
    {
      "cell_type": "markdown",
      "source": [
        "1번 노드와 4번 노드 정보가 나왔다."
      ],
      "metadata": {
        "id": "krbnVZ52j1CE"
      }
    },
    {
      "cell_type": "code",
      "execution_count": 29,
      "metadata": {
        "id": "7qh9CKWXhGPe",
        "outputId": "47553334-a4be-4cbf-e8ce-6ceb1a37f140",
        "colab": {
          "base_uri": "https://localhost:8080/"
        }
      },
      "outputs": [
        {
          "output_type": "execute_result",
          "data": {
            "text/plain": [
              "[2, 6]"
            ]
          },
          "metadata": {},
          "execution_count": 29
        }
      ],
      "source": [
        "list(g.neighbors(5))"
      ]
    },
    {
      "cell_type": "markdown",
      "source": [
        "5번 노드의 정보가 이웃 노드의 목록인 2번 노드와 6번 노드 정보를 확인할 수 있다."
      ],
      "metadata": {
        "id": "2SLyrxN-kRNB"
      }
    },
    {
      "cell_type": "markdown",
      "source": [
        "시각화를 위해서는 draw_networkx 펑션을 사용하면 된다."
      ],
      "metadata": {
        "id": "hasStnDWkWBK"
      }
    },
    {
      "cell_type": "markdown",
      "source": [
        "install gephi 에 관한 것.\n"
      ],
      "metadata": {
        "id": "UwsB5GYikyWy"
      }
    },
    {
      "cell_type": "code",
      "execution_count": 17,
      "metadata": {
        "id": "pPsOIgClhGPf",
        "outputId": "4cea0533-3edf-494a-df19-0171a76e364a",
        "colab": {
          "base_uri": "https://localhost:8080/",
          "height": 406
        }
      },
      "outputs": [
        {
          "output_type": "display_data",
          "data": {
            "text/plain": [
              "<Figure size 640x480 with 1 Axes>"
            ],
            "image/png": "[encoded data removed]"
          },
          "metadata": {}
        }
      ],
      "source": [
        "# networkX를 이용해서 시각화 하기\n",
        "nx.draw_networkx(g)\n",
        "plt.show()"
      ]
    },
    {
      "cell_type": "markdown",
      "source": [
        "gephi는 시각화 목적으로 사용한다.\n",
        "\n",
        "gephi를 맥/윈도우에서 다운 받는다. install gephi 구글링\n",
        "\n",
        "gephi에 맞는 파일로 다운 받은 다음에 나머지를 gephi에서 작업한다."
      ],
      "metadata": {
        "id": "an9hW-3MmdnU"
      }
    },
    {
      "cell_type": "code",
      "execution_count": 42,
      "metadata": {
        "id": "LeAxwXhwhGPg"
      },
      "outputs": [],
      "source": [
        "# graphML 파일로 저장하기 -> Gephi에서 불러오기\n",
        "nx.write_graphml(g, '../test.graphml')"
      ]
    },
    {
      "cell_type": "markdown",
      "source": [
        "test.graphml이라는  파일이 생성되었다."
      ],
      "metadata": {
        "id": "E77ORWPGm80S"
      }
    },
    {
      "cell_type": "markdown",
      "source": [
        "노드가 가지는 속성\n",
        "\n",
        "- 사람 (키, 몸무게, 성별, 정치 성향) 등에 따라 노드 다르게 설정 가능. 속성 유형에 따라 사용하는 방법이 다름. 속성의 종류는 2가지로 구분 가능.\n",
        "    - 명목변수에 해당하는 속성(유한, 특정그룹의 이름 의미): 성별(남,녀), 정치 성향\n",
        "    - 연속변수에 해당하는 속성(무한): 키, 몸무게\n",
        "- 명목변수 변경할 때 - 파티션 방법 사용\n",
        "- 연속변수 변경할 때 - 랭킹 방법 사용\n",
        "\n",
        "어떠한 변수에 속성을 임시적으로 입력하지 않았음. 각각의 노드가 하나의 속성 정보를 기본으로 가지게 된다. 이웃 노드의 수다. 이웃 노드의 수라는 속성을 추가하지 않아도 네트워크를 통해 다른 노드의 수를 파악할 수 있다. 그러한 정보가 각각의 노드에 기보적 속성으로 저장이 된다. 네트워크 분석에서는 이웃 노드의 수를 degree라고 한다."
      ],
      "metadata": {
        "id": "nTBe1f9xptvB"
      }
    },
    {
      "cell_type": "code",
      "execution_count": 31,
      "metadata": {
        "id": "YQDTH_6ThGPg"
      },
      "outputs": [],
      "source": [
        "# Add node attributes\n",
        "g.nodes[1]['gender']='male'\n",
        "g.nodes[2]['gender']='female'\n",
        "g.nodes[3]['gender']='male'\n",
        "g.nodes[4]['gender']='female'\n",
        "g.nodes[5]['gender']='male'\n",
        "g.nodes[6]['gender']='male'"
      ]
    },
    {
      "cell_type": "code",
      "execution_count": 32,
      "metadata": {
        "id": "4BHsZzf8hGPh",
        "outputId": "189460a5-d112-4145-f35d-3f860d1ecdfd",
        "colab": {
          "base_uri": "https://localhost:8080/"
        }
      },
      "outputs": [
        {
          "output_type": "execute_result",
          "data": {
            "text/plain": [
              "{1: 'male', 2: 'female', 3: 'male', 4: 'female', 5: 'male', 6: 'male'}"
            ]
          },
          "metadata": {},
          "execution_count": 32
        }
      ],
      "source": [
        "nx.get_node_attributes(g, 'gender')"
      ]
    },
    {
      "cell_type": "markdown",
      "source": [
        "엣지는 타이의 강도를 나타낸다. weights의 속성을 가진다. 엣지의 강도를 나타낸다. weight의 속성이 1~5 를 가진다고 하면 숫자가 커질수록 강도가 강해진다. weights를 추가하기 위해서는 특정한 엣지를 가지고 있는 두 노드의 이름을 순차적으로 입력해 주면 된다. 추가하고자 하는 엣지의 이름을 입력해주고 그 값을 할당해주면 된다. 1번과 3번 사이에 존재하는 엣지가 weight의 속성을 가지고 3으로 가지고 있다. 나머지도 비슷하게 지정해 주면 된다. 서열변수도 연속변수로 간주한다."
      ],
      "metadata": {
        "id": "4tznVDZrv8r3"
      }
    },
    {
      "cell_type": "code",
      "execution_count": 33,
      "metadata": {
        "id": "MsgFUWL3hGPh"
      },
      "outputs": [],
      "source": [
        "# Add edge attributes\n",
        "g[1][3]['weight'] = 3\n",
        "# alternatively\n",
        "# g.edges[1, 3]['weight'] = 3\n",
        "g[2][4]['weight'] = 1\n",
        "g[2][5]['weight'] = 4\n",
        "g[2][6]['weight'] = 3\n",
        "g[3][4]['weight'] = 2\n",
        "g[4][6]['weight'] = 3\n",
        "g[5][6]['weight'] = 4\n"
      ]
    },
    {
      "cell_type": "code",
      "execution_count": 34,
      "metadata": {
        "id": "mRIeDs56hGPh",
        "outputId": "f5b9fa7e-c3e5-4d8f-85ba-942f845fb7ed",
        "colab": {
          "base_uri": "https://localhost:8080/"
        }
      },
      "outputs": [
        {
          "output_type": "execute_result",
          "data": {
            "text/plain": [
              "{(1, 3): 3, (2, 4): 1, (2, 5): 4, (2, 6): 3, (3, 4): 2, (4, 6): 3, (5, 6): 4}"
            ]
          },
          "metadata": {},
          "execution_count": 34
        }
      ],
      "source": [
        "nx.get_edge_attributes(g, 'weight')"
      ]
    },
    {
      "cell_type": "code",
      "execution_count": 35,
      "metadata": {
        "id": "llRdqJflhGPi",
        "outputId": "cf2e6b1b-12bd-4153-92b4-0072e493e467",
        "colab": {
          "base_uri": "https://localhost:8080/"
        }
      },
      "outputs": [
        {
          "output_type": "execute_result",
          "data": {
            "text/plain": [
              "AtlasView({2: {'weight': 4}, 6: {'weight': 4}})"
            ]
          },
          "metadata": {},
          "execution_count": 35
        }
      ],
      "source": [
        "g[5]"
      ]
    },
    {
      "cell_type": "code",
      "source": [
        "from google.colab import files"
      ],
      "metadata": {
        "id": "cBC59jpjx1bw"
      },
      "execution_count": 45,
      "outputs": []
    },
    {
      "cell_type": "code",
      "execution_count": 44,
      "metadata": {
        "id": "dXydfk15hGPi"
      },
      "outputs": [],
      "source": [
        "# graphML 파일로 저장하기 -> Gephi에서 불러오기\n",
        "nx.write_graphml(g, 'test1.graphml')"
      ]
    },
    {
      "cell_type": "code",
      "execution_count": 46,
      "metadata": {
        "id": "tBIDxFxIhGPi",
        "colab": {
          "base_uri": "https://localhost:8080/",
          "height": 17
        },
        "outputId": "27e664aa-8b28-4d5f-bb2f-9077546def12"
      },
      "outputs": [
        {
          "output_type": "display_data",
          "data": {
            "text/plain": [
              "<IPython.core.display.Javascript object>"
            ],
            "application/javascript": [
              "\n",
              "    async function download(id, filename, size) {\n",
              "      if (!google.colab.kernel.accessAllowed) {\n",
              "        return;\n",
              "      }\n",
              "      const div = document.createElement('div');\n",
              "      const label = document.createElement('label');\n",
              "      label.textContent = `Downloading \"${filename}\": `;\n",
              "      div.appendChild(label);\n",
              "      const progress = document.createElement('progress');\n",
              "      progress.max = size;\n",
              "      div.appendChild(progress);\n",
              "      document.body.appendChild(div);\n",
              "\n",
              "      const buffers = [];\n",
              "      let downloaded = 0;\n",
              "\n",
              "      const channel = await google.colab.kernel.comms.open(id);\n",
              "      // Send a message to notify the kernel that we're ready.\n",
              "      channel.send({})\n",
              "\n",
              "      for await (const message of channel.messages) {\n",
              "        // Send a message to notify the kernel that we're ready.\n",
              "        channel.send({})\n",
              "        if (message.buffers) {\n",
              "          for (const buffer of message.buffers) {\n",
              "            buffers.push(buffer);\n",
              "            downloaded += buffer.byteLength;\n",
              "            progress.value = downloaded;\n",
              "          }\n",
              "        }\n",
              "      }\n",
              "      const blob = new Blob(buffers, {type: 'application/binary'});\n",
              "      const a = document.createElement('a');\n",
              "      a.href = window.URL.createObjectURL(blob);\n",
              "      a.download = filename;\n",
              "      div.appendChild(a);\n",
              "      a.click();\n",
              "      div.remove();\n",
              "    }\n",
              "  "
            ]
          },
          "metadata": {}
        },
        {
          "output_type": "display_data",
          "data": {
            "text/plain": [
              "<IPython.core.display.Javascript object>"
            ],
            "application/javascript": [
              "download(\"download_f5a48e94-dcb1-44fe-afce-778753655cc2\", \"test1.graphml\", 1188)"
            ]
          },
          "metadata": {}
        }
      ],
      "source": [
        "files.download('../test1.graphml')"
      ]
    },
    {
      "cell_type": "code",
      "source": [],
      "metadata": {
        "id": "wNsS3rqsx7QZ"
      },
      "execution_count": null,
      "outputs": []
    }
  ],
  "metadata": {
    "kernelspec": {
      "display_name": "Python 3 (ipykernel)",
      "language": "python",
      "name": "python3"
    },
    "language_info": {
      "codemirror_mode": {
        "name": "ipython",
        "version": 3
      },
      "file_extension": ".py",
      "mimetype": "text/x-python",
      "name": "python",
      "nbconvert_exporter": "python",
      "pygments_lexer": "ipython3",
      "version": "3.9.13"
    },
    "colab": {
      "provenance": [],
      "include_colab_link": true
    }
  },
  "nbformat": 4,
  "nbformat_minor": 0
}