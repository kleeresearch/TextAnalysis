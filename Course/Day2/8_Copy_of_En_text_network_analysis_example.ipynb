{
  "cells": [
    {
      "cell_type": "markdown",
      "metadata": {
        "id": "view-in-github",
        "colab_type": "text"
      },
      "source": [
        "<a href=\"https://colab.research.google.com/github/kleeresearch/TextAnalysis/blob/master/Course/Day2/8_Copy_of_En_text_network_analysis_example.ipynb\" target=\"_parent\"><img src=\"https://colab.research.google.com/assets/colab-badge.svg\" alt=\"Open In Colab\"/></a>"
      ]
    },
    {
      "cell_type": "code",
      "source": [
        "from google.colab import drive\n",
        "drive.mount('/content/drive')"
      ],
      "metadata": {
        "colab": {
          "base_uri": "https://localhost:8080/"
        },
        "id": "txT6lxq87Z-P",
        "outputId": "a65d6896-c5c7-40c0-a78d-414ff94eaafe"
      },
      "execution_count": 17,
      "outputs": [
        {
          "output_type": "stream",
          "name": "stdout",
          "text": [
            "Drive already mounted at /content/drive; to attempt to forcibly remount, call drive.mount(\"/content/drive\", force_remount=True).\n"
          ]
        }
      ]
    },
    {
      "cell_type": "code",
      "source": [
        "!pwd"
      ],
      "metadata": {
        "colab": {
          "base_uri": "https://localhost:8080/"
        },
        "id": "ijLPIIt1ea_m",
        "outputId": "c723c545-df4c-4664-fcff-ce6b7d5e9920"
      },
      "execution_count": 18,
      "outputs": [
        {
          "output_type": "stream",
          "name": "stdout",
          "text": [
            "/content/drive/My Drive/KOSSDA_텍스트마이닝_강의자료/강의자료/Day2/python_code\n"
          ]
        }
      ]
    },
    {
      "cell_type": "code",
      "source": [
        "!ls"
      ],
      "metadata": {
        "colab": {
          "base_uri": "https://localhost:8080/"
        },
        "id": "py_AueklejZ9",
        "outputId": "e90b563c-72d6-4464-d80f-ea5695cf90b1"
      },
      "execution_count": 19,
      "outputs": [
        {
          "output_type": "stream",
          "name": "stdout",
          "text": [
            "alice_mask.png\t\t     En_text_network_analysis_example.ipynb  naver_news.txt\n",
            "alice_wc.png\t\t     example_Kr\t\t\t\t     network_analysis_basics.ipynb\n",
            "bottle_mask.jpeg\t     Korean_news.txt\t\t\t     nytimes.png\n",
            "bottle_wc.png\t\t     Kr_frequency_analysis.ipynb\t     nytimes.txt\n",
            "circle.png\t\t     Kr_na.py\t\t\t\t     __pycache__\n",
            "En_frequency_analysis.ipynb  Kr_network_analysis_docs.ipynb\t     twitter_mask.png\n",
            "En_na.py\t\t     Kr_text_network_analysis_example.ipynb  vector_example.ipynb\n",
            "En_test.graphml\t\t     malgun.ttf\n"
          ]
        }
      ]
    },
    {
      "cell_type": "code",
      "source": [
        "%cd /content/drive/MyDrive/KOSSDA_텍스트마이닝_강의자료/강의자료/Day2/python_code"
      ],
      "metadata": {
        "colab": {
          "base_uri": "https://localhost:8080/"
        },
        "id": "DvSIHp7Dequh",
        "outputId": "96fe6bc1-607c-4c0e-d40b-f8ef63f4db08"
      },
      "execution_count": 20,
      "outputs": [
        {
          "output_type": "stream",
          "name": "stdout",
          "text": [
            "/content/drive/MyDrive/KOSSDA_텍스트마이닝_강의자료/강의자료/Day2/python_code\n"
          ]
        }
      ]
    },
    {
      "cell_type": "code",
      "execution_count": 21,
      "metadata": {
        "id": "6o53HhPK4aYP"
      },
      "outputs": [],
      "source": [
        "#import En_na\n",
        "import networkx as nx\n",
        "import matplotlib.pyplot as plt\n",
        "from collections import Counter\n",
        "import nltk\n",
        "from nltk.corpus import stopwords\n",
        "import re"
      ]
    },
    {
      "cell_type": "code",
      "execution_count": 22,
      "metadata": {
        "id": "OWkKCLr_4aYS"
      },
      "outputs": [],
      "source": [
        "def do_En_preprocessing(text, customized_stopwords):\n",
        "    cleaned_content = re.sub(r'[^\\w\\d\\s]','',text) # To remove symbols\n",
        "    cleaned_content = cleaned_content.lower() # Case conversion, upper -> lower\n",
        "    word_tokens = nltk.word_tokenize(cleaned_content) # Tokenization\n",
        "    tokens_pos = nltk.pos_tag(word_tokens) # POS tagging\n",
        "    NN_words = []   # To select nouns\n",
        "    for word, pos in tokens_pos:\n",
        "        if 'NN' in pos:\n",
        "            NN_words.append(word)\n",
        "\n",
        "    wlem = nltk.WordNetLemmatizer()   # Lemmatization\n",
        "    lemmatized_words = []\n",
        "    for word in NN_words:\n",
        "        lemmatized_words.append(wlem.lemmatize(word))\n",
        "    # 불용어 제거\n",
        "    stopwords_list = stopwords.words('english')\n",
        "    unique_NN_words = set(lemmatized_words)\n",
        "    final_NN_words = lemmatized_words.copy()\n",
        "    for word in unique_NN_words:\n",
        "        if word in stopwords_list:\n",
        "            while word in final_NN_words:\n",
        "                final_NN_words.remove(word)\n",
        "\n",
        "    unique_NN_words1 = set(final_NN_words)\n",
        "    for word in unique_NN_words1:\n",
        "        if word in customized_stopwords:\n",
        "            while word in final_NN_words:\n",
        "                final_NN_words.remove(word)\n",
        "\n",
        "    return final_NN_words"
      ]
    },
    {
      "cell_type": "code",
      "execution_count": 23,
      "metadata": {
        "id": "5IuVrKJ04aYS"
      },
      "outputs": [],
      "source": [
        "# Counter 클래스의 결과물로부터 단어들만을 추출합니다.\n",
        "def get_words(counter_results):\n",
        "    words = []\n",
        "    for word, fre in counter_results:\n",
        "        words.append(word)\n",
        "    return words"
      ]
    },
    {
      "cell_type": "code",
      "execution_count": 24,
      "metadata": {
        "id": "INxy3HKN4aYT"
      },
      "outputs": [],
      "source": [
        "# 텍스트 데이터를 읽어 옵니다.\n",
        "with open('/content/drive/MyDrive/KOSSDA_텍스트마이닝_강의자료/강의자료/Day1/python_code/nytimes.txt', 'r', encoding='utf8') as f:\n",
        "    content = f.read()"
      ]
    },
    {
      "cell_type": "code",
      "execution_count": 25,
      "metadata": {
        "id": "PteO4GIP4aYT"
      },
      "outputs": [],
      "source": [
        "# 사용자 불용어 사전의 예\n",
        "customized_stopwords = ['be', 'today', 'yesterday', 'new', 'york', 'time']"
      ]
    },
    {
      "cell_type": "code",
      "source": [
        "nltk.download('punkt')\n",
        "nltk.download('stopwords')\n",
        "nltk.download('averaged_perceptron_tagger')\n",
        "nltk.download('wordnet')"
      ],
      "metadata": {
        "colab": {
          "base_uri": "https://localhost:8080/"
        },
        "id": "fNhT8U568kP-",
        "outputId": "7101cf83-5fdd-4487-e2ae-de9be981491a"
      },
      "execution_count": 26,
      "outputs": [
        {
          "output_type": "stream",
          "name": "stderr",
          "text": [
            "[nltk_data] Downloading package punkt to /root/nltk_data...\n",
            "[nltk_data]   Package punkt is already up-to-date!\n",
            "[nltk_data] Downloading package stopwords to /root/nltk_data...\n",
            "[nltk_data]   Package stopwords is already up-to-date!\n",
            "[nltk_data] Downloading package averaged_perceptron_tagger to\n",
            "[nltk_data]     /root/nltk_data...\n",
            "[nltk_data]   Package averaged_perceptron_tagger is already up-to-\n",
            "[nltk_data]       date!\n",
            "[nltk_data] Downloading package wordnet to /root/nltk_data...\n",
            "[nltk_data]   Package wordnet is already up-to-date!\n"
          ]
        },
        {
          "output_type": "execute_result",
          "data": {
            "text/plain": [
              "True"
            ]
          },
          "metadata": {},
          "execution_count": 26
        }
      ]
    },
    {
      "cell_type": "code",
      "execution_count": 27,
      "metadata": {
        "id": "DYq9jZJY4aYT"
      },
      "outputs": [],
      "source": [
        "NN_words = do_En_preprocessing(content, customized_stopwords)\n",
        "c = Counter(NN_words)"
      ]
    },
    {
      "cell_type": "code",
      "execution_count": 28,
      "metadata": {
        "id": "35V_lrVd4aYU",
        "outputId": "2637b1d8-5561-45b9-d82a-e6943afc3200",
        "colab": {
          "base_uri": "https://localhost:8080/"
        }
      },
      "outputs": [
        {
          "output_type": "execute_result",
          "data": {
            "text/plain": [
              "[('health', 11),\n",
              " ('people', 11),\n",
              " ('researcher', 7),\n",
              " ('study', 6),\n",
              " ('tie', 6),\n",
              " ('interaction', 5),\n",
              " ('friend', 4),\n",
              " ('others', 4),\n",
              " ('exercise', 4),\n",
              " ('connection', 3)]"
            ]
          },
          "metadata": {},
          "execution_count": 28
        }
      ],
      "source": [
        "# 빈도를 기준으어한 상위 10개 단어\n",
        "c.most_common(10)"
      ]
    },
    {
      "cell_type": "code",
      "execution_count": 29,
      "metadata": {
        "id": "qAzQrttp4aYU"
      },
      "outputs": [],
      "source": [
        "# get_words() 사용자 함수를 이용해 단어들만 추출\n",
        "selected_words = get_words(c.most_common(10))"
      ]
    },
    {
      "cell_type": "code",
      "execution_count": 30,
      "metadata": {
        "id": "gNzmzBbw4aYV",
        "outputId": "89a0132c-6c76-40c3-bc05-de1a59cffc21",
        "colab": {
          "base_uri": "https://localhost:8080/"
        }
      },
      "outputs": [
        {
          "output_type": "stream",
          "name": "stdout",
          "text": [
            "['health', 'people', 'researcher', 'study', 'tie', 'interaction', 'friend', 'others', 'exercise', 'connection']\n"
          ]
        }
      ],
      "source": [
        "print(selected_words)"
      ]
    },
    {
      "cell_type": "markdown",
      "source": [
        "문장을 기준으로 타이 정보를 추가한 네트워크를 리턴한다.\n",
        "\n",
        "신문기사에 대한 텍스트 분석 결과로 리턴한다.\n",
        "\n",
        "do_na펑션은 문장 contents를 입력 받아 서로 다른 두개의 단어가 같은 문장에서 몇번 사용했는지에 대해 추가한다. 단어들을 이용해서 하나의 네트워크를 생성한다.\n",
        "\n",
        "- raw한 형태의 데이터를 문장 단위로 쪼갠다.\n",
        "- 타이 정보가 하나의 문장이 기준이 되어야 한다. 문장 단위로 쪼갠 다음에 10개의 단어 중에서 서로 다른 단어가 같은 문장에서 몇번 사용되었는지 파악하게 된다. 파일을 추가하고 서로 다른 2개의 단어가 2개 문장에서 사용되었으면 이 이상에서 작동되게끔 한다.\n",
        "\n",
        "matplotlib를 이용해서 네트워크 분석 시각화에 사용되지 않는다. 여러 불편한 점들이 있기 때문에 상대적으로 용이한 getphi를 이용한다.\n",
        "- 일단 저장해야 한다. graph ml 형태로 저장해야 한다.\n",
        "gephi에서 불러온다. 파일을 오픈하고 그래프 ml 파일을 설정해서 오픈하면 된다.\n"
      ],
      "metadata": {
        "id": "vssjJsBh9AMG"
      }
    },
    {
      "cell_type": "code",
      "source": [
        "import En_na"
      ],
      "metadata": {
        "id": "q1HN5l62fP8s"
      },
      "execution_count": 32,
      "outputs": []
    },
    {
      "cell_type": "code",
      "execution_count": 33,
      "metadata": {
        "id": "mdH93QnF4aYV",
        "outputId": "17eb7621-bf75-43a6-95df-33ce2e114ef5",
        "colab": {
          "base_uri": "https://localhost:8080/",
          "height": 406
        }
      },
      "outputs": [
        {
          "output_type": "display_data",
          "data": {
            "text/plain": [
              "<Figure size 640x480 with 1 Axes>"
            ],
            "image/png": "[encoded data removed]"
          },
          "metadata": {}
        }
      ],
      "source": [
        "g = En_na.do_na(content, selected_words)\n",
        "nx.write_graphml(g, 'En_test.graphml')\n",
        "nx.draw_networkx(g)\n",
        "plt.show()"
      ]
    },
    {
      "cell_type": "code",
      "execution_count": 34,
      "metadata": {
        "id": "YVPtHzru4aYW",
        "outputId": "fafa86f3-6c57-4160-f104-1693ef94db2d",
        "colab": {
          "base_uri": "https://localhost:8080/"
        }
      },
      "outputs": [
        {
          "output_type": "execute_result",
          "data": {
            "text/plain": [
              "AtlasView({'interaction': {'weight': 3}, 'study': {'weight': 2}, 'friend': {'weight': 1}, 'tie': {'weight': 3}, 'others': {'weight': 1}, 'people': {'weight': 3}, 'researcher': {'weight': 4}, 'connection': {'weight': 1}, 'exercise': {'weight': 1}})"
            ]
          },
          "metadata": {},
          "execution_count": 34
        }
      ],
      "source": [
        "g['health']"
      ]
    },
    {
      "cell_type": "code",
      "execution_count": 35,
      "metadata": {
        "id": "hcWrl-C-4aYW",
        "outputId": "25fde155-a0eb-4174-a887-b2dddd389fa0",
        "colab": {
          "base_uri": "https://localhost:8080/"
        }
      },
      "outputs": [
        {
          "output_type": "execute_result",
          "data": {
            "text/plain": [
              "AtlasView({'researcher': {'weight': 2}, 'tie': {'weight': 1}, 'people': {'weight': 1}, 'interaction': {'weight': 1}, 'health': {'weight': 1}})"
            ]
          },
          "metadata": {},
          "execution_count": 35
        }
      ],
      "source": [
        "g['exercise']"
      ]
    },
    {
      "cell_type": "markdown",
      "metadata": {
        "id": "t-ZItKWb4aYW"
      },
      "source": [
        "## 중심도 계산하기"
      ]
    },
    {
      "cell_type": "code",
      "execution_count": 36,
      "metadata": {
        "id": "8CQfyFDl4aYY",
        "outputId": "8925ab24-cc33-4012-bf2c-a1062e3c361a",
        "colab": {
          "base_uri": "https://localhost:8080/"
        }
      },
      "outputs": [
        {
          "output_type": "execute_result",
          "data": {
            "text/plain": [
              "{'health': 1.0,\n",
              " 'people': 1.0,\n",
              " 'researcher': 0.7777777777777777,\n",
              " 'study': 0.7777777777777777,\n",
              " 'tie': 0.8888888888888888,\n",
              " 'interaction': 0.4444444444444444,\n",
              " 'friend': 0.5555555555555556,\n",
              " 'others': 0.5555555555555556,\n",
              " 'exercise': 0.5555555555555556,\n",
              " 'connection': 0.5555555555555556}"
            ]
          },
          "metadata": {},
          "execution_count": 36
        }
      ],
      "source": [
        "nx.degree_centrality(g)"
      ]
    },
    {
      "cell_type": "code",
      "execution_count": 37,
      "metadata": {
        "id": "kk8Xv5Nl4aYZ",
        "outputId": "d7b73b69-2c95-4c30-d635-56e4dbaa39df",
        "colab": {
          "base_uri": "https://localhost:8080/"
        }
      },
      "outputs": [
        {
          "output_type": "execute_result",
          "data": {
            "text/plain": [
              "[('health', 1.0),\n",
              " ('people', 1.0),\n",
              " ('tie', 0.8888888888888888),\n",
              " ('researcher', 0.7777777777777777),\n",
              " ('study', 0.7777777777777777),\n",
              " ('friend', 0.5555555555555556),\n",
              " ('others', 0.5555555555555556),\n",
              " ('exercise', 0.5555555555555556),\n",
              " ('connection', 0.5555555555555556),\n",
              " ('interaction', 0.4444444444444444)]"
            ]
          },
          "metadata": {},
          "execution_count": 37
        }
      ],
      "source": [
        "# 디그리 중심도\n",
        "sorted(nx.degree_centrality(g).items(), key=lambda x:x[1],reverse=True)"
      ]
    },
    {
      "cell_type": "code",
      "execution_count": 38,
      "metadata": {
        "id": "-9CatVKi4aYZ",
        "outputId": "e678d1e0-4b5b-499b-a7e5-e8bae810a9f3",
        "colab": {
          "base_uri": "https://localhost:8080/"
        }
      },
      "outputs": [
        {
          "output_type": "execute_result",
          "data": {
            "text/plain": [
              "[('health', 0.11342592592592592),\n",
              " ('people', 0.11342592592592592),\n",
              " ('tie', 0.060185185185185175),\n",
              " ('researcher', 0.039351851851851846),\n",
              " ('study', 0.027777777777777776),\n",
              " ('exercise', 0.006944444444444444),\n",
              " ('interaction', 0.0),\n",
              " ('friend', 0.0),\n",
              " ('others', 0.0),\n",
              " ('connection', 0.0)]"
            ]
          },
          "metadata": {},
          "execution_count": 38
        }
      ],
      "source": [
        "# 매개 중심도\n",
        "sorted(nx.betweenness_centrality(g).items(), key=lambda x:x[1],reverse=True)"
      ]
    },
    {
      "cell_type": "code",
      "execution_count": 39,
      "metadata": {
        "id": "5Gy4iF5N4aYZ",
        "outputId": "559e2ab9-e64b-40df-8097-5fa699a0da41",
        "colab": {
          "base_uri": "https://localhost:8080/"
        }
      },
      "outputs": [
        {
          "output_type": "execute_result",
          "data": {
            "text/plain": [
              "[('health', 1.0),\n",
              " ('people', 1.0),\n",
              " ('tie', 0.9),\n",
              " ('researcher', 0.8181818181818182),\n",
              " ('study', 0.8181818181818182),\n",
              " ('friend', 0.6923076923076923),\n",
              " ('others', 0.6923076923076923),\n",
              " ('exercise', 0.6923076923076923),\n",
              " ('connection', 0.6923076923076923),\n",
              " ('interaction', 0.6428571428571429)]"
            ]
          },
          "metadata": {},
          "execution_count": 39
        }
      ],
      "source": [
        "# 근접 중심도\n",
        "sorted(nx.closeness_centrality(g).items(), key=lambda x:x[1],reverse=True)"
      ]
    },
    {
      "cell_type": "code",
      "execution_count": 39,
      "metadata": {
        "id": "I_AAZLUt4aYa"
      },
      "outputs": [],
      "source": []
    }
  ],
  "metadata": {
    "kernelspec": {
      "display_name": "Python 3 (ipykernel)",
      "language": "python",
      "name": "python3"
    },
    "language_info": {
      "codemirror_mode": {
        "name": "ipython",
        "version": 3
      },
      "file_extension": ".py",
      "mimetype": "text/x-python",
      "name": "python",
      "nbconvert_exporter": "python",
      "pygments_lexer": "ipython3",
      "version": "3.9.13"
    },
    "colab": {
      "provenance": [],
      "include_colab_link": true
    }
  },
  "nbformat": 4,
  "nbformat_minor": 0
}