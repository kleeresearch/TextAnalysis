{
  "cells": [
    {
      "cell_type": "markdown",
      "metadata": {
        "id": "view-in-github",
        "colab_type": "text"
      },
      "source": [
        "<a href=\"https://colab.research.google.com/github/kleeresearch/TextAnalysis/blob/master/Course/Day5/22_FastText_example.ipynb\" target=\"_parent\"><img src=\"https://colab.research.google.com/assets/colab-badge.svg\" alt=\"Open In Colab\"/></a>"
      ]
    },
    {
      "cell_type": "code",
      "execution_count": null,
      "metadata": {
        "id": "bpw6s4Oz0azP"
      },
      "outputs": [],
      "source": [
        "with open('2016_filtered_review.txt', encoding='utf-8') as f:\n",
        "    docs = [line.strip().split('\\t\\t') for line in f]\n",
        "\n",
        "docs1 = [doc[1].strip().split() for doc in docs]"
      ]
    },
    {
      "cell_type": "code",
      "execution_count": null,
      "metadata": {
        "id": "mRnEHdvl0azS",
        "outputId": "18747217-89ff-4d18-9b67-06cc58d24214"
      },
      "outputs": [
        {
          "name": "stdout",
          "output_type": "stream",
          "text": [
            "[['아니', '딴', '그렇', '비', '비탄', '총', '대체', '왜', '들', '온겨'], ['진심', '쓰레기', '영화', '만들', '무서', '알', '쫄아', '틀었', '이건', '뭐', '웃', '거리', '없는', '쓰레기', '영화', '임'], ['역대', '좀비', '영화', '가장', '최고다', '원작', '만화', '읽어', '보려', '영화', '보고', '결정', '하려', '감독', '간츠', '실사', '했', '사람', '거르려', '그냥', '봤', '정말', '흠잡', '없는', '최고', '좀비', '영화', '잔인', '거', '싫어하지', '참고', '볼', '만하', '로미', '인물', '왜', '그런', '모르'], ['온종일', '불편한', '피', '범벅', '일'], ['답답함', '극치', '움직일', '잇으', '좀', '움직여', '어지간히', '좀비', '봣으', '얼', '타고', '때려', '잡', '때', '되', '않냐']]\n"
          ]
        }
      ],
      "source": [
        "print(docs1[:5])"
      ]
    },
    {
      "cell_type": "code",
      "execution_count": null,
      "metadata": {
        "id": "0AaFPKeh0azT"
      },
      "outputs": [],
      "source": [
        "from gensim.models import FastText"
      ]
    },
    {
      "cell_type": "code",
      "execution_count": null,
      "metadata": {
        "id": "NNoejors0azT"
      },
      "outputs": [],
      "source": [
        "model1 = FastText(vector_size=100, window=5, min_count=3, sentences=docs1)"
      ]
    },
    {
      "cell_type": "code",
      "execution_count": null,
      "metadata": {
        "id": "DN7iENQP0azT",
        "outputId": "6263a98e-0de1-47f4-b0d9-cabced7a89e3"
      },
      "outputs": [
        {
          "data": {
            "text/plain": [
              "[('정재', 0.8279776573181152),\n",
              " ('이범수', 0.7897829413414001),\n",
              " ('공유', 0.745087742805481),\n",
              " ('공유진', 0.730034589767456),\n",
              " ('범수', 0.7262811064720154),\n",
              " ('인합', 0.7104486227035522),\n",
              " ('공유씬', 0.7091776132583618),\n",
              " ('이정진', 0.7070218324661255),\n",
              " ('송강호', 0.7067801356315613),\n",
              " ('김범수', 0.7002330422401428)]"
            ]
          },
          "execution_count": 10,
          "metadata": {},
          "output_type": "execute_result"
        }
      ],
      "source": [
        "model1.wv.most_similar(\"이정재\")"
      ]
    },
    {
      "cell_type": "code",
      "execution_count": null,
      "metadata": {
        "id": "WNx-re1X0azU",
        "outputId": "b09bfa1d-4db1-4137-b0da-3331c8cf3cbe"
      },
      "outputs": [
        {
          "data": {
            "text/plain": [
              "[('우주인', 0.938026487827301),\n",
              " ('우주', 0.9038185477256775),\n",
              " ('우주씬', 0.8948449492454529),\n",
              " ('카세트', 0.876797080039978),\n",
              " ('우주비행사', 0.8741001486778259),\n",
              " ('우주여행', 0.8522827625274658),\n",
              " ('우주전쟁', 0.7858375906944275),\n",
              " ('우주선', 0.7831714749336243),\n",
              " ('세트', 0.7793260216712952),\n",
              " ('사후세계', 0.7317621111869812)]"
            ]
          },
          "execution_count": 11,
          "metadata": {},
          "output_type": "execute_result"
        }
      ],
      "source": [
        "model1.wv.most_similar(\"우주평화\")"
      ]
    },
    {
      "cell_type": "markdown",
      "metadata": {
        "id": "AtcEsT3i0azU"
      },
      "source": [
        "다음과 같이 해도 됩니다."
      ]
    },
    {
      "cell_type": "code",
      "execution_count": null,
      "metadata": {
        "id": "Vd7iNTjg0azW"
      },
      "outputs": [],
      "source": [
        "model2 = FastText(vector_size=100, window=5, min_count=3)\n",
        "model2.build_vocab(docs1)\n",
        "model2.train(docs1, total_examples=len(docs1), epochs=5)"
      ]
    },
    {
      "cell_type": "code",
      "execution_count": null,
      "metadata": {
        "id": "BdogeE4L0azW",
        "outputId": "9b8b2c5b-8862-4caa-ea97-e3936d1c79dc"
      },
      "outputs": [
        {
          "data": {
            "text/plain": [
              "[('정재', 0.834059476852417),\n",
              " ('이범수', 0.7942050695419312),\n",
              " ('범수', 0.7663806080818176),\n",
              " ('김범수', 0.7542118430137634),\n",
              " ('인합', 0.7342138886451721),\n",
              " ('조재현', 0.7275329232215881),\n",
              " ('공유', 0.7178516387939453),\n",
              " ('공유진', 0.7032496929168701),\n",
              " ('이성민', 0.7017192244529724),\n",
              " ('이정진', 0.6994209289550781)]"
            ]
          },
          "execution_count": 7,
          "metadata": {},
          "output_type": "execute_result"
        }
      ],
      "source": [
        "model2.wv.most_similar(\"이정재\")"
      ]
    },
    {
      "cell_type": "markdown",
      "source": [
        "word2vec은 이정재를 넣었을 때 이범수, 김윤석이 나왔는데 fasttext는 인합처럼 배우 이름이 아닌 경우도 있음.\n",
        "\n",
        "fasttext 장점\n",
        "- 데이터에 존재하지 않은 단어도 embedding 할 수 있음\n",
        "\n",
        "fasttext 단점\n",
        "- word2vec 보다 좋다는 확신은 없음"
      ],
      "metadata": {
        "id": "FWnHBrtU0zQ6"
      }
    },
    {
      "cell_type": "markdown",
      "source": [
        "문맥정보, 신경망정보 알고리즘\n",
        "\n",
        "단어들의 관계 정보를 파악하기 때문에 문서 의미 파악. 토픽모델링 작업. 딥러닝 알고리즘을 통해 빈도분석으로 더 정확히 파악.\n",
        "\n",
        "\n",
        "\n",
        "Doc2vec은 word2vec 과 비슷. 문서를 저차원 벡터로 표현.\n"
      ],
      "metadata": {
        "id": "XCfIc2Vk139n"
      }
    },
    {
      "cell_type": "code",
      "execution_count": null,
      "metadata": {
        "id": "b0aivin_0azX"
      },
      "outputs": [],
      "source": []
    }
  ],
  "metadata": {
    "kernelspec": {
      "display_name": "Python 3 (ipykernel)",
      "language": "python",
      "name": "python3"
    },
    "language_info": {
      "codemirror_mode": {
        "name": "ipython",
        "version": 3
      },
      "file_extension": ".py",
      "mimetype": "text/x-python",
      "name": "python",
      "nbconvert_exporter": "python",
      "pygments_lexer": "ipython3",
      "version": "3.9.13"
    },
    "colab": {
      "provenance": [],
      "include_colab_link": true
    }
  },
  "nbformat": 4,
  "nbformat_minor": 0
}