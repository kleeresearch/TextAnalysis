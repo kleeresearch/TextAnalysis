{
  "cells": [
    {
      "cell_type": "markdown",
      "metadata": {
        "id": "view-in-github",
        "colab_type": "text"
      },
      "source": [
        "<a href=\"https://colab.research.google.com/github/kleeresearch/TextAnalysis/blob/master/KOSSDA/Day1/4_Copy_of_OOV_example.ipynb\" target=\"_parent\"><img src=\"https://colab.research.google.com/assets/colab-badge.svg\" alt=\"Open In Colab\"/></a>"
      ]
    },
    {
      "cell_type": "markdown",
      "source": [
        "#미등록 단어 등록하기\n",
        "OOV: out of vocabulary"
      ],
      "metadata": {
        "id": "w0c1em0FyVWP"
      }
    },
    {
      "cell_type": "code",
      "source": [
        "!pip install kiwipiepy"
      ],
      "metadata": {
        "colab": {
          "base_uri": "https://localhost:8080/"
        },
        "id": "f6htLkE8yNsF",
        "outputId": "fb8ae767-b913-4857-db2f-5c6d2b889f30"
      },
      "execution_count": 1,
      "outputs": [
        {
          "output_type": "stream",
          "name": "stdout",
          "text": [
            "Collecting kiwipiepy\n",
            "  Downloading kiwipiepy-0.16.2-cp310-cp310-manylinux_2_17_x86_64.manylinux2014_x86_64.whl (2.8 MB)\n",
            "\u001b[2K     \u001b[90m━━━━━━━━━━━━━━━━━━━━━━━━━━━━━━━━━━━━━━━━\u001b[0m \u001b[32m2.8/2.8 MB\u001b[0m \u001b[31m18.0 MB/s\u001b[0m eta \u001b[36m0:00:00\u001b[0m\n",
            "\u001b[?25hCollecting kiwipiepy-model~=0.16 (from kiwipiepy)\n",
            "  Downloading kiwipiepy_model-0.16.0.tar.gz (30.8 MB)\n",
            "\u001b[2K     \u001b[90m━━━━━━━━━━━━━━━━━━━━━━━━━━━━━━━━━━━━━━━━\u001b[0m \u001b[32m30.8/30.8 MB\u001b[0m \u001b[31m12.3 MB/s\u001b[0m eta \u001b[36m0:00:00\u001b[0m\n",
            "\u001b[?25h  Preparing metadata (setup.py) ... \u001b[?25l\u001b[?25hdone\n",
            "Requirement already satisfied: numpy in /usr/local/lib/python3.10/dist-packages (from kiwipiepy) (1.23.5)\n",
            "Requirement already satisfied: tqdm in /usr/local/lib/python3.10/dist-packages (from kiwipiepy) (4.66.1)\n",
            "Building wheels for collected packages: kiwipiepy-model\n",
            "  Building wheel for kiwipiepy-model (setup.py) ... \u001b[?25l\u001b[?25hdone\n",
            "  Created wheel for kiwipiepy-model: filename=kiwipiepy_model-0.16.0-py3-none-any.whl size=30813256 sha256=eb5c4d1ea5950137b8e6d3dbf44b817db2185c09d96c7face84f0a0a18577891\n",
            "  Stored in directory: /root/.cache/pip/wheels/6b/03/2b/ac2c97cc65ebd9df3516f4b900adc2f0a744df8d1375b2e2ef\n",
            "Successfully built kiwipiepy-model\n",
            "Installing collected packages: kiwipiepy-model, kiwipiepy\n",
            "Successfully installed kiwipiepy-0.16.2 kiwipiepy-model-0.16.0\n"
          ]
        }
      ]
    },
    {
      "cell_type": "code",
      "execution_count": 2,
      "metadata": {
        "id": "q-7TxKJqyDpf"
      },
      "outputs": [],
      "source": [
        "from kiwipiepy import Kiwi"
      ]
    },
    {
      "cell_type": "code",
      "execution_count": 3,
      "metadata": {
        "id": "G2euxhvhyDpj"
      },
      "outputs": [],
      "source": [
        "kiwi = Kiwi()"
      ]
    },
    {
      "cell_type": "markdown",
      "source": [
        "김갑갑이라는 단어가 키위분석기 형태소 사전에 등록되어 있지 않아서 안 나오는 것. 형태소 사전에 새롭게 등록하면 된다."
      ],
      "metadata": {
        "id": "JYyxrPrLyQSz"
      }
    },
    {
      "cell_type": "code",
      "execution_count": 4,
      "metadata": {
        "id": "f2jWJUiWyDpj"
      },
      "outputs": [],
      "source": [
        "text1 = '김갑갑이 누구야'"
      ]
    },
    {
      "cell_type": "code",
      "execution_count": 5,
      "metadata": {
        "id": "dCAwmv4NyDpk",
        "outputId": "f913c65e-bcb4-4129-e441-b922a90c67c9",
        "colab": {
          "base_uri": "https://localhost:8080/"
        }
      },
      "outputs": [
        {
          "output_type": "execute_result",
          "data": {
            "text/plain": [
              "[Token(form='김갑', tag='NNP', start=0, len=2),\n",
              " Token(form='갑', tag='NNG', start=2, len=1),\n",
              " Token(form='이', tag='JKS', start=3, len=1),\n",
              " Token(form='누구', tag='NP', start=5, len=2),\n",
              " Token(form='이', tag='VCP', start=7, len=0),\n",
              " Token(form='야', tag='EF', start=7, len=1)]"
            ]
          },
          "metadata": {},
          "execution_count": 5
        }
      ],
      "source": [
        "kiwi.tokenize(text1)"
      ]
    },
    {
      "cell_type": "markdown",
      "metadata": {
        "id": "5LSZou0myDpm"
      },
      "source": [
        "## 새로운 단어 추가하기"
      ]
    },
    {
      "cell_type": "markdown",
      "source": [
        "NNP라는 형태소라고 지정해주면서 김갑갑을 추가해주기"
      ],
      "metadata": {
        "id": "zSkEBoY7yetR"
      }
    },
    {
      "cell_type": "code",
      "execution_count": 6,
      "metadata": {
        "id": "3mjkEdgbyDpn",
        "outputId": "2fd9105b-0710-4a90-e0a8-1f4579d4fece",
        "colab": {
          "base_uri": "https://localhost:8080/"
        }
      },
      "outputs": [
        {
          "output_type": "execute_result",
          "data": {
            "text/plain": [
              "True"
            ]
          },
          "metadata": {},
          "execution_count": 6
        }
      ],
      "source": [
        "kiwi.add_user_word(\"김갑갑\", \"NNP\")"
      ]
    },
    {
      "cell_type": "code",
      "execution_count": 7,
      "metadata": {
        "id": "XRkxdYLDyDpo",
        "outputId": "ea38350b-d05c-44c4-bd44-f0102444c7f3",
        "colab": {
          "base_uri": "https://localhost:8080/"
        }
      },
      "outputs": [
        {
          "output_type": "execute_result",
          "data": {
            "text/plain": [
              "[Token(form='김갑갑', tag='NNP', start=0, len=3),\n",
              " Token(form='이', tag='JKS', start=3, len=1),\n",
              " Token(form='누구', tag='NP', start=5, len=2),\n",
              " Token(form='이', tag='VCP', start=7, len=0),\n",
              " Token(form='야', tag='EF', start=7, len=1)]"
            ]
          },
          "metadata": {},
          "execution_count": 7
        }
      ],
      "source": [
        "kiwi.tokenize(text1)"
      ]
    },
    {
      "cell_type": "markdown",
      "source": [
        "김갑갑이 등록된 것을 알 수 있다."
      ],
      "metadata": {
        "id": "ofXVs3zryiUV"
      }
    },
    {
      "cell_type": "code",
      "execution_count": 7,
      "metadata": {
        "id": "L3VLwKSWyDpo"
      },
      "outputs": [],
      "source": []
    }
  ],
  "metadata": {
    "kernelspec": {
      "display_name": "Python 3 (ipykernel)",
      "language": "python",
      "name": "python3"
    },
    "language_info": {
      "codemirror_mode": {
        "name": "ipython",
        "version": 3
      },
      "file_extension": ".py",
      "mimetype": "text/x-python",
      "name": "python",
      "nbconvert_exporter": "python",
      "pygments_lexer": "ipython3",
      "version": "3.9.13"
    },
    "colab": {
      "provenance": [],
      "include_colab_link": true
    }
  },
  "nbformat": 4,
  "nbformat_minor": 0
}