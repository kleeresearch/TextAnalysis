{
  "cells": [
    {
      "cell_type": "markdown",
      "metadata": {
        "id": "view-in-github",
        "colab_type": "text"
      },
      "source": [
        "<a href=\"https://colab.research.google.com/github/kleeresearch/TextAnalysis/blob/master/Course/Day3/14_docs_clustering_KMeans.ipynb\" target=\"_parent\"><img src=\"https://colab.research.google.com/assets/colab-badge.svg\" alt=\"Open In Colab\"/></a>"
      ]
    },
    {
      "cell_type": "code",
      "source": [
        "from google.colab import drive\n",
        "drive.mount('/content/drive')"
      ],
      "metadata": {
        "id": "dEyLfO2vfpSO",
        "colab": {
          "base_uri": "https://localhost:8080/"
        },
        "outputId": "450c9acd-1acc-4157-d6cd-1b92f0189b6f"
      },
      "execution_count": 2,
      "outputs": [
        {
          "output_type": "stream",
          "name": "stdout",
          "text": [
            "Mounted at /content/drive\n"
          ]
        }
      ]
    },
    {
      "cell_type": "code",
      "execution_count": 3,
      "metadata": {
        "id": "POW3aP_EfYMK"
      },
      "outputs": [],
      "source": [
        "# 경고(warning) 문구를 화면에 출력하지 않게 하기 위해서 아래 코드를 사용합니다.\n",
        "import warnings\n",
        "warnings.filterwarnings('ignore')"
      ]
    },
    {
      "cell_type": "markdown",
      "metadata": {
        "id": "4rSeblbvfYMM"
      },
      "source": [
        "아래와 같이 텍스트 파일을 읽어 옵니다."
      ]
    },
    {
      "cell_type": "code",
      "execution_count": 5,
      "metadata": {
        "id": "QfH_fuUsfYMZ"
      },
      "outputs": [],
      "source": [
        "import numpy as np\n",
        "from os import listdir\n",
        "from os.path import isfile, join\n",
        "\n",
        "mypath = '/content/drive/MyDrive/KOSSDA_텍스트마이닝_강의자료/강의자료/Day3/python_code/example_En_docs/'\n",
        "onlyfiles = [f for f in listdir(mypath) if isfile(join(mypath, f))]\n",
        "onlyfiles.sort()\n",
        "\n",
        "total_docs = []\n",
        "for file in onlyfiles:\n",
        "    file_path = mypath+file\n",
        "    with open(file_path, 'r', encoding='utf8') as f:\n",
        "        content = f.read()\n",
        "    total_docs.append(content)"
      ]
    },
    {
      "cell_type": "code",
      "execution_count": 6,
      "metadata": {
        "id": "hsVevWDyfYMb",
        "outputId": "cd0a89ea-a02c-4318-d699-7c0302a6cc46",
        "colab": {
          "base_uri": "https://localhost:8080/"
        }
      },
      "outputs": [
        {
          "output_type": "execute_result",
          "data": {
            "text/plain": [
              "15"
            ]
          },
          "metadata": {},
          "execution_count": 6
        }
      ],
      "source": [
        "len(total_docs)"
      ]
    },
    {
      "cell_type": "code",
      "execution_count": 7,
      "metadata": {
        "scrolled": true,
        "id": "-9GiyPC9fYMd",
        "outputId": "3899b2b5-008e-45a1-9e35-45257b6a14ff",
        "colab": {
          "base_uri": "https://localhost:8080/",
          "height": 143
        }
      },
      "outputs": [
        {
          "output_type": "execute_result",
          "data": {
            "text/plain": [
              "'Ryen Aleman was engrossed in the virtual world, focused on the video game in front of him, when he realized the gunshots he was hearing were real. He ducked and bolted for a restroom to take cover.\\nAnother mass shooting was unfolding in Florida, this time at a tournament for competitive players of the football video game, Madden, in Jacksonville. The winners would go on to a higher level tournament in Las Vegas in October, where large cash prizes could be won.\\nParticipants had gathered at the Jacksonville Landing Complex, an open-air marketplace with stores, bars and restaurants along the St. Johns River.\\n\\nDavid Katz, a 24-year-old gamer from Baltimore, Maryland, was in Jacksonville for the tournament at GLHF Game Bar, in the back of a pizza restaurant. On Sunday, he brought a gun into the venue and opened fire, killing two people. Then he turned the gun on himself, Jacksonville Sheriff Mike Williams said. Police have not released a possible motive.\\nKatz used at least one handgun in the shooting, the sheriff said. Nine other people suffered gunshot wounds and two people were injured fleeing the area, Williams said. The victims were all in stable condition at local hospitals, the sheriff said.\\nThe horror that unfolded was captured on an online stream of the event, posted the website Twitch. The game abruptly stopped after several shots were heard.\\nPeople screamed. One person cried out, \"Oh f**, what\\'d he shoot me with?\" \\nShortly after 1:30 p.m., 911 calls started pouring in about a shooting, according to Williams. Officers were on the scene within two minutes.\\nAleman said he huddled in the bathroom for 10 minutes and ran from the scene.\\n\"I\\'m still shocked, I can hardly talk,\" he told CNN.\\nSeven members of the Jacksonville Fire Station 1 -- known as \"The Rock\" -- were doing routine training in a parking garage across the street from the Landing, when dozens of people came running out, said Randy Wyse, president of the Jacksonville Association of Fire Fighters.\\nOne person pulled up their shirt, showing where they had been shot in the chest, Wyse said. A second person with gunshot wounds followed shortly behind them.\\nAs four firefighters administered first aid, three others ran toward the Landing, Wyse said, and flagged down a police officer.\\nThey started treating victims and found the three dead bodies, including Katz\\'s body.\\nHours after he committed suicide, authorities said, agents with the Bureau of Alcohol, Tobacco, Firearms and Explosives and FBI and Baltimore Police searched Katz\\'s family home in Baltimore.\\nKatz went by the gaming naming \"Bread\" and previously won Madden tournaments in 2017, multiple gamers told CNN.\\nIn February 2017, the Buffalo Bills tweeted out a picture of him after he won the Madden 17 Bills Championship. \"Congrats to David Katz, the Madden 17 Bills Championship winner! Thanks for following along, Bills fans,\" the tweet read.\\nIn an interview after the win with former Buffalos Bills player Steve Tasker, Katz talked about his prowess.\\n\"I think personally I\\'m one of the better players,\" he said. \\nFlorida has seen several mass shootings in recent years: a gunman killed 17 people at Marjory Stoneman Douglas high school in Parkland earlier this year; five people were gunned down at the Fort Lauderdale airport last year; and 49 were shot dead at the Pulse nightclub in Orlando in 2016.\\n\"We have got to change,\" Gov. Rick Scott told reporters Sunday night. \"We\\'ve got to really stop and say to ourselves: there\\'s something wrong.\"\\n\"Why are young men willing to give up their life, or why don\\'t they value somebody else\\'s life?\" he said. \"We\\'ve got to figure this out.\"\\nFormer Congresswoman Gabrielle Giffords, who was seriously wounded in a mass shooting, said the nation\\'s attention turns to Florida, again.\\n\"The nation once again looks to Florida with grief and heavy hearts,\" Giffords, who co-founded a gun violence prevention organization, said in a statement.\\n\"The massacre in Jacksonville is a tragic reminder of the threats we face from gun violence, no matter who we are or where our day takes us,\" said Giffords. \"And it\\'s yet another devastating indictment of this country\\'s inability to keep our kids safe.\"\\n\\n    The nation once again looks to Florida with grief and heavy hearts. The massacre in Jacksonville is yet another devastating indictment of this country\\'s inability to keep our kids safe. https://t.co/NNw88rVWR2\\n    — Gabrielle Giffords (@GabbyGiffords) August 26, 2018\\n\\nEA Sports, a video game developer and publisher, condemned the shooting as \"a senseless act of violence.\"\\nCompLexity Gaming founder and CEO Jason Lake told CNN that the shooting may make the growing eSports industry reconsider security at events.\\nOne of the company\\'s gamers, a 19-year-old who goes by Drini, was shot in the thumb but managed to escape and is going to be fine, Lake said.\\n\"To have someone walk into an event like this that\\'s all about good sportsmanship and teamwork and just good vibes, and do something like this, it\\'s heartbreaking,\" he said. \"I think the e-sports industry as a whole is going to have to step back and take a look at further strengthening our security.\"'"
            ],
            "application/vnd.google.colaboratory.intrinsic+json": {
              "type": "string"
            }
          },
          "metadata": {},
          "execution_count": 7
        }
      ],
      "source": [
        "total_docs[0]"
      ]
    },
    {
      "cell_type": "code",
      "execution_count": 8,
      "metadata": {
        "id": "PrHULsOTfYMd"
      },
      "outputs": [],
      "source": [
        "import re\n",
        "import nltk\n",
        "from nltk.corpus import stopwords\n",
        "\n",
        "def do_En_preprocessing(text, customized_stopwords):\n",
        "    cleaned_content = re.sub(r'[^\\w\\d\\s]','',text) # To remove symbols\n",
        "    cleaned_content = cleaned_content.lower() # Case conversion, upper -> lower\n",
        "    word_tokens = nltk.word_tokenize(cleaned_content) # Tokenization\n",
        "    tokens_pos = nltk.pos_tag(word_tokens) # POS tagging\n",
        "    NN_words = []   # To select nouns\n",
        "    for word, pos in tokens_pos:\n",
        "        if 'NN' in pos:\n",
        "            NN_words.append(word)\n",
        "\n",
        "    wlem = nltk.WordNetLemmatizer()   # Lemmatization\n",
        "    lemmatized_words = []\n",
        "    for word in NN_words:\n",
        "        lemmatized_words.append(wlem.lemmatize(word))\n",
        "    # 불용어 제거\n",
        "    stopwords_list = stopwords.words('english')\n",
        "    unique_NN_words = set(lemmatized_words)\n",
        "    final_NN_words = lemmatized_words\n",
        "    for word in unique_NN_words:\n",
        "        if word in stopwords_list:\n",
        "            while word in final_NN_words:\n",
        "                final_NN_words.remove(word)\n",
        "\n",
        "    unique_NN_words1 = set(final_NN_words)\n",
        "    for word in unique_NN_words1:\n",
        "        if word in customized_stopwords:\n",
        "            while word in final_NN_words:\n",
        "                final_NN_words.remove(word)\n",
        "\n",
        "    return final_NN_words"
      ]
    },
    {
      "cell_type": "code",
      "execution_count": 9,
      "metadata": {
        "id": "D1tyWTntfYMe"
      },
      "outputs": [],
      "source": [
        "customized_stopwords = ['be', 'today', 'yesterday', 'tomorrow'] # 불용어 사전 생성하기"
      ]
    },
    {
      "cell_type": "code",
      "source": [
        "nltk.download('punkt')\n",
        "nltk.download('averaged_perceptron_tagger')\n",
        "nltk.download('wordnet')\n",
        "nltk.download('stopwords')"
      ],
      "metadata": {
        "colab": {
          "base_uri": "https://localhost:8080/"
        },
        "id": "oMZwRZ0xgwyC",
        "outputId": "88a1958d-68c1-4ca6-c272-0bdc67d4145b"
      },
      "execution_count": 19,
      "outputs": [
        {
          "output_type": "stream",
          "name": "stderr",
          "text": [
            "[nltk_data] Downloading package punkt to /root/nltk_data...\n",
            "[nltk_data]   Package punkt is already up-to-date!\n",
            "[nltk_data] Downloading package averaged_perceptron_tagger to\n",
            "[nltk_data]     /root/nltk_data...\n",
            "[nltk_data]   Package averaged_perceptron_tagger is already up-to-\n",
            "[nltk_data]       date!\n",
            "[nltk_data] Downloading package wordnet to /root/nltk_data...\n",
            "[nltk_data]   Package wordnet is already up-to-date!\n",
            "[nltk_data] Downloading package stopwords to /root/nltk_data...\n",
            "[nltk_data]   Unzipping corpora/stopwords.zip.\n"
          ]
        },
        {
          "output_type": "execute_result",
          "data": {
            "text/plain": [
              "True"
            ]
          },
          "metadata": {},
          "execution_count": 19
        }
      ]
    },
    {
      "cell_type": "code",
      "execution_count": 20,
      "metadata": {
        "id": "5XtbHQ9OfYMe"
      },
      "outputs": [],
      "source": [
        "docs_nouns = [do_En_preprocessing(doc, customized_stopwords) for doc in total_docs]"
      ]
    },
    {
      "cell_type": "code",
      "execution_count": 21,
      "metadata": {
        "id": "lnuikixdfYMf",
        "outputId": "fb62d6b5-cbb1-4fbf-c181-efe29c3ac7a3",
        "colab": {
          "base_uri": "https://localhost:8080/"
        }
      },
      "outputs": [
        {
          "output_type": "stream",
          "name": "stdout",
          "text": [
            "['aleman', 'world', 'video', 'game', 'front', 'gunshot', 'restroom', 'cover', 'mass', 'shooting', 'florida', 'time', 'tournament', 'player', 'football', 'video', 'game', 'madden', 'jacksonville', 'winner', 'level', 'tournament', 'vega', 'october', 'cash', 'prize', 'participant', 'jacksonville', 'marketplace', 'store', 'bar', 'restaurant', 'st', 'john', 'river', 'david', 'gamer', 'baltimore', 'maryland', 'jacksonville', 'tournament', 'game', 'bar', 'back', 'pizza', 'restaurant', 'sunday', 'gun', 'venue', 'fire', 'people', 'gun', 'mike', 'williams', 'police', 'motive', 'katz', 'handgun', 'sheriff', 'people', 'wound', 'people', 'area', 'williams', 'victim', 'condition', 'hospital', 'sheriff', 'horror', 'stream', 'event', 'game', 'shot', 'people', 'person', 'f', 'whatd', 'call', 'williams', 'officer', 'scene', 'minute', 'bathroom', 'minute', 'ran', 'scene', 'im', 'member', 'jacksonville', 'fire', 'station', 'rock', 'training', 'parking', 'garage', 'street', 'landing', 'dozen', 'people', 'president', 'jacksonville', 'association', 'fire', 'fighter', 'person', 'shirt', 'chest', 'wyse', 'person', 'wound', 'firefighter', 'aid', 'others', 'landing', 'wyse', 'officer', 'victim', 'body', 'katzs', 'body', 'hour', 'authority', 'agent', 'bureau', 'alcohol', 'tobacco', 'firearm', 'explosive', 'fbi', 'police', 'family', 'home', 'baltimore', 'katz', 'gaming', 'bread', 'tournament', 'multiple', 'gamers', 'cnn', 'buffalo', 'bill', 'picture', 'bill', 'congrats', 'bill', 'thanks', 'bill', 'tweet', 'read', 'interview', 'win', 'buffalo', 'bill', 'player', 'tasker', 'katz', 'prowess', 'player', 'florida', 'mass', 'shooting', 'year', 'gunman', 'people', 'douglas', 'school', 'parkland', 'year', 'people', 'fort', 'lauderdale', 'airport', 'year', 'pulse', 'nightclub', 'orlando', 'gov', 'rick', 'scott', 'reporter', 'night', 'weve', 'something', 'men', 'life', 'value', 'somebody', 'life', 'congresswoman', 'gabrielle', 'giffords', 'mass', 'shooting', 'nation', 'attention', 'nation', 'grief', 'heart', 'giffords', 'gun', 'violence', 'prevention', 'organization', 'statement', 'massacre', 'jacksonville', 'reminder', 'threat', 'violence', 'matter', 'day', 'giffords', 'indictment', 'country', 'inability', 'kid', 'nation', 'grief', 'heart', 'massacre', 'jacksonville', 'indictment', 'country', 'inability', 'kid', 'httpstconnw88rvwr2', 'gabrielle', 'giffords', 'gabbygiffords', 'ea', 'sport', 'video', 'game', 'developer', 'publisher', 'shooting', 'senseless', 'act', 'violence', 'complexity', 'founder', 'ceo', 'jason', 'cnn', 'shooting', 'esports', 'industry', 'security', 'event', 'company', 'drini', 'thumb', 'lake', 'someone', 'walk', 'event', 'sportsmanship', 'teamwork', 'vibe', 'something', 'heartbreaking', 'esports', 'industry', 'whole', 'look', 'security']\n"
          ]
        }
      ],
      "source": [
        "print(docs_nouns[0]) # 첫번째 문서에 대한 내용 ((문서 내용, [명사단어])로 구성)"
      ]
    },
    {
      "cell_type": "code",
      "execution_count": 22,
      "metadata": {
        "id": "su2HfpLIfYMf"
      },
      "outputs": [],
      "source": [
        "documents_filtered = [' '.join(doc) for doc in docs_nouns]\n",
        "# 불필요한 단어들을 제거하고 난후 DTM로 변환하기 위해 다시 list of strings의 형태로 변환"
      ]
    },
    {
      "cell_type": "code",
      "execution_count": 23,
      "metadata": {
        "id": "olXrO6-3fYMg",
        "outputId": "ba456007-2878-4e8f-eb44-b76dc64b94b2",
        "colab": {
          "base_uri": "https://localhost:8080/",
          "height": 143
        }
      },
      "outputs": [
        {
          "output_type": "execute_result",
          "data": {
            "text/plain": [
              "'aleman world video game front gunshot restroom cover mass shooting florida time tournament player football video game madden jacksonville winner level tournament vega october cash prize participant jacksonville marketplace store bar restaurant st john river david gamer baltimore maryland jacksonville tournament game bar back pizza restaurant sunday gun venue fire people gun mike williams police motive katz handgun sheriff people wound people area williams victim condition hospital sheriff horror stream event game shot people person f whatd call williams officer scene minute bathroom minute ran scene im member jacksonville fire station rock training parking garage street landing dozen people president jacksonville association fire fighter person shirt chest wyse person wound firefighter aid others landing wyse officer victim body katzs body hour authority agent bureau alcohol tobacco firearm explosive fbi police family home baltimore katz gaming bread tournament multiple gamers cnn buffalo bill picture bill congrats bill thanks bill tweet read interview win buffalo bill player tasker katz prowess player florida mass shooting year gunman people douglas school parkland year people fort lauderdale airport year pulse nightclub orlando gov rick scott reporter night weve something men life value somebody life congresswoman gabrielle giffords mass shooting nation attention nation grief heart giffords gun violence prevention organization statement massacre jacksonville reminder threat violence matter day giffords indictment country inability kid nation grief heart massacre jacksonville indictment country inability kid httpstconnw88rvwr2 gabrielle giffords gabbygiffords ea sport video game developer publisher shooting senseless act violence complexity founder ceo jason cnn shooting esports industry security event company drini thumb lake someone walk event sportsmanship teamwork vibe something heartbreaking esports industry whole look security'"
            ],
            "application/vnd.google.colaboratory.intrinsic+json": {
              "type": "string"
            }
          },
          "metadata": {},
          "execution_count": 23
        }
      ],
      "source": [
        "documents_filtered[0]"
      ]
    },
    {
      "cell_type": "markdown",
      "metadata": {
        "id": "aEnrtufKfYMg"
      },
      "source": [
        "CounterVectorizer 사용해 보기"
      ]
    },
    {
      "cell_type": "code",
      "execution_count": 24,
      "metadata": {
        "id": "9Md4fap-fYMh"
      },
      "outputs": [],
      "source": [
        "from sklearn.feature_extraction.text import CountVectorizer # frequency based DTM\n",
        "tf_vectorizer = CountVectorizer()\n",
        "DTM_tf = tf_vectorizer.fit_transform(documents_filtered)\n",
        "DTM_TF = np.array(DTM_tf.todense()) #dense array (즉, 0을 포함한 array)로 변환후 다시 numpy array로 변환"
      ]
    },
    {
      "cell_type": "code",
      "execution_count": 25,
      "metadata": {
        "id": "MjU_NeqIfYMh",
        "outputId": "0f8ad59e-ef83-4333-95d3-975be59e9500",
        "colab": {
          "base_uri": "https://localhost:8080/"
        }
      },
      "outputs": [
        {
          "output_type": "execute_result",
          "data": {
            "text/plain": [
              "(15, 1166)"
            ]
          },
          "metadata": {},
          "execution_count": 25
        }
      ],
      "source": [
        "DTM_TF.shape"
      ]
    },
    {
      "cell_type": "markdown",
      "metadata": {
        "id": "cDDO3CngfYMh"
      },
      "source": [
        "유클리디안 거리와 코사인 유사도 계산해 보기"
      ]
    },
    {
      "cell_type": "code",
      "execution_count": 26,
      "metadata": {
        "id": "YlgfhfcvfYMh",
        "outputId": "e922010f-9b02-4936-9093-d4301a22484d",
        "colab": {
          "base_uri": "https://localhost:8080/"
        }
      },
      "outputs": [
        {
          "output_type": "stream",
          "name": "stdout",
          "text": [
            "25.11971337416094 31.04834939252005 35.94440151122286\n"
          ]
        }
      ],
      "source": [
        "# 유클리디안 거리\n",
        "d1d2_tf = np.linalg.norm(DTM_TF[0]-DTM_TF[1])\n",
        "d1d4_tf = np.linalg.norm(DTM_TF[0]-DTM_TF[3])\n",
        "d1d6_tf = np.linalg.norm(DTM_TF[0]-DTM_TF[5])\n",
        "print(d1d2_tf, d1d4_tf, d1d6_tf)"
      ]
    },
    {
      "cell_type": "code",
      "execution_count": 27,
      "metadata": {
        "id": "P4FHfYNKfYMi",
        "outputId": "01c5a29d-0a71-4827-cddc-87a6cb3734b6",
        "colab": {
          "base_uri": "https://localhost:8080/"
        }
      },
      "outputs": [
        {
          "output_type": "stream",
          "name": "stdout",
          "text": [
            "0.48098450817589 0.0890419846686842 0.03920003859698009\n"
          ]
        }
      ],
      "source": [
        "# 코사인 유사도\n",
        "d1d2_cos_tf = np.dot(DTM_TF[0],DTM_TF[1])/(np.linalg.norm(DTM_TF[0])*np.linalg.norm(DTM_TF[1]))\n",
        "d1d4_cos_tf = np.dot(DTM_TF[0],DTM_TF[3])/(np.linalg.norm(DTM_TF[0])*np.linalg.norm(DTM_TF[3]))\n",
        "d1d6_cos_tf = np.dot(DTM_TF[0],DTM_TF[5])/(np.linalg.norm(DTM_TF[0])*np.linalg.norm(DTM_TF[5]))\n",
        "print(d1d2_cos_tf, d1d4_cos_tf, d1d6_cos_tf)"
      ]
    },
    {
      "cell_type": "markdown",
      "metadata": {
        "id": "p5uiDyqifYMi"
      },
      "source": [
        "## KMeans 적용하기"
      ]
    },
    {
      "cell_type": "code",
      "execution_count": 28,
      "metadata": {
        "id": "z24-M2aGfYMi"
      },
      "outputs": [],
      "source": [
        "from sklearn.cluster import KMeans"
      ]
    },
    {
      "cell_type": "code",
      "execution_count": 29,
      "metadata": {
        "id": "iNTVQfwQfYMi"
      },
      "outputs": [],
      "source": [
        "# TF 정보 사용\n",
        "kmeans = KMeans(n_clusters=5)\n",
        "clusters_TF = kmeans.fit_predict(DTM_TF) # KMeans 알고리즘으로 학습"
      ]
    },
    {
      "cell_type": "markdown",
      "metadata": {
        "id": "L9IuEyIbfYMi"
      },
      "source": [
        "'clusters_TF = kmeans.fit_predict(DTM_TF)'를 실행하는데 있어 AttributeError: 'NoneType' object has no attribute 'split' 에러가 발생하는 경우, 아래 코드를 실행해서 threadpoolctl 모듈의 버전을 최신 버전으로 업데이트 해주세요.<br>\n",
        "!pip install - U threadpoolctl"
      ]
    },
    {
      "cell_type": "code",
      "execution_count": 30,
      "metadata": {
        "id": "dbXUPbMsfYMj",
        "outputId": "fb88af6f-5ec1-423a-a1ed-49f4308bf81b",
        "colab": {
          "base_uri": "https://localhost:8080/"
        }
      },
      "outputs": [
        {
          "output_type": "execute_result",
          "data": {
            "text/plain": [
              "array([3, 3, 3, 1, 2, 1, 1, 1, 4, 4, 4, 4, 0, 0, 0], dtype=int32)"
            ]
          },
          "metadata": {},
          "execution_count": 30
        }
      ],
      "source": [
        "clusters_TF"
      ]
    },
    {
      "cell_type": "markdown",
      "metadata": {
        "id": "mXkIo76SfYMj"
      },
      "source": [
        "TfidfVectorizer 사용해보기"
      ]
    },
    {
      "cell_type": "code",
      "execution_count": 31,
      "metadata": {
        "id": "gizlJmK8fYMj"
      },
      "outputs": [],
      "source": [
        "from sklearn.feature_extraction.text import TfidfVectorizer # tf-idf based DTM\n",
        "tfidf_vectorizer = TfidfVectorizer()\n",
        "DTM_tfidf = tfidf_vectorizer.fit_transform(documents_filtered)\n",
        "DTM_TFIDF = np.array(DTM_tfidf.todense())"
      ]
    },
    {
      "cell_type": "code",
      "execution_count": 32,
      "metadata": {
        "id": "WdoC03KsfYMj"
      },
      "outputs": [],
      "source": [
        "#TFIDF 정보 사용\n",
        "kmeans = KMeans(n_clusters=5)\n",
        "clusters_TFIDF = kmeans.fit_predict(DTM_TFIDF)"
      ]
    },
    {
      "cell_type": "code",
      "execution_count": 33,
      "metadata": {
        "id": "ky850yDLfYMj",
        "outputId": "6e676da9-5b3f-4f19-e0d1-5eba3f4782eb",
        "colab": {
          "base_uri": "https://localhost:8080/"
        }
      },
      "outputs": [
        {
          "output_type": "execute_result",
          "data": {
            "text/plain": [
              "array([3, 3, 3, 4, 4, 2, 2, 2, 1, 1, 1, 1, 0, 0, 0], dtype=int32)"
            ]
          },
          "metadata": {},
          "execution_count": 33
        }
      ],
      "source": [
        "clusters_TFIDF"
      ]
    },
    {
      "cell_type": "markdown",
      "metadata": {
        "id": "p9pT4Xe6fYMk"
      },
      "source": [
        "# 실루엣 스코어 계산해 보기"
      ]
    },
    {
      "cell_type": "code",
      "execution_count": 34,
      "metadata": {
        "id": "AUq1d_EsfYMk",
        "outputId": "372e7a5b-4248-4662-b5b9-4a8851d2bebc",
        "colab": {
          "base_uri": "https://localhost:8080/"
        }
      },
      "outputs": [
        {
          "output_type": "stream",
          "name": "stdout",
          "text": [
            "2 0.09310558805889903\n",
            "3 0.14179670602577632\n",
            "4 0.20398498202942308\n",
            "5 0.24302353093870305\n",
            "6 0.22094875903585243\n",
            "7 0.19474059372141436\n",
            "8 0.19150731029915946\n",
            "9 0.18306299142275123\n",
            "10 0.14400718007859883\n"
          ]
        }
      ],
      "source": [
        "from sklearn.metrics import silhouette_score\n",
        "for k in range(2,11):\n",
        "    kmeans = KMeans(n_clusters=k, random_state=42)\n",
        "    cluster = kmeans.fit_predict(DTM_TFIDF)\n",
        "    print(k, silhouette_score(DTM_TFIDF, cluster))"
      ]
    },
    {
      "cell_type": "code",
      "execution_count": 34,
      "metadata": {
        "id": "U8TnX6SNfYMl"
      },
      "outputs": [],
      "source": []
    }
  ],
  "metadata": {
    "kernelspec": {
      "display_name": "Python 3 (ipykernel)",
      "language": "python",
      "name": "python3"
    },
    "language_info": {
      "codemirror_mode": {
        "name": "ipython",
        "version": 3
      },
      "file_extension": ".py",
      "mimetype": "text/x-python",
      "name": "python",
      "nbconvert_exporter": "python",
      "pygments_lexer": "ipython3",
      "version": "3.9.13"
    },
    "colab": {
      "provenance": [],
      "include_colab_link": true
    }
  },
  "nbformat": 4,
  "nbformat_minor": 0
}