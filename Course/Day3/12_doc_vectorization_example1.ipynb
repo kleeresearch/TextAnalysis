{
  "cells": [
    {
      "cell_type": "markdown",
      "metadata": {
        "id": "view-in-github",
        "colab_type": "text"
      },
      "source": [
        "<a href=\"https://colab.research.google.com/github/kleeresearch/TextAnalysis/blob/master/Course/Day3/12_doc_vectorization_example1.ipynb\" target=\"_parent\"><img src=\"https://colab.research.google.com/assets/colab-badge.svg\" alt=\"Open In Colab\"/></a>"
      ]
    },
    {
      "cell_type": "code",
      "execution_count": 1,
      "metadata": {
        "id": "Gl64EXKCQn3e"
      },
      "outputs": [],
      "source": [
        "import numpy as np\n",
        "import pandas as pd\n",
        "from sklearn.feature_extraction.text import CountVectorizer # frequency based DTM\n",
        "from sklearn.feature_extraction.text import TfidfVectorizer # tf-idf based DTM"
      ]
    },
    {
      "cell_type": "code",
      "execution_count": 2,
      "metadata": {
        "id": "P7NNxawBQn3m"
      },
      "outputs": [],
      "source": [
        "TEXT = ['banana apple apple eggplant',\n",
        "        'orange carrot banana eggplant',\n",
        "        'apple carrot banana banana',\n",
        "        'orange banana grape'\n",
        "]"
      ]
    },
    {
      "cell_type": "markdown",
      "metadata": {
        "id": "COA3voXSQn3n"
      },
      "source": [
        "# CountVectorizer 이용하기"
      ]
    },
    {
      "cell_type": "markdown",
      "source": [
        "* min_df와 max_df는 단어가 사용된 문서의 수를 기준으로 / 문서를 벡터로 표현할 때 / 사용하고자 하는 단어를 선별하는 목적으로 사용\n",
        "\n",
        "* min_df(minimum document frequency): min_df로 지정된 값보다 더 적은 수의 문서에서 사용된 단어들은 문서를 벡터로 표현할 때 사용되지 않음\n",
        "\n",
        "* min_df는 0 이상의 정수 / 또는 0과 1 사이의 소수(float)를 값으로 입력 받음. / 0 이상의 정수는 절대적 문서 숫자를 의미하고, / 0과 1 사이의 소수는 비율(ratio)을 의미\n",
        "\n",
        "* max_df(maximum document frequency): max_df로 지정된 값보다 / 더 많은 문서에서 사용된 단어 벡터 변환에 사용되지 않음.\n",
        "\n",
        "* n-gram: 연속된 n개의 토큰\n"
      ],
      "metadata": {
        "id": "rn4iTfTGRRXz"
      }
    },
    {
      "cell_type": "code",
      "execution_count": 3,
      "metadata": {
        "id": "B-On6aW1Qn3v"
      },
      "outputs": [],
      "source": [
        "tf_vectorizer = CountVectorizer(min_df=1, max_df=0.8, ngram_range=(1,1))\n",
        "tf_features = tf_vectorizer.fit_transform(TEXT)"
      ]
    },
    {
      "cell_type": "code",
      "execution_count": 4,
      "metadata": {
        "id": "-WB2Y6SLQn3w",
        "outputId": "3db5d79a-81a4-4dd3-9e4b-7e11395d1fe2",
        "colab": {
          "base_uri": "https://localhost:8080/"
        }
      },
      "outputs": [
        {
          "output_type": "stream",
          "name": "stdout",
          "text": [
            "  (0, 0)\t2\n",
            "  (0, 2)\t1\n",
            "  (1, 2)\t1\n",
            "  (1, 4)\t1\n",
            "  (1, 1)\t1\n",
            "  (2, 0)\t1\n",
            "  (2, 1)\t1\n",
            "  (3, 4)\t1\n",
            "  (3, 3)\t1\n"
          ]
        }
      ],
      "source": [
        "print(tf_features)"
      ]
    },
    {
      "cell_type": "markdown",
      "source": [
        "해석:\n",
        "\n",
        "- 첫번째 단어가 문서에서 2번 사용되었다.\n",
        "- 첫번째 문서의 2개 단어 뭉탱이가 1번 사용되었다.\n"
      ],
      "metadata": {
        "id": "Vt0IyPUJUEEo"
      }
    },
    {
      "cell_type": "code",
      "execution_count": 5,
      "metadata": {
        "id": "4nkj-0ZVQn3x",
        "outputId": "8fdb8f33-747b-44d9-c5c4-1598cfe8ac96",
        "colab": {
          "base_uri": "https://localhost:8080/"
        }
      },
      "outputs": [
        {
          "output_type": "execute_result",
          "data": {
            "text/plain": [
              "array([[2, 0, 1, 0, 0],\n",
              "       [0, 1, 1, 0, 1],\n",
              "       [1, 1, 0, 0, 0],\n",
              "       [0, 0, 0, 1, 1]])"
            ]
          },
          "metadata": {},
          "execution_count": 5
        }
      ],
      "source": [
        "features = np.array(tf_features.todense())\n",
        "features"
      ]
    },
    {
      "cell_type": "markdown",
      "source": [
        "각각의 문서에 대한 벡터가 됨. 칼럼은 단어가 됨. 단어들은 어떠한 순서로 배열이 되나? 각각의 문서를 벡터로 표혀하기 위해서 알파벳 순으로 정렬했을 때 첫번째 단어에 대한 정보가 첫번째 칼럼에 있음. 칼럼의 수는 텍스트 데이터에 존재하는 문서에서 벡터로 표현하는 단어의 수가 5라는 것을 의미한다. 단어의 수가 5이기 때문에 각각의 문서에 나타나는 벡터의 차원의 크기가 5차원이 된다.  "
      ],
      "metadata": {
        "id": "cdgq_3oeUUnx"
      }
    },
    {
      "cell_type": "code",
      "execution_count": 6,
      "metadata": {
        "id": "WythaYPpQn3z",
        "outputId": "2af9b2f1-b7b5-4e66-9a8d-b0001c9f5d0b",
        "colab": {
          "base_uri": "https://localhost:8080/"
        }
      },
      "outputs": [
        {
          "output_type": "execute_result",
          "data": {
            "text/plain": [
              "(4, 5)"
            ]
          },
          "metadata": {},
          "execution_count": 6
        }
      ],
      "source": [
        "features.shape"
      ]
    },
    {
      "cell_type": "code",
      "execution_count": 7,
      "metadata": {
        "id": "A3L4HC35Qn30",
        "outputId": "0534d16e-34d8-4465-94f8-5f646fe1a755",
        "colab": {
          "base_uri": "https://localhost:8080/"
        }
      },
      "outputs": [
        {
          "output_type": "execute_result",
          "data": {
            "text/plain": [
              "array([2, 0, 1, 0, 0])"
            ]
          },
          "metadata": {},
          "execution_count": 7
        }
      ],
      "source": [
        "features[0]"
      ]
    },
    {
      "cell_type": "markdown",
      "source": [
        "해석: 첫번째 행은 5차원 공간에 존재하는 방향의 점이다. 벡터들 간의 유사도를 계산할 수 있다. 위치 정보를 기반으로 거리를 계산. 방향 정보를 기반으로 유사도를 계산하기 위해서느 cosign septa 값을 계산한다."
      ],
      "metadata": {
        "id": "MX0B3D1dU0UG"
      }
    },
    {
      "cell_type": "code",
      "execution_count": 8,
      "metadata": {
        "id": "81wLW0V7Qn4E",
        "outputId": "9b3dea6b-f692-4480-c16d-82c0429e573f",
        "colab": {
          "base_uri": "https://localhost:8080/"
        }
      },
      "outputs": [
        {
          "output_type": "execute_result",
          "data": {
            "text/plain": [
              "array([0, 1, 1, 0, 1])"
            ]
          },
          "metadata": {},
          "execution_count": 8
        }
      ],
      "source": [
        "features[1]"
      ]
    },
    {
      "cell_type": "code",
      "execution_count": 9,
      "metadata": {
        "id": "1jUd_NkIQn4K",
        "outputId": "b12fbee8-72fc-48f8-8f60-23a85aa04d30",
        "colab": {
          "base_uri": "https://localhost:8080/"
        }
      },
      "outputs": [
        {
          "output_type": "execute_result",
          "data": {
            "text/plain": [
              "2.449489742783178"
            ]
          },
          "metadata": {},
          "execution_count": 9
        }
      ],
      "source": [
        "np.linalg.norm(features[1]-features[0])"
      ]
    },
    {
      "cell_type": "markdown",
      "source": [
        "해석: 첫번째 문서와 두번째 문서 간의 유클리디안 거리를 구했다."
      ],
      "metadata": {
        "id": "tjB5Kk5cVAzS"
      }
    },
    {
      "cell_type": "code",
      "execution_count": 10,
      "metadata": {
        "id": "z73tULaaQn4L",
        "outputId": "e8e1925a-91dc-4fa0-bec4-03f9f589d8d9",
        "colab": {
          "base_uri": "https://localhost:8080/"
        }
      },
      "outputs": [
        {
          "output_type": "execute_result",
          "data": {
            "text/plain": [
              "1.7320508075688772"
            ]
          },
          "metadata": {},
          "execution_count": 10
        }
      ],
      "source": [
        "np.linalg.norm(features[1]-features[2])"
      ]
    },
    {
      "cell_type": "markdown",
      "source": [
        "아래 해석: 단어 정보를 이용해서 유클리디안 거리를 구했다."
      ],
      "metadata": {
        "id": "dfhlOPxJVGID"
      }
    },
    {
      "cell_type": "code",
      "execution_count": 11,
      "metadata": {
        "id": "MxeiWhNYQn4L",
        "outputId": "1da5b15c-7f89-4573-fabc-ee9af93ac4ee",
        "colab": {
          "base_uri": "https://localhost:8080/"
        }
      },
      "outputs": [
        {
          "output_type": "execute_result",
          "data": {
            "text/plain": [
              "array(['apple', 'carrot', 'eggplant', 'grape', 'orange'], dtype=object)"
            ]
          },
          "metadata": {},
          "execution_count": 11
        }
      ],
      "source": [
        "feature_names = tf_vectorizer.get_feature_names_out()\n",
        "feature_names"
      ]
    },
    {
      "cell_type": "markdown",
      "source": [
        "해당 정보를 이용해서 dpm?과 동일한 정보가 된다."
      ],
      "metadata": {
        "id": "InmRifQdVOmZ"
      }
    },
    {
      "cell_type": "code",
      "execution_count": 12,
      "metadata": {
        "id": "nIP2g2VZQn4M",
        "outputId": "a312a3a5-b461-49e0-d8f0-f085697acdd8",
        "colab": {
          "base_uri": "https://localhost:8080/"
        }
      },
      "outputs": [
        {
          "output_type": "stream",
          "name": "stdout",
          "text": [
            "   apple  carrot  eggplant  grape  orange\n",
            "0      2       0         1      0       0\n",
            "1      0       1         1      0       1\n",
            "2      1       1         0      0       0\n",
            "3      0       0         0      1       1\n"
          ]
        }
      ],
      "source": [
        "import pandas as pd\n",
        "df = pd.DataFrame(data=features, columns=feature_names)\n",
        "print(df)"
      ]
    },
    {
      "cell_type": "markdown",
      "metadata": {
        "id": "3Cpo4g2-Qn4N"
      },
      "source": [
        "# TfidfVectorizer 이용하기"
      ]
    },
    {
      "cell_type": "markdown",
      "source": [
        "ngram_range = (1,2)로 바꾸면 유니그램이 아니라 바이그램까지 이용하겠다는 말.\n",
        "\n",
        "하나의 벡터의 차원의 크기가 15가 되었다.\n",
        "\n",
        "유니그램만 사용했을 때는 5차원, 10차원이었는데 벡터의 크기가 커지면 여러 문제가 생긴다.\n",
        "\n",
        "벡터가 여러 문제를 못 나타낼 수 있다. 어떠한 연산에 더 많은 시간이 걸린다.\n",
        "\n",
        "바이그램은 텍스트분석에 잘 사용하지 않는다.\n",
        "\n",
        "바이그램은 get_feature_names라는 펑션을 볼 수 있다."
      ],
      "metadata": {
        "id": "wL5bjTx0Vqgg"
      }
    },
    {
      "cell_type": "markdown",
      "source": [
        "TF IDF 정보를 이용해서 각각의 문서를 표시하고 싶을 때 사용한다."
      ],
      "metadata": {
        "id": "SLmhwKCZWNkn"
      }
    },
    {
      "cell_type": "code",
      "execution_count": 13,
      "metadata": {
        "id": "szvUqEwVQn4N"
      },
      "outputs": [],
      "source": [
        "tfidf_vectorizer = TfidfVectorizer(min_df=1, ngram_range=(1,1))\n",
        "tfidf_features = tfidf_vectorizer.fit_transform(TEXT)"
      ]
    },
    {
      "cell_type": "code",
      "execution_count": 14,
      "metadata": {
        "id": "0zkPIn1ZQn4O",
        "outputId": "caf89bfb-8bed-4987-f660-770b0fd8d8a3",
        "colab": {
          "base_uri": "https://localhost:8080/"
        }
      },
      "outputs": [
        {
          "output_type": "execute_result",
          "data": {
            "text/plain": [
              "array([[0.85764287, 0.28383251, 0.        , 0.42882143, 0.        ,\n",
              "        0.        ],\n",
              "       [0.        , 0.35696573, 0.53931298, 0.53931298, 0.        ,\n",
              "        0.53931298],\n",
              "       [0.51623315, 0.68337886, 0.51623315, 0.        , 0.        ,\n",
              "        0.        ],\n",
              "       [0.        , 0.37919167, 0.        , 0.        , 0.72664149,\n",
              "        0.5728925 ]])"
            ]
          },
          "metadata": {},
          "execution_count": 14
        }
      ],
      "source": [
        "tfidf_features = np.array(tfidf_features.todense())\n",
        "tfidf_features"
      ]
    },
    {
      "cell_type": "code",
      "execution_count": 15,
      "metadata": {
        "id": "PmBl3iOYQn4O",
        "outputId": "9a0b81af-c9a7-428d-8073-4dda97540175",
        "colab": {
          "base_uri": "https://localhost:8080/"
        }
      },
      "outputs": [
        {
          "output_type": "execute_result",
          "data": {
            "text/plain": [
              "array([0.85764287, 0.28383251, 0.        , 0.42882143, 0.        ,\n",
              "       0.        ])"
            ]
          },
          "metadata": {},
          "execution_count": 15
        }
      ],
      "source": [
        "tfidf_features[0]"
      ]
    },
    {
      "cell_type": "code",
      "execution_count": 15,
      "metadata": {
        "id": "FDoo6O9MQn4O"
      },
      "outputs": [],
      "source": []
    }
  ],
  "metadata": {
    "kernelspec": {
      "display_name": "Python 3 (ipykernel)",
      "language": "python",
      "name": "python3"
    },
    "language_info": {
      "codemirror_mode": {
        "name": "ipython",
        "version": 3
      },
      "file_extension": ".py",
      "mimetype": "text/x-python",
      "name": "python",
      "nbconvert_exporter": "python",
      "pygments_lexer": "ipython3",
      "version": "3.9.13"
    },
    "colab": {
      "provenance": [],
      "include_colab_link": true
    }
  },
  "nbformat": 4,
  "nbformat_minor": 0
}