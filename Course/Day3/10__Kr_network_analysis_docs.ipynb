{
  "cells": [
    {
      "cell_type": "markdown",
      "metadata": {
        "id": "view-in-github",
        "colab_type": "text"
      },
      "source": [
        "<a href=\"https://colab.research.google.com/github/kleeresearch/TextAnalysis/blob/master/Course/Day3/10__Kr_network_analysis_docs.ipynb\" target=\"_parent\"><img src=\"https://colab.research.google.com/assets/colab-badge.svg\" alt=\"Open In Colab\"/></a>"
      ]
    },
    {
      "cell_type": "markdown",
      "metadata": {
        "id": "8Juh6lmrtQ4w"
      },
      "source": [
        "## 전처리 하기"
      ]
    },
    {
      "cell_type": "code",
      "source": [
        "from google.colab import drive\n",
        "drive.mount('/content/drive')"
      ],
      "metadata": {
        "colab": {
          "base_uri": "https://localhost:8080/"
        },
        "id": "JDG-IbogtgxK",
        "outputId": "de4dc291-e6c4-4f18-856f-210dec000b15"
      },
      "execution_count": 21,
      "outputs": [
        {
          "output_type": "stream",
          "name": "stdout",
          "text": [
            "Drive already mounted at /content/drive; to attempt to forcibly remount, call drive.mount(\"/content/drive\", force_remount=True).\n"
          ]
        }
      ]
    },
    {
      "cell_type": "code",
      "source": [
        "!pip install kiwipiepy"
      ],
      "metadata": {
        "colab": {
          "base_uri": "https://localhost:8080/"
        },
        "id": "M3Zgs67luF3Y",
        "outputId": "3e7b5a3b-3a89-4045-c215-872757e424c9"
      },
      "execution_count": 5,
      "outputs": [
        {
          "output_type": "stream",
          "name": "stdout",
          "text": [
            "Collecting kiwipiepy\n",
            "  Downloading kiwipiepy-0.16.2-cp310-cp310-manylinux_2_17_x86_64.manylinux2014_x86_64.whl (2.8 MB)\n",
            "\u001b[2K     \u001b[90m━━━━━━━━━━━━━━━━━━━━━━━━━━━━━━━━━━━━━━━━\u001b[0m \u001b[32m2.8/2.8 MB\u001b[0m \u001b[31m10.8 MB/s\u001b[0m eta \u001b[36m0:00:00\u001b[0m\n",
            "\u001b[?25hCollecting kiwipiepy-model~=0.16 (from kiwipiepy)\n",
            "  Downloading kiwipiepy_model-0.16.0.tar.gz (30.8 MB)\n",
            "\u001b[2K     \u001b[90m━━━━━━━━━━━━━━━━━━━━━━━━━━━━━━━━━━━━━━━━\u001b[0m \u001b[32m30.8/30.8 MB\u001b[0m \u001b[31m17.5 MB/s\u001b[0m eta \u001b[36m0:00:00\u001b[0m\n",
            "\u001b[?25h  Preparing metadata (setup.py) ... \u001b[?25l\u001b[?25hdone\n",
            "Requirement already satisfied: numpy in /usr/local/lib/python3.10/dist-packages (from kiwipiepy) (1.23.5)\n",
            "Requirement already satisfied: tqdm in /usr/local/lib/python3.10/dist-packages (from kiwipiepy) (4.66.1)\n",
            "Building wheels for collected packages: kiwipiepy-model\n",
            "  Building wheel for kiwipiepy-model (setup.py) ... \u001b[?25l\u001b[?25hdone\n",
            "  Created wheel for kiwipiepy-model: filename=kiwipiepy_model-0.16.0-py3-none-any.whl size=30813256 sha256=745502d577baf379845a7b58c7089106f9c8a1351f9825e35ef38c1a2cfcdabb\n",
            "  Stored in directory: /root/.cache/pip/wheels/6b/03/2b/ac2c97cc65ebd9df3516f4b900adc2f0a744df8d1375b2e2ef\n",
            "Successfully built kiwipiepy-model\n",
            "Installing collected packages: kiwipiepy-model, kiwipiepy\n",
            "Successfully installed kiwipiepy-0.16.2 kiwipiepy-model-0.16.0\n"
          ]
        }
      ]
    },
    {
      "cell_type": "code",
      "execution_count": 6,
      "metadata": {
        "id": "GJ6stdkBtQ42"
      },
      "outputs": [],
      "source": [
        "from kiwipiepy import Kiwi\n",
        "import re\n",
        "from collections import Counter\n",
        "kiwi = Kiwi()\n",
        "from kiwipiepy.utils import Stopwords\n",
        "stopwords = Stopwords()\n",
        "customized_stopwords = ['연합뉴스', '네이버', '기자', '문의']\n",
        "for word in customized_stopwords:\n",
        "    stopwords.add((word, 'NNG'))\n",
        "\n",
        "def do_Kr_preprocessing(text):\n",
        "    cleaned_content = re.sub(r'[^\\w\\d\\s]','',text) # To remove symbols\n",
        "    cleaned_content = cleaned_content.lower() # Case conversion, upper -> lower\n",
        "    word_tokens = kiwi.tokenize(cleaned_content, stopwords=stopwords)\n",
        "    NN_words = []   # To select nouns\n",
        "    for token in word_tokens:\n",
        "        if 'NN' in token.tag:\n",
        "            NN_words.append(token.form)\n",
        "    final_NN_words = []\n",
        "    for word in NN_words:\n",
        "        if len(word) > 1:\n",
        "            final_NN_words.append(word)\n",
        "\n",
        "    return final_NN_words"
      ]
    },
    {
      "cell_type": "code",
      "execution_count": 7,
      "metadata": {
        "id": "sXO2t9n_tQ46"
      },
      "outputs": [],
      "source": [
        "# 네트워크 생성\n",
        "from sklearn.feature_extraction.text import CountVectorizer\n",
        "import numpy as np\n",
        "import networkx as nx\n",
        "def construct_network(text):\n",
        "    vectorizer = CountVectorizer(min_df=1, ngram_range=(1,1))\n",
        "    DTM_tf = vectorizer.fit_transform(text)\n",
        "    feature_names = vectorizer.get_feature_names_out()\n",
        "    DTM = np.array(DTM_tf.todense())\n",
        "    DTM_binary = np.sign(DTM)\n",
        "    words_cooccurrence = np.dot(DTM_binary.T, DTM_binary)\n",
        "    np.fill_diagonal(words_cooccurrence, 0)\n",
        "    #print(feature_names) # 네트워크를 구성하는 단어 출력하기\n",
        "    #print(words_cooccurrence) # 단어들 간의 인접행렬 출력하기\n",
        "    g = nx.convert_matrix.from_numpy_array(words_cooccurrence)\n",
        "    mapping = {}\n",
        "    for k, word in enumerate(feature_names):\n",
        "        mapping[k]=word\n",
        "    g1 = nx.relabel_nodes(g, mapping)\n",
        "    return g1\n",
        "\n",
        "def get_text_network(text, selected_words):\n",
        "    cleaned_docs = [do_Kr_preprocessing(doc) for doc in text]\n",
        "    new_docs=[]\n",
        "    for doc in cleaned_docs:\n",
        "        new_doc=[]\n",
        "        for word in doc:\n",
        "            if word in selected_words:\n",
        "                new_doc.append(word)\n",
        "        if len(new_doc)>1:\n",
        "            new_docs.append(' '.join(new_doc))\n",
        "    return construct_network(new_docs)"
      ]
    },
    {
      "cell_type": "markdown",
      "metadata": {
        "id": "tUr_PtzptQ47"
      },
      "source": [
        "### Text data 불러오기"
      ]
    },
    {
      "cell_type": "code",
      "execution_count": 11,
      "metadata": {
        "id": "H4YHX4oGtQ48"
      },
      "outputs": [],
      "source": [
        "import numpy as np\n",
        "from os import listdir\n",
        "from os.path import isfile, join\n",
        "\n",
        "mypath = '/content/drive/MyDrive/KOSSDA_텍스트마이닝_강의자료/강의자료/Day2/python_code/example_Kr/' # 네트워크 분석을 하고자하는 문서들이 저장되어 있는 폴더\n",
        "onlyfiles = [f for f in listdir(mypath) if isfile(join(mypath, f))]\n",
        "onlyfiles.sort()\n",
        "\n",
        "total_docs = []\n",
        "for file in onlyfiles:\n",
        "    file_path = mypath+file\n",
        "    with open(file_path, 'r', encoding='utf8') as f:\n",
        "        content = f.read()\n",
        "    total_docs.append(content)"
      ]
    },
    {
      "cell_type": "code",
      "execution_count": 13,
      "metadata": {
        "id": "1PXItyX4tQ49",
        "outputId": "347ab3bf-f1f8-4bac-ce30-58b7d5b17b0b",
        "colab": {
          "base_uri": "https://localhost:8080/"
        }
      },
      "outputs": [
        {
          "output_type": "execute_result",
          "data": {
            "text/plain": [
              "['사과 과일 여름 바나나 딸기.\\n딸기 사과 바지 옷 하늘 구름.',\n",
              " '우리나라 대한민국 일본 중국 미국.\\n대한민국 북한 일본 중국.',\n",
              " '대한민국 미국 축구 북한 농구.\\n축구 북한 대한민국 야구.\\n가을 축구 대한민국 손흥민.',\n",
              " '바나나 사과 주스 건강 매일.\\n키위 바나나 주스 아침.\\n건강 달리기 걷기 과일.',\n",
              " '가을 자전거 하늘 걷기.\\n도로 주행 여행 드라이브.\\n겨울 눈 추위 감기.']"
            ]
          },
          "metadata": {},
          "execution_count": 13
        }
      ],
      "source": [
        "total_docs"
      ]
    },
    {
      "cell_type": "markdown",
      "metadata": {
        "id": "Vpq14hUttQ4_"
      },
      "source": [
        "## 상위 K개의 명사 단어 추출하기"
      ]
    },
    {
      "cell_type": "code",
      "execution_count": 12,
      "metadata": {
        "id": "XFOm1qJktQ5B"
      },
      "outputs": [],
      "source": [
        "def get_words(counter_results):\n",
        "    words = []\n",
        "    for word, fre in counter_results:\n",
        "        words.append(word)\n",
        "    return words\n",
        "\n",
        "def select_words(K, text):\n",
        "    c = Counter(do_Kr_preprocessing(text))\n",
        "    selected_words = get_words(c.most_common(K))\n",
        "    return selected_words"
      ]
    },
    {
      "cell_type": "code",
      "execution_count": 14,
      "metadata": {
        "id": "S3XJWTXRtQ5C"
      },
      "outputs": [],
      "source": [
        "# 각 문서를 연결하여 하나의 문서로 표현\n",
        "total_data = ' '.join(total_docs)"
      ]
    },
    {
      "cell_type": "code",
      "execution_count": 15,
      "metadata": {
        "id": "qxwfAlJktQ5D"
      },
      "outputs": [],
      "source": [
        "# 전체 문서에서 빈도 기준으로 상위 5개 명사 단어 선택\n",
        "# 여러분은 이론적 근거를 통해 단어를 선택할 수 있습니다.\n",
        "final_nouns = select_words(5, total_data)"
      ]
    },
    {
      "cell_type": "code",
      "execution_count": 16,
      "metadata": {
        "id": "9Sfctek7tQ5E",
        "outputId": "abbe4e21-0cd0-4261-b6b2-82bc1c3a977e",
        "colab": {
          "base_uri": "https://localhost:8080/"
        }
      },
      "outputs": [
        {
          "output_type": "stream",
          "name": "stdout",
          "text": [
            "['대한민국', '사과', '북한', '축구', '과일']\n"
          ]
        }
      ],
      "source": [
        "print(final_nouns)"
      ]
    },
    {
      "cell_type": "markdown",
      "metadata": {
        "id": "83byRuo4tQ5F"
      },
      "source": [
        "### 어떠한 기준이나 근거에 따라 단어를 선택하는 경우"
      ]
    },
    {
      "cell_type": "code",
      "execution_count": 17,
      "metadata": {
        "id": "FrrtSbFMtQ5F"
      },
      "outputs": [],
      "source": [
        "final_nouns = ['사과', '바나나', '주스', '축구', '대한민국']"
      ]
    },
    {
      "cell_type": "markdown",
      "metadata": {
        "id": "_6cYisWUtQ5G"
      },
      "source": [
        "# Text network 생성하기"
      ]
    },
    {
      "cell_type": "code",
      "execution_count": 18,
      "metadata": {
        "id": "gpRBvcc-tQ5G"
      },
      "outputs": [],
      "source": [
        "g = get_text_network(total_docs, final_nouns)"
      ]
    },
    {
      "cell_type": "markdown",
      "metadata": {
        "id": "EsRTsb1ctQ5G"
      },
      "source": [
        "## Network 시각화 하기"
      ]
    },
    {
      "cell_type": "code",
      "execution_count": 25,
      "metadata": {
        "id": "9MLq6lIytQ5G",
        "outputId": "e90364e1-6506-4b59-a938-224f40b1c66b",
        "colab": {
          "base_uri": "https://localhost:8080/",
          "height": 820
        }
      },
      "outputs": [
        {
          "output_type": "stream",
          "name": "stderr",
          "text": [
            "WARNING:matplotlib.font_manager:findfont: Font family 'Malgun Gothic' not found.\n",
            "WARNING:matplotlib.font_manager:findfont: Font family 'Malgun Gothic' not found.\n",
            "WARNING:matplotlib.font_manager:findfont: Font family 'Malgun Gothic' not found.\n",
            "WARNING:matplotlib.font_manager:findfont: Font family 'Malgun Gothic' not found.\n",
            "WARNING:matplotlib.font_manager:findfont: Font family 'Malgun Gothic' not found.\n",
            "WARNING:matplotlib.font_manager:findfont: Font family 'Malgun Gothic' not found.\n",
            "WARNING:matplotlib.font_manager:findfont: Font family 'Malgun Gothic' not found.\n",
            "WARNING:matplotlib.font_manager:findfont: Font family 'Malgun Gothic' not found.\n",
            "WARNING:matplotlib.font_manager:findfont: Font family 'Malgun Gothic' not found.\n",
            "WARNING:matplotlib.font_manager:findfont: Font family 'Malgun Gothic' not found.\n",
            "WARNING:matplotlib.font_manager:findfont: Font family 'Malgun Gothic' not found.\n",
            "WARNING:matplotlib.font_manager:findfont: Font family 'Malgun Gothic' not found.\n",
            "WARNING:matplotlib.font_manager:findfont: Font family 'Malgun Gothic' not found.\n",
            "WARNING:matplotlib.font_manager:findfont: Font family 'Malgun Gothic' not found.\n",
            "WARNING:matplotlib.font_manager:findfont: Font family 'Malgun Gothic' not found.\n",
            "WARNING:matplotlib.font_manager:findfont: Font family 'Malgun Gothic' not found.\n",
            "WARNING:matplotlib.font_manager:findfont: Font family 'Malgun Gothic' not found.\n"
          ]
        },
        {
          "output_type": "display_data",
          "data": {
            "text/plain": [
              "<Figure size 640x480 with 1 Axes>"
            ],
            "image/png": "[encoded data removed]"
          },
          "metadata": {}
        }
      ],
      "source": [
        "import matplotlib.pyplot as plt\n",
        "import matplotlib.font_manager as fm\n",
        "from matplotlib import rc\n",
        "font_name = fm.FontProperties(fname=\"/content/drive/MyDrive/KOSSDA_텍스트마이닝_강의자료/강의자료/Day2/python_code/malgun.ttf\").get_name()\n",
        "rc('font', family=font_name)\n",
        "# 맥의 경우, /Library/Fonts 또는 /System/Library/Fonts 에 있는 한글 폰트 사용\n",
        "\n",
        "pos=nx.shell_layout(g)\n",
        "nx.draw_shell(g)\n",
        "nx.draw_networkx_labels(g,pos,font_family=font_name,font_size=10)\n",
        "plt.show()"
      ]
    },
    {
      "cell_type": "code",
      "execution_count": 26,
      "metadata": {
        "id": "1GxBJwZmtQ5H",
        "outputId": "e7a6f630-e948-4830-d613-6252f46de9fa",
        "colab": {
          "base_uri": "https://localhost:8080/"
        }
      },
      "outputs": [
        {
          "output_type": "execute_result",
          "data": {
            "text/plain": [
              "AtlasView({'사과': {'weight': 2}, '주스': {'weight': 1}})"
            ]
          },
          "metadata": {},
          "execution_count": 26
        }
      ],
      "source": [
        "g['바나나']"
      ]
    },
    {
      "cell_type": "code",
      "execution_count": 27,
      "metadata": {
        "id": "l9CdhXjKtQ5H"
      },
      "outputs": [],
      "source": [
        "# graphml 파일로 저장하기\n",
        "nx.write_graphml(g, 'Kr_test.graphml')"
      ]
    },
    {
      "cell_type": "markdown",
      "metadata": {
        "id": "OgMpgpLjtQ5I"
      },
      "source": [
        "## 중심도 계산하기"
      ]
    },
    {
      "cell_type": "code",
      "execution_count": 28,
      "metadata": {
        "id": "oZSpDLqAtQ5I",
        "outputId": "b0e7cea1-4b0b-43e6-ea46-f281065a0037",
        "colab": {
          "base_uri": "https://localhost:8080/"
        }
      },
      "outputs": [
        {
          "output_type": "execute_result",
          "data": {
            "text/plain": [
              "[('바나나', 0.5), ('사과', 0.5), ('주스', 0.5), ('대한민국', 0.25), ('축구', 0.25)]"
            ]
          },
          "metadata": {},
          "execution_count": 28
        }
      ],
      "source": [
        "# 디그리 중심도\n",
        "sorted(nx.degree_centrality(g).items(), key=lambda x:x[1],reverse=True)"
      ]
    },
    {
      "cell_type": "code",
      "execution_count": 29,
      "metadata": {
        "id": "Rtfp7vQKtQ5I",
        "outputId": "65aaabc7-6cf3-4e62-e41a-f2c515ed7aa8",
        "colab": {
          "base_uri": "https://localhost:8080/"
        }
      },
      "outputs": [
        {
          "output_type": "execute_result",
          "data": {
            "text/plain": [
              "[('대한민국', 0.0), ('바나나', 0.0), ('사과', 0.0), ('주스', 0.0), ('축구', 0.0)]"
            ]
          },
          "metadata": {},
          "execution_count": 29
        }
      ],
      "source": [
        "# 매개 중심도\n",
        "sorted(nx.betweenness_centrality(g).items(), key=lambda x:x[1],reverse=True)"
      ]
    },
    {
      "cell_type": "code",
      "execution_count": 30,
      "metadata": {
        "id": "sqNQlpGetQ5J",
        "outputId": "a6183af0-82fa-4686-eacd-e0d2c0979bd1",
        "colab": {
          "base_uri": "https://localhost:8080/"
        }
      },
      "outputs": [
        {
          "output_type": "execute_result",
          "data": {
            "text/plain": [
              "[('바나나', 0.5), ('사과', 0.5), ('주스', 0.5), ('대한민국', 0.25), ('축구', 0.25)]"
            ]
          },
          "metadata": {},
          "execution_count": 30
        }
      ],
      "source": [
        "# 근접 중심도\n",
        "sorted(nx.closeness_centrality(g).items(), key=lambda x:x[1],reverse=True)"
      ]
    },
    {
      "cell_type": "code",
      "execution_count": 30,
      "metadata": {
        "id": "VATOmGHrtQ5J"
      },
      "outputs": [],
      "source": []
    }
  ],
  "metadata": {
    "kernelspec": {
      "display_name": "Python 3 (ipykernel)",
      "language": "python",
      "name": "python3"
    },
    "language_info": {
      "codemirror_mode": {
        "name": "ipython",
        "version": 3
      },
      "file_extension": ".py",
      "mimetype": "text/x-python",
      "name": "python",
      "nbconvert_exporter": "python",
      "pygments_lexer": "ipython3",
      "version": "3.9.13"
    },
    "colab": {
      "provenance": [],
      "include_colab_link": true
    }
  },
  "nbformat": 4,
  "nbformat_minor": 0
}