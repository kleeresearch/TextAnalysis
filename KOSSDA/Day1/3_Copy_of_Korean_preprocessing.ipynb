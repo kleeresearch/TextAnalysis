{
  "cells": [
    {
      "cell_type": "markdown",
      "metadata": {
        "id": "view-in-github",
        "colab_type": "text"
      },
      "source": [
        "<a href=\"https://colab.research.google.com/github/kleeresearch/TextAnalysis/blob/master/KOSSDA/Day1/3_Copy_of_Korean_preprocessing.ipynb\" target=\"_parent\"><img src=\"https://colab.research.google.com/assets/colab-badge.svg\" alt=\"Open In Colab\"/></a>"
      ]
    },
    {
      "cell_type": "markdown",
      "source": [
        "#한글 전처리 실습 예제\n"
      ],
      "metadata": {
        "id": "oHk10tICp6As"
      }
    },
    {
      "cell_type": "code",
      "source": [
        "from google.colab import drive\n",
        "drive.mount('/content/drive')"
      ],
      "metadata": {
        "colab": {
          "base_uri": "https://localhost:8080/"
        },
        "id": "PVeE2IW-pVir",
        "outputId": "c3e8c61d-4891-4919-9c2d-0ab1a9329f17"
      },
      "execution_count": 4,
      "outputs": [
        {
          "output_type": "stream",
          "name": "stdout",
          "text": [
            "Mounted at /content/drive\n"
          ]
        }
      ]
    },
    {
      "cell_type": "code",
      "source": [
        "!pip install kiwipiepy"
      ],
      "metadata": {
        "colab": {
          "base_uri": "https://localhost:8080/"
        },
        "id": "xaAvwC3BpIlF",
        "outputId": "d9a2b3b1-4d2f-421e-de49-bd411d43083d"
      },
      "execution_count": 3,
      "outputs": [
        {
          "output_type": "stream",
          "name": "stdout",
          "text": [
            "Collecting kiwipiepy\n",
            "  Downloading kiwipiepy-0.16.2-cp310-cp310-manylinux_2_17_x86_64.manylinux2014_x86_64.whl (2.8 MB)\n",
            "\u001b[2K     \u001b[90m━━━━━━━━━━━━━━━━━━━━━━━━━━━━━━━━━━━━━━━━\u001b[0m \u001b[32m2.8/2.8 MB\u001b[0m \u001b[31m12.8 MB/s\u001b[0m eta \u001b[36m0:00:00\u001b[0m\n",
            "\u001b[?25hCollecting kiwipiepy-model~=0.16 (from kiwipiepy)\n",
            "  Downloading kiwipiepy_model-0.16.0.tar.gz (30.8 MB)\n",
            "\u001b[2K     \u001b[90m━━━━━━━━━━━━━━━━━━━━━━━━━━━━━━━━━━━━━━━━\u001b[0m \u001b[32m30.8/30.8 MB\u001b[0m \u001b[31m35.1 MB/s\u001b[0m eta \u001b[36m0:00:00\u001b[0m\n",
            "\u001b[?25h  Preparing metadata (setup.py) ... \u001b[?25l\u001b[?25hdone\n",
            "Requirement already satisfied: numpy in /usr/local/lib/python3.10/dist-packages (from kiwipiepy) (1.23.5)\n",
            "Requirement already satisfied: tqdm in /usr/local/lib/python3.10/dist-packages (from kiwipiepy) (4.66.1)\n",
            "Building wheels for collected packages: kiwipiepy-model\n",
            "  Building wheel for kiwipiepy-model (setup.py) ... \u001b[?25l\u001b[?25hdone\n",
            "  Created wheel for kiwipiepy-model: filename=kiwipiepy_model-0.16.0-py3-none-any.whl size=30813256 sha256=c5bcda45bd91b750b8f2619659c83a2d51710363ae9ca0ed45d0a2a39d9d4e51\n",
            "  Stored in directory: /root/.cache/pip/wheels/6b/03/2b/ac2c97cc65ebd9df3516f4b900adc2f0a744df8d1375b2e2ef\n",
            "Successfully built kiwipiepy-model\n",
            "Installing collected packages: kiwipiepy-model, kiwipiepy\n",
            "Successfully installed kiwipiepy-0.16.2 kiwipiepy-model-0.16.0\n"
          ]
        }
      ]
    },
    {
      "cell_type": "code",
      "execution_count": 5,
      "metadata": {
        "id": "9xtXK_Smo9YC"
      },
      "outputs": [],
      "source": [
        "from kiwipiepy import Kiwi\n",
        "import re"
      ]
    },
    {
      "cell_type": "code",
      "execution_count": 7,
      "metadata": {
        "id": "SWG1lDDRo9YG"
      },
      "outputs": [],
      "source": [
        "kiwi = Kiwi()"
      ]
    },
    {
      "cell_type": "code",
      "execution_count": 8,
      "metadata": {
        "id": "glTBqNq8o9YH"
      },
      "outputs": [],
      "source": [
        "#/content/drive/MyDrive/KOSSDA_텍스트마이닝_강의자료/강의자료/Day1/python_code/Korean_news.txt\n",
        "with open('/content/drive/MyDrive/KOSSDA_텍스트마이닝_강의자료/강의자료/Day1/python_code/Korean_news.txt', 'r', encoding='utf8') as f:\n",
        "    content = f.read()"
      ]
    },
    {
      "cell_type": "code",
      "execution_count": 9,
      "metadata": {
        "scrolled": true,
        "id": "2yAj2fJRo9YI",
        "outputId": "a4a8d549-e0ec-4308-f710-f1ed0ff85ad4",
        "colab": {
          "base_uri": "https://localhost:8080/"
        }
      },
      "outputs": [
        {
          "output_type": "stream",
          "name": "stdout",
          "text": [
            "아셈 계기 영국·독일·태국 정상회담…대북제재 완화 설득 가속화문재인 대통령이 18일 오후(현지시간) 바티칸 교황청을 방문해 프란치스코 교황과 악수하고 있다. (청와대 페이스북) 2018.10.18/뉴스1(바티칸=뉴스1) 조소영 기자 = 프란치스코 교황이 18일(현지시간) 문재인 대통령과의 만남에서 사실상 방북(訪北)의사를 밝힘에 따라 문 대통령의 '한반도 평화프로세스' 추진에 상당한 힘이 실리게 됐다. 문 대통령은 교황의 지지를 기반으로 제2차 북미정상회담의 신속한 개최를 촉구하고 국제사회에 북한의 비핵화를 촉진하기 위해선 대북제재 완화가 일정 정도 필요하다는 주장을 이어갈 것으로 보인다.문 대통령은 이날 오후 12시5분 바티칸 교황궁 내 교황서재에서 40분 동안 프란치스코 교황을 단독 예방했다. 교황과의 만남은 원활한 의사소통을 위한 통역 외에 배석자 없이 '비밀'로 이뤄진다는 원칙에 따라 이날 예방도 통역을 위해 자리한 한현택 신부 외 누구도 배석하지 않은 것으로 전해졌다.다만 사전에 청와대와 바티칸 사이 협의를 거쳐 이례적으로 면담의 주요내용이 공개됐다. 이에 따라 윤영찬 청와대 국민소통수석이 밝힌 데 따르면 교황은 문 대통령이 김정은 북한 국무위원장의 방북 초청 의사를 전하면서 \"김 위원장이 초청장을 보내도 좋겠느냐\"고 하자 \"공식 초청장을 보내주면 좋겠다\"고 했다.교황은 이어 \"초청장이 오면 무조건 응답을 줄 것이고 나는 갈 수 있다\"고 했다. '북한을 갈 수 있다'고 완벽히 언급하지는 않았지만 문맥상 이는 북한 땅을 밟겠다는 뜻으로 해석됐다. 교황은 그러면서 \"한반도에서 평화프로세스를 추진 중인 한국정부의 노력을 강력히 지지한다\"며 \"멈추지 말고 앞으로 나아가라. 두려워하지 말라\"고 하면서 이 해석에 힘을 보탰다.윤 수석은 '교황이 방북시점에 대한 언급은 없었느냐'는 데에 \"시점에 대해선 말이 없었다\"고 전했다. 이에 따라 한편에선 교황의 답이 원론적 의미가 아니냐는 풀이도 나오지만 교황이 방북 자체에 문을 열어뒀다는 데에 의의가 있다는 평이다.앞서 문 대통령이 추진하는 유럽에서의 한반도 평화프로세스 설득 작업은 주춤거리는 모양새가 감지됐었다. 문 대통령은 지난 15일 에마뉘엘 마크롱 프랑스 대통령과 만나 프랑스가 유엔 안보리 상임이사국으로서 대북제재 완화에 힘을 실어달라고 요청했지만 마크롱 대통령은 CVID(완전하고 불가역적이고 검증가능한 비핵화)를 강조하며 완곡한 거절의사를 밝힌 바 있다.하지만 17일 문 대통령이 한반도 평화를 위한 특별미사에 참석하고 특별연설을 하면서 '한반도 평화프로세스'가 한껏 탄력을 받은 데 이어 18일 바티칸에서 알현한 교황이 적극적으로 나서면서 국제사회가 영향을 받을 수밖에 없을 것으로 보인다. 전세계 인구의 17.7%인 12억8500만명의 신자를 보유한 가톨릭의 수장이 직접 나서기 때문에 파급력이 상당할 것이기 때문이다. 아울러 교황의 방북이 성사되면 역사상 처음으로 북한 땅을 밟는 교황이라는 상징성도 갖게 된다.문 대통령은 이러한 기세로 19일 벨기에 브뤼셀에서 열리는 제12차 아셈(ASEM·아시아-유럽정상회의)에서 영국과 독일, 태국 총리와 정상회담을 갖는다. 특히 영국, 독일 총리와 만나 대북제재 완화 등 한반도 평화프로세스 설득작업에 가속페달을 밟을 전망이다.영국은 미국, 프랑스, 러시아, 중국과 함께 유엔 안보리 상임이사국에 속한다. 이미 5차례 비상임이사국을 지낸 독일은 내년 안보리 비상임이사국(2020년까지)으로 선출돼 있다.silverpaper@news1.kr▶ 진짜 블록체인을 만나는 곳 '크립토허브' 오픈! ▶ 글로벌바이오포럼 2018 참가하기▶ 네이버 메인에서 [뉴스1]을 구독해주세요[© 뉴스1코리아(news1.kr), 무단 전재 및 재배포 금지]\n"
          ]
        }
      ],
      "source": [
        "print(content)"
      ]
    },
    {
      "cell_type": "code",
      "source": [],
      "metadata": {
        "id": "mFZOXU1zrAs5"
      },
      "execution_count": null,
      "outputs": []
    },
    {
      "cell_type": "code",
      "execution_count": 10,
      "metadata": {
        "id": "4ccLX-fKo9YJ"
      },
      "outputs": [],
      "source": [
        "# Text cleaning\n",
        "filtered_content = re.sub(r'[^\\s\\w\\d]',' ', content)"
      ]
    },
    {
      "cell_type": "code",
      "execution_count": 11,
      "metadata": {
        "scrolled": true,
        "id": "oYdpGUBvo9YK",
        "outputId": "d9b89878-7cb7-4cff-d878-4293605abd7d",
        "colab": {
          "base_uri": "https://localhost:8080/"
        }
      },
      "outputs": [
        {
          "output_type": "stream",
          "name": "stdout",
          "text": [
            "아셈 계기 영국 독일 태국 정상회담 대북제재 완화 설득 가속화문재인 대통령이 18일 오후 현지시간  바티칸 교황청을 방문해 프란치스코 교황과 악수하고 있다   청와대 페이스북  2018 10 18 뉴스1 바티칸 뉴스1  조소영 기자   프란치스코 교황이 18일 현지시간  문재인 대통령과의 만남에서 사실상 방북 訪北 의사를 밝힘에 따라 문 대통령의  한반도 평화프로세스  추진에 상당한 힘이 실리게 됐다  문 대통령은 교황의 지지를 기반으로 제2차 북미정상회담의 신속한 개최를 촉구하고 국제사회에 북한의 비핵화를 촉진하기 위해선 대북제재 완화가 일정 정도 필요하다는 주장을 이어갈 것으로 보인다 문 대통령은 이날 오후 12시5분 바티칸 교황궁 내 교황서재에서 40분 동안 프란치스코 교황을 단독 예방했다  교황과의 만남은 원활한 의사소통을 위한 통역 외에 배석자 없이  비밀 로 이뤄진다는 원칙에 따라 이날 예방도 통역을 위해 자리한 한현택 신부 외 누구도 배석하지 않은 것으로 전해졌다 다만 사전에 청와대와 바티칸 사이 협의를 거쳐 이례적으로 면담의 주요내용이 공개됐다  이에 따라 윤영찬 청와대 국민소통수석이 밝힌 데 따르면 교황은 문 대통령이 김정은 북한 국무위원장의 방북 초청 의사를 전하면서  김 위원장이 초청장을 보내도 좋겠느냐 고 하자  공식 초청장을 보내주면 좋겠다 고 했다 교황은 이어  초청장이 오면 무조건 응답을 줄 것이고 나는 갈 수 있다 고 했다   북한을 갈 수 있다 고 완벽히 언급하지는 않았지만 문맥상 이는 북한 땅을 밟겠다는 뜻으로 해석됐다  교황은 그러면서  한반도에서 평화프로세스를 추진 중인 한국정부의 노력을 강력히 지지한다 며  멈추지 말고 앞으로 나아가라  두려워하지 말라 고 하면서 이 해석에 힘을 보탰다 윤 수석은  교황이 방북시점에 대한 언급은 없었느냐 는 데에  시점에 대해선 말이 없었다 고 전했다  이에 따라 한편에선 교황의 답이 원론적 의미가 아니냐는 풀이도 나오지만 교황이 방북 자체에 문을 열어뒀다는 데에 의의가 있다는 평이다 앞서 문 대통령이 추진하는 유럽에서의 한반도 평화프로세스 설득 작업은 주춤거리는 모양새가 감지됐었다  문 대통령은 지난 15일 에마뉘엘 마크롱 프랑스 대통령과 만나 프랑스가 유엔 안보리 상임이사국으로서 대북제재 완화에 힘을 실어달라고 요청했지만 마크롱 대통령은 CVID 완전하고 불가역적이고 검증가능한 비핵화 를 강조하며 완곡한 거절의사를 밝힌 바 있다 하지만 17일 문 대통령이 한반도 평화를 위한 특별미사에 참석하고 특별연설을 하면서  한반도 평화프로세스 가 한껏 탄력을 받은 데 이어 18일 바티칸에서 알현한 교황이 적극적으로 나서면서 국제사회가 영향을 받을 수밖에 없을 것으로 보인다  전세계 인구의 17 7 인 12억8500만명의 신자를 보유한 가톨릭의 수장이 직접 나서기 때문에 파급력이 상당할 것이기 때문이다  아울러 교황의 방북이 성사되면 역사상 처음으로 북한 땅을 밟는 교황이라는 상징성도 갖게 된다 문 대통령은 이러한 기세로 19일 벨기에 브뤼셀에서 열리는 제12차 아셈 ASEM 아시아 유럽정상회의 에서 영국과 독일  태국 총리와 정상회담을 갖는다  특히 영국  독일 총리와 만나 대북제재 완화 등 한반도 평화프로세스 설득작업에 가속페달을 밟을 전망이다 영국은 미국  프랑스  러시아  중국과 함께 유엔 안보리 상임이사국에 속한다  이미 5차례 비상임이사국을 지낸 독일은 내년 안보리 비상임이사국 2020년까지 으로 선출돼 있다 silverpaper news1 kr  진짜 블록체인을 만나는 곳  크립토허브  오픈    글로벌바이오포럼 2018 참가하기  네이버 메인에서  뉴스1 을 구독해주세요   뉴스1코리아 news1 kr   무단 전재 및 재배포 금지 \n"
          ]
        }
      ],
      "source": [
        "print(filtered_content)"
      ]
    },
    {
      "cell_type": "code",
      "execution_count": 12,
      "metadata": {
        "id": "uYzze5Abo9YK",
        "outputId": "16018d32-f671-4582-d530-1ece81119489",
        "colab": {
          "base_uri": "https://localhost:8080/"
        }
      },
      "outputs": [
        {
          "output_type": "stream",
          "name": "stdout",
          "text": [
            "[Token(form='아셈', tag='NNP', start=0, len=2), Token(form='계기', tag='NNG', start=3, len=2), Token(form='영국', tag='NNP', start=6, len=2), Token(form='독일', tag='NNP', start=9, len=2), Token(form='태국', tag='NNP', start=12, len=2), Token(form='정상', tag='NNG', start=15, len=2), Token(form='회담', tag='NNG', start=17, len=2), Token(form='대북', tag='NNG', start=20, len=2), Token(form='제재', tag='NNG', start=22, len=2), Token(form='완화', tag='NNG', start=25, len=2), Token(form='설득', tag='NNG', start=28, len=2), Token(form='가속', tag='NNG', start=31, len=2), Token(form='화', tag='XSN', start=33, len=1), Token(form='문재인', tag='NNP', start=34, len=3), Token(form='대통령', tag='NNG', start=38, len=3), Token(form='이', tag='JKS', start=41, len=1), Token(form='18', tag='SN', start=43, len=2), Token(form='일', tag='NNB', start=45, len=1), Token(form='오후', tag='NNG', start=47, len=2), Token(form='현지', tag='NNG', start=50, len=2), Token(form='시간', tag='NNG', start=52, len=2), Token(form='바티칸', tag='NNP', start=56, len=3), Token(form='교황청', tag='NNG', start=60, len=3), Token(form='을', tag='JKO', start=63, len=1), Token(form='방문', tag='NNG', start=65, len=2), Token(form='하', tag='XSV', start=67, len=1), Token(form='어', tag='EC', start=67, len=1), Token(form='프란치스코', tag='NNP', start=69, len=5), Token(form='교황', tag='NNG', start=75, len=2), Token(form='과', tag='JKB', start=77, len=1), Token(form='악수', tag='NNG', start=79, len=2), Token(form='하', tag='XSV', start=81, len=1), Token(form='고', tag='EC', start=82, len=1), Token(form='있', tag='VX', start=84, len=1), Token(form='다', tag='EF', start=85, len=1), Token(form='청와대', tag='NNP', start=89, len=3), Token(form='페이스북', tag='NNP', start=93, len=4), Token(form='2018', tag='SN', start=99, len=4), Token(form='10', tag='SN', start=104, len=2), Token(form='18', tag='SN', start=107, len=2), Token(form='뉴스1', tag='NNP', start=110, len=3), Token(form='바티칸', tag='NNP', start=114, len=3), Token(form='뉴스1', tag='NNP', start=118, len=3), Token(form='조소영', tag='NNP', start=123, len=3), Token(form='기자', tag='NNG', start=127, len=2), Token(form='프란치스코', tag='NNP', start=132, len=5), Token(form='교황', tag='NNG', start=138, len=2), Token(form='이', tag='JKS', start=140, len=1), Token(form='18', tag='SN', start=142, len=2), Token(form='일', tag='NNB', start=144, len=1), Token(form='현지', tag='NNG', start=146, len=2), Token(form='시간', tag='NNG', start=148, len=2), Token(form='문재인', tag='NNP', start=152, len=3), Token(form='대통령', tag='NNG', start=156, len=3), Token(form='과', tag='JKB', start=159, len=1), Token(form='의', tag='JKG', start=160, len=1), Token(form='만남', tag='NNG', start=162, len=2), Token(form='에서', tag='JKB', start=164, len=2), Token(form='사실', tag='NNG', start=167, len=2), Token(form='상', tag='XSN', start=169, len=1), Token(form='방북', tag='NNG', start=171, len=2), Token(form='訪北', tag='SH', start=174, len=2), Token(form='의사', tag='NNG', start=177, len=2), Token(form='를', tag='JKO', start=179, len=1), Token(form='밝히', tag='VV', start=181, len=2), Token(form='ᆷ', tag='ETN', start=182, len=1), Token(form='에', tag='JKB', start=183, len=1), Token(form='따르', tag='VV', start=185, len=2), Token(form='어', tag='EC', start=186, len=1), Token(form='문', tag='NNP', start=188, len=1), Token(form='대통령', tag='NNG', start=190, len=3), Token(form='의', tag='JKG', start=193, len=1), Token(form='한반도', tag='NNP', start=196, len=3), Token(form='평화', tag='NNG', start=200, len=2), Token(form='프로세스', tag='NNG', start=202, len=4), Token(form='추진', tag='NNG', start=208, len=2), Token(form='에', tag='JKB', start=210, len=1), Token(form='상당', tag='NNG', start=212, len=2), Token(form='하', tag='XSA', start=214, len=1), Token(form='ᆫ', tag='ETM', start=214, len=1), Token(form='힘', tag='NNG', start=216, len=1), Token(form='이', tag='JKS', start=217, len=1), Token(form='실리', tag='VV', start=219, len=2), Token(form='게', tag='EC', start=221, len=1), Token(form='되', tag='VV', start=223, len=1), Token(form='었', tag='EP', start=223, len=1), Token(form='다', tag='EF', start=224, len=1), Token(form='문', tag='NNP', start=227, len=1), Token(form='대통령', tag='NNG', start=229, len=3), Token(form='은', tag='JX', start=232, len=1), Token(form='교황', tag='NNG', start=234, len=2), Token(form='의', tag='JKG', start=236, len=1), Token(form='지지', tag='NNG', start=238, len=2), Token(form='를', tag='JKO', start=240, len=1), Token(form='기반', tag='NNG', start=242, len=2), Token(form='으로', tag='JKB', start=244, len=2), Token(form='제', tag='XPN', start=247, len=1), Token(form='2', tag='SN', start=248, len=1), Token(form='차', tag='NNB', start=249, len=1), Token(form='북미', tag='NNP', start=251, len=2), Token(form='정상', tag='NNG', start=253, len=2), Token(form='회담', tag='NNG', start=255, len=2), Token(form='의', tag='JKG', start=257, len=1), Token(form='신속', tag='NNG', start=259, len=2), Token(form='하', tag='XSA', start=261, len=1), Token(form='ᆫ', tag='ETM', start=261, len=1), Token(form='개최', tag='NNG', start=263, len=2), Token(form='를', tag='JKO', start=265, len=1), Token(form='촉구', tag='NNG', start=267, len=2), Token(form='하', tag='XSV', start=269, len=1), Token(form='고', tag='EC', start=270, len=1), Token(form='국제', tag='NNG', start=272, len=2), Token(form='사회', tag='NNG', start=274, len=2), Token(form='에', tag='JKB', start=276, len=1), Token(form='북한', tag='NNP', start=278, len=2), Token(form='의', tag='JKG', start=280, len=1), Token(form='비핵', tag='NNG', start=282, len=2), Token(form='화', tag='XSN', start=284, len=1), Token(form='를', tag='JKO', start=285, len=1), Token(form='촉진', tag='NNG', start=287, len=2), Token(form='하', tag='XSV', start=289, len=1), Token(form='기', tag='ETN', start=290, len=1), Token(form='위하', tag='VV', start=292, len=2), Token(form='어서', tag='EC', start=293, len=2), Token(form='ᆫ', tag='JX', start=294, len=1), Token(form='대북', tag='NNG', start=296, len=2), Token(form='제재', tag='NNG', start=298, len=2), Token(form='완화', tag='NNG', start=301, len=2), Token(form='가', tag='JKS', start=303, len=1), Token(form='일정', tag='NNG', start=305, len=2), Token(form='정도', tag='NNG', start=308, len=2), Token(form='필요', tag='NNG', start=311, len=2), Token(form='하', tag='XSA', start=313, len=1), Token(form='다는', tag='ETM', start=314, len=2), Token(form='주장', tag='NNG', start=317, len=2), Token(form='을', tag='JKO', start=319, len=1), Token(form='잇', tag='VV-I', start=321, len=2), Token(form='어', tag='EC', start=322, len=1), Token(form='가', tag='VX', start=323, len=1), Token(form='ᆯ', tag='ETM', start=323, len=1), Token(form='것', tag='NNB', start=325, len=1), Token(form='으로', tag='JKB', start=326, len=2), Token(form='보이', tag='VV', start=329, len=2), Token(form='ᆫ다', tag='EF', start=330, len=2), Token(form='문', tag='NNP', start=333, len=1), Token(form='대통령', tag='NNG', start=335, len=3), Token(form='은', tag='JX', start=338, len=1), Token(form='이날', tag='NNG', start=340, len=2), Token(form='오후', tag='NNG', start=343, len=2), Token(form='12', tag='SN', start=346, len=2), Token(form='시', tag='NNB', start=348, len=1), Token(form='5', tag='SN', start=349, len=1), Token(form='분', tag='NNB', start=350, len=1), Token(form='바티칸', tag='NNP', start=352, len=3), Token(form='교황', tag='NNG', start=356, len=2), Token(form='궁', tag='NNG', start=358, len=1), Token(form='내', tag='NNB', start=360, len=1), Token(form='교황', tag='NNG', start=362, len=2), Token(form='서재', tag='NNG', start=364, len=2), Token(form='에서', tag='JKB', start=366, len=2), Token(form='40', tag='SN', start=369, len=2), Token(form='분', tag='NNB', start=371, len=1), Token(form='동안', tag='NNG', start=373, len=2), Token(form='프란치스코', tag='NNP', start=376, len=5), Token(form='교황', tag='NNG', start=382, len=2), Token(form='을', tag='JKO', start=384, len=1), Token(form='단독', tag='NNG', start=386, len=2), Token(form='예방', tag='NNG', start=389, len=2), Token(form='하', tag='XSV', start=391, len=1), Token(form='었', tag='EP', start=391, len=1), Token(form='다', tag='EF', start=392, len=1), Token(form='교황', tag='NNG', start=395, len=2), Token(form='과', tag='JKB', start=397, len=1), Token(form='의', tag='JKG', start=398, len=1), Token(form='만남', tag='NNG', start=400, len=2), Token(form='은', tag='JX', start=402, len=1), Token(form='원활', tag='NNG', start=404, len=2), Token(form='하', tag='XSA', start=406, len=1), Token(form='ᆫ', tag='ETM', start=406, len=1), Token(form='의사소통', tag='NNG', start=408, len=4), Token(form='을', tag='JKO', start=412, len=1), Token(form='위하', tag='VV', start=414, len=2), Token(form='ᆫ', tag='ETM', start=415, len=1), Token(form='통역', tag='NNG', start=417, len=2), Token(form='외', tag='NNB', start=420, len=1), Token(form='에', tag='JKB', start=421, len=1), Token(form='배석자', tag='NNG', start=423, len=3), Token(form='없이', tag='MAG', start=427, len=2), Token(form='비밀', tag='NNG', start=431, len=2), Token(form='로', tag='JKB', start=434, len=1), Token(form='이루', tag='VV', start=436, len=2), Token(form='어', tag='EC', start=437, len=1), Token(form='지', tag='VX', start=438, len=1), Token(form='ᆫ다는', tag='ETM', start=438, len=3), Token(form='원칙', tag='NNG', start=442, len=2), Token(form='에', tag='JKB', start=444, len=1), Token(form='따르', tag='VV', start=446, len=2), Token(form='어', tag='EC', start=447, len=1), Token(form='이날', tag='NNG', start=449, len=2), Token(form='예방', tag='NNG', start=452, len=2), Token(form='도', tag='JX', start=454, len=1), Token(form='통역', tag='NNG', start=456, len=2), Token(form='을', tag='JKO', start=458, len=1), Token(form='위하', tag='VV', start=460, len=2), Token(form='어', tag='EC', start=461, len=1), Token(form='자리', tag='NNG', start=463, len=2), Token(form='하', tag='XSV', start=465, len=1), Token(form='ᆫ', tag='ETM', start=465, len=1), Token(form='한현택', tag='NNP', start=467, len=3), Token(form='신부', tag='NNG', start=471, len=2), Token(form='외', tag='NNB', start=474, len=1), Token(form='누구', tag='NP', start=476, len=2), Token(form='도', tag='JX', start=478, len=1), Token(form='배석', tag='NNG', start=480, len=2), Token(form='하', tag='XSV', start=482, len=1), Token(form='지', tag='EC', start=483, len=1), Token(form='않', tag='VX', start=485, len=1), Token(form='은', tag='ETM', start=486, len=1), Token(form='것', tag='NNB', start=488, len=1), Token(form='으로', tag='JKB', start=489, len=2), Token(form='전하', tag='VV', start=492, len=2), Token(form='어', tag='EC', start=493, len=1), Token(form='지', tag='VX', start=494, len=1), Token(form='었', tag='EP', start=494, len=1), Token(form='다', tag='EF', start=495, len=1), Token(form='다만', tag='MAG', start=497, len=2), Token(form='사전', tag='NNG', start=500, len=2), Token(form='에', tag='JKB', start=502, len=1), Token(form='청와대', tag='NNP', start=504, len=3), Token(form='와', tag='JC', start=507, len=1), Token(form='바티칸', tag='NNP', start=509, len=3), Token(form='사이', tag='NNG', start=513, len=2), Token(form='협의', tag='NNG', start=516, len=2), Token(form='를', tag='JKO', start=518, len=1), Token(form='거치', tag='VV', start=520, len=2), Token(form='어', tag='EC', start=521, len=1), Token(form='이례', tag='NNG', start=523, len=2), Token(form='적', tag='XSN', start=525, len=1), Token(form='으로', tag='JKB', start=526, len=2), Token(form='면담', tag='NNG', start=529, len=2), Token(form='의', tag='JKG', start=531, len=1), Token(form='주요', tag='NNG', start=533, len=2), Token(form='내용', tag='NNG', start=535, len=2), Token(form='이', tag='JKS', start=537, len=1), Token(form='공개', tag='NNG', start=539, len=2), Token(form='되', tag='XSV', start=541, len=1), Token(form='었', tag='EP', start=541, len=1), Token(form='다', tag='EF', start=542, len=1), Token(form='이', tag='NP', start=545, len=1), Token(form='에', tag='JKB', start=546, len=1), Token(form='따르', tag='VV', start=548, len=2), Token(form='어', tag='EC', start=549, len=1), Token(form='윤영', tag='NNP', start=551, len=2), Token(form='차', tag='VA', start=553, len=1), Token(form='ᆫ', tag='ETM', start=553, len=1), Token(form='청와대', tag='NNP', start=555, len=3), Token(form='국민', tag='NNG', start=559, len=2), Token(form='소통', tag='NNG', start=561, len=2), Token(form='수석', tag='NNG', start=563, len=2), Token(form='이', tag='JKS', start=565, len=1), Token(form='밝히', tag='VV', start=567, len=2), Token(form='ᆫ', tag='ETM', start=568, len=1), Token(form='데', tag='NNB', start=570, len=1), Token(form='따르', tag='VV', start=572, len=2), Token(form='면', tag='EC', start=574, len=1), Token(form='교황', tag='NNG', start=576, len=2), Token(form='은', tag='JX', start=578, len=1), Token(form='문', tag='NNP', start=580, len=1), Token(form='대통령', tag='NNG', start=582, len=3), Token(form='이', tag='JKS', start=585, len=1), Token(form='김정은', tag='NNP', start=587, len=3), Token(form='북한', tag='NNP', start=591, len=2), Token(form='국무', tag='NNG', start=594, len=2), Token(form='위원장', tag='NNG', start=596, len=3), Token(form='의', tag='JKG', start=599, len=1), Token(form='방북', tag='NNG', start=601, len=2), Token(form='초청', tag='NNG', start=604, len=2), Token(form='의사', tag='NNG', start=607, len=2), Token(form='를', tag='JKO', start=609, len=1), Token(form='전하', tag='VV', start=611, len=2), Token(form='면서', tag='EC', start=613, len=2), Token(form='김', tag='NNP', start=617, len=1), Token(form='위원장', tag='NNG', start=619, len=3), Token(form='이', tag='JKS', start=622, len=1), Token(form='초청장', tag='NNG', start=624, len=3), Token(form='을', tag='JKO', start=627, len=1), Token(form='보내', tag='VV', start=629, len=2), Token(form='어도', tag='EC', start=630, len=2), Token(form='좋', tag='VA', start=633, len=1), Token(form='겠', tag='EP', start=634, len=1), Token(form='느냐', tag='EC', start=635, len=2), Token(form='이', tag='VCP', start=638, len=0), Token(form='고', tag='EC', start=638, len=1), Token(form='하', tag='VX', start=640, len=1), Token(form='자', tag='EC', start=641, len=1), Token(form='공식', tag='NNG', start=644, len=2), Token(form='초청장', tag='NNG', start=647, len=3), Token(form='을', tag='JKO', start=650, len=1), Token(form='보내', tag='VV', start=652, len=2), Token(form='어', tag='EC', start=653, len=1), Token(form='주', tag='VX', start=654, len=1), Token(form='면', tag='EC', start=655, len=1), Token(form='좋', tag='VA', start=657, len=1), Token(form='겠', tag='EP', start=658, len=1), Token(form='다', tag='EF', start=659, len=1), Token(form='이', tag='VCP', start=661, len=0), Token(form='고', tag='EC', start=661, len=1), Token(form='하', tag='VV', start=663, len=1), Token(form='었', tag='EP', start=663, len=1), Token(form='다', tag='EF', start=664, len=1), Token(form='교황', tag='NNG', start=666, len=2), Token(form='은', tag='JX', start=668, len=1), Token(form='이어', tag='MAG', start=670, len=2), Token(form='초청장', tag='NNG', start=674, len=3), Token(form='이', tag='JKS', start=677, len=1), Token(form='오', tag='VV', start=679, len=1), Token(form='면', tag='EC', start=680, len=1), Token(form='무조건', tag='MAG', start=682, len=3), Token(form='응답', tag='NNG', start=686, len=2), Token(form='을', tag='JKO', start=688, len=1), Token(form='주', tag='VV', start=690, len=1), Token(form='ᆯ', tag='ETM', start=690, len=1), Token(form='것', tag='NNB', start=692, len=1), Token(form='이', tag='VCP', start=693, len=1), Token(form='고', tag='EC', start=694, len=1), Token(form='나', tag='NP', start=696, len=1), Token(form='는', tag='JX', start=697, len=1), Token(form='가', tag='VV', start=699, len=1), Token(form='ᆯ', tag='ETM', start=699, len=1), Token(form='수', tag='NNB', start=701, len=1), Token(form='있', tag='VA', start=703, len=1), Token(form='다', tag='EF', start=704, len=1), Token(form='고', tag='JKQ', start=706, len=1), Token(form='하', tag='VV', start=708, len=1), Token(form='었', tag='EP', start=708, len=1), Token(form='다', tag='EF', start=709, len=1), Token(form='북한', tag='NNP', start=713, len=2), Token(form='을', tag='JKO', start=715, len=1), Token(form='가', tag='VV', start=717, len=1), Token(form='ᆯ', tag='ETM', start=717, len=1), Token(form='수', tag='NNB', start=719, len=1), Token(form='있', tag='VA', start=721, len=1), Token(form='다', tag='EF', start=722, len=1), Token(form='이', tag='VCP', start=724, len=0), Token(form='고', tag='EC', start=724, len=1), Token(form='완벽히', tag='MAG', start=726, len=3), Token(form='언급', tag='NNG', start=730, len=2), Token(form='하', tag='XSV', start=732, len=1), Token(form='지', tag='EC', start=733, len=1), Token(form='는', tag='JX', start=734, len=1), Token(form='않', tag='VX', start=736, len=1), Token(form='었', tag='EP', start=737, len=1), Token(form='지만', tag='EC', start=738, len=2), Token(form='문맥', tag='NNG', start=741, len=2), Token(form='상', tag='XSN', start=743, len=1), Token(form='이', tag='NP', start=745, len=1), Token(form='는', tag='JX', start=746, len=1), Token(form='북한', tag='NNP', start=748, len=2), Token(form='땅', tag='NNG', start=751, len=1), Token(form='을', tag='JKO', start=752, len=1), Token(form='밟', tag='VV', start=754, len=1), Token(form='겠', tag='EP', start=755, len=1), Token(form='다는', tag='ETM', start=756, len=2), Token(form='뜻', tag='NNG', start=759, len=1), Token(form='으로', tag='JKB', start=760, len=2), Token(form='해석', tag='NNG', start=763, len=2), Token(form='되', tag='XSV', start=765, len=1), Token(form='었', tag='EP', start=765, len=1), Token(form='다', tag='EF', start=766, len=1), Token(form='교황', tag='NNG', start=769, len=2), Token(form='은', tag='JX', start=771, len=1), Token(form='그러', tag='VV', start=773, len=2), Token(form='면서', tag='EC', start=775, len=2), Token(form='한반도', tag='NNP', start=779, len=3), Token(form='에서', tag='JKB', start=782, len=2), Token(form='평화', tag='NNG', start=785, len=2), Token(form='프로세스', tag='NNG', start=787, len=4), Token(form='를', tag='JKO', start=791, len=1), Token(form='추진', tag='NNG', start=793, len=2), Token(form='중', tag='NNB', start=796, len=1), Token(form='이', tag='VCP', start=797, len=1), Token(form='ᆫ', tag='ETM', start=797, len=1), Token(form='한국', tag='NNP', start=799, len=2), Token(form='정부', tag='NNG', start=801, len=2), Token(form='의', tag='JKG', start=803, len=1), Token(form='노력', tag='NNG', start=805, len=2), Token(form='을', tag='JKO', start=807, len=1), Token(form='강력히', tag='MAG', start=809, len=3), Token(form='지지', tag='NNG', start=813, len=2), Token(form='하', tag='XSV', start=815, len=1), Token(form='ᆫ다', tag='EF', start=815, len=2), Token(form='이', tag='VCP', start=818, len=0), Token(form='며', tag='EC', start=818, len=1), Token(form='멈추', tag='VV', start=821, len=2), Token(form='지', tag='EC', start=823, len=1), Token(form='말', tag='VX', start=825, len=1), Token(form='고', tag='EC', start=826, len=1), Token(form='앞', tag='NNG', start=828, len=1), Token(form='으로', tag='JKB', start=829, len=2), Token(form='나아가', tag='VV', start=832, len=3), Token(form='어라', tag='EC', start=834, len=2), Token(form='두려워하', tag='VV', start=838, len=4), Token(form='지', tag='EC', start=842, len=1), Token(form='말', tag='VX', start=844, len=1), Token(form='라', tag='EC', start=845, len=1), Token(form='이', tag='VCP', start=847, len=0), Token(form='고', tag='EC', start=847, len=1), Token(form='하', tag='VV', start=849, len=1), Token(form='면서', tag='EC', start=850, len=2), Token(form='이', tag='MM', start=853, len=1), Token(form='해석', tag='NNG', start=855, len=2), Token(form='에', tag='JKB', start=857, len=1), Token(form='힘', tag='NNG', start=859, len=1), Token(form='을', tag='JKO', start=860, len=1), Token(form='보태', tag='VV', start=862, len=2), Token(form='었', tag='EP', start=863, len=1), Token(form='다', tag='EF', start=864, len=1), Token(form='윤', tag='NNP', start=866, len=1), Token(form='수석', tag='NNG', start=868, len=2), Token(form='은', tag='JX', start=870, len=1), Token(form='교황', tag='NNG', start=873, len=2), Token(form='이', tag='JKS', start=875, len=1), Token(form='방북', tag='NNG', start=877, len=2), Token(form='시점', tag='NNG', start=879, len=2), Token(form='에', tag='JKB', start=881, len=1), Token(form='대하', tag='VV', start=883, len=2), Token(form='ᆫ', tag='ETM', start=884, len=1), Token(form='언급', tag='NNG', start=886, len=2), Token(form='은', tag='JX', start=888, len=1), Token(form='없', tag='VA', start=890, len=1), Token(form='었', tag='EP', start=891, len=1), Token(form='느냐', tag='EC', start=892, len=2), Token(form='이', tag='VCP', start=895, len=0), Token(form='는', tag='ETM', start=895, len=1), Token(form='데', tag='NNB', start=897, len=1), Token(form='에', tag='JKB', start=898, len=1), Token(form='시점', tag='NNG', start=901, len=2), Token(form='에', tag='JKB', start=903, len=1), Token(form='대하', tag='VV', start=905, len=2), Token(form='어서', tag='EC', start=906, len=2), Token(form='ᆫ', tag='JX', start=907, len=1), Token(form='말', tag='NNG', start=909, len=1), Token(form='이', tag='JKS', start=910, len=1), Token(form='없', tag='VA', start=912, len=1), Token(form='었', tag='EP', start=913, len=1), Token(form='다', tag='EF', start=914, len=1), Token(form='고', tag='JKQ', start=916, len=1), Token(form='전하', tag='VV', start=918, len=2), Token(form='었', tag='EP', start=919, len=1), Token(form='다', tag='EF', start=920, len=1), Token(form='이', tag='NP', start=923, len=1), Token(form='에', tag='JKB', start=924, len=1), Token(form='따르', tag='VV', start=926, len=2), Token(form='어', tag='EC', start=927, len=1), Token(form='한편', tag='NNG', start=929, len=2), Token(form='에서', tag='JKB', start=931, len=2), Token(form='ᆫ', tag='JX', start=932, len=1), Token(form='교황', tag='NNG', start=934, len=2), Token(form='의', tag='JKG', start=936, len=1), Token(form='답', tag='NNG', start=938, len=1), Token(form='이', tag='JKS', start=939, len=1), Token(form='원론', tag='NNG', start=941, len=2), Token(form='적', tag='XSN', start=943, len=1), Token(form='의미', tag='NNG', start=945, len=2), Token(form='가', tag='JKC', start=947, len=1), Token(form='아니', tag='VCN', start=949, len=2), Token(form='냐는', tag='ETM', start=951, len=2), Token(form='풀이', tag='NNG', start=954, len=2), Token(form='도', tag='JX', start=956, len=1), Token(form='나오', tag='VV', start=958, len=2), Token(form='지만', tag='EC', start=960, len=2), Token(form='교황', tag='NNG', start=963, len=2), Token(form='이', tag='JKS', start=965, len=1), Token(form='방북', tag='NNG', start=967, len=2), Token(form='자체', tag='NNG', start=970, len=2), Token(form='에', tag='JKB', start=972, len=1), Token(form='문', tag='NNG', start=974, len=1), Token(form='을', tag='JKO', start=975, len=1), Token(form='열', tag='VV', start=977, len=1), Token(form='어', tag='EC', start=978, len=1), Token(form='두', tag='VX', start=979, len=1), Token(form='었', tag='EP', start=979, len=1), Token(form='다는', tag='ETM', start=980, len=2), Token(form='데', tag='NNB', start=983, len=1), Token(form='에', tag='JKB', start=984, len=1), Token(form='의의', tag='NNG', start=986, len=2), Token(form='가', tag='JKS', start=988, len=1), Token(form='있', tag='VV', start=990, len=1), Token(form='다는', tag='ETM', start=991, len=2), Token(form='평', tag='NNG', start=994, len=1), Token(form='이', tag='VCP', start=995, len=1), Token(form='다', tag='EF', start=996, len=1), Token(form='앞서', tag='MAG', start=998, len=2), Token(form='문', tag='NNP', start=1001, len=1), Token(form='대통령', tag='NNG', start=1003, len=3), Token(form='이', tag='JKS', start=1006, len=1), Token(form='추진', tag='NNG', start=1008, len=2), Token(form='하', tag='XSV', start=1010, len=1), Token(form='는', tag='ETM', start=1011, len=1), Token(form='유럽', tag='NNP', start=1013, len=2), Token(form='에서', tag='JKB', start=1015, len=2), Token(form='의', tag='JKG', start=1017, len=1), Token(form='한반도', tag='NNP', start=1019, len=3), Token(form='평화', tag='NNG', start=1023, len=2), Token(form='프로세스', tag='NNG', start=1025, len=4), Token(form='설득', tag='NNG', start=1030, len=2), Token(form='작업', tag='NNG', start=1033, len=2), Token(form='은', tag='JX', start=1035, len=1), Token(form='주춤거리', tag='VV', start=1037, len=4), Token(form='는', tag='ETM', start=1041, len=1), Token(form='모양새', tag='NNG', start=1043, len=3), Token(form='가', tag='JKS', start=1046, len=1), Token(form='감지', tag='NNG', start=1048, len=2), Token(form='되', tag='XSV', start=1050, len=1), Token(form='었었', tag='EP', start=1050, len=2), Token(form='다', tag='EF', start=1052, len=1), Token(form='문', tag='NNP', start=1055, len=1), Token(form='대통령', tag='NNG', start=1057, len=3), Token(form='은', tag='JX', start=1060, len=1), Token(form='지나', tag='VV', start=1062, len=2), Token(form='ᆫ', tag='ETM', start=1063, len=1), Token(form='15', tag='SN', start=1065, len=2), Token(form='일', tag='NNB', start=1067, len=1), Token(form='에마뉘엘', tag='NNP', start=1069, len=4), Token(form='마크롱', tag='NNP', start=1074, len=3), Token(form='프랑스', tag='NNP', start=1078, len=3), Token(form='대통령', tag='NNG', start=1082, len=3), Token(form='과', tag='JKB', start=1085, len=1), Token(form='만나', tag='VV', start=1087, len=2), Token(form='어', tag='EC', start=1088, len=1), Token(form='프랑스', tag='NNP', start=1090, len=3), Token(form='가', tag='JKS', start=1093, len=1), Token(form='유엔', tag='NNP', start=1095, len=2), Token(form='안보리', tag='NNG', start=1098, len=3), Token(form='상임', tag='NNG', start=1102, len=2), Token(form='이사국', tag='NNG', start=1104, len=3), Token(form='으로서', tag='JKB', start=1107, len=3), Token(form='대북', tag='NNG', start=1111, len=2), Token(form='제재', tag='NNG', start=1113, len=2), Token(form='완화', tag='NNG', start=1116, len=2), Token(form='에', tag='JKB', start=1118, len=1), Token(form='힘', tag='NNG', start=1120, len=1), Token(form='을', tag='JKO', start=1121, len=1), Token(form='싣', tag='VV-I', start=1123, len=1), Token(form='어', tag='EC', start=1124, len=1), Token(form='달', tag='VX', start=1125, len=1), Token(form='라고', tag='EC', start=1126, len=2), Token(form='요청', tag='NNG', start=1129, len=2), Token(form='하', tag='XSV', start=1131, len=1), Token(form='었', tag='EP', start=1131, len=1), Token(form='지만', tag='EC', start=1132, len=2), Token(form='마크롱', tag='NNP', start=1135, len=3), Token(form='대통령', tag='NNG', start=1139, len=3), Token(form='은', tag='JX', start=1142, len=1), Token(form='CVID', tag='SL', start=1144, len=4), Token(form='완전', tag='NNG', start=1149, len=2), Token(form='하', tag='XSA', start=1151, len=1), Token(form='고', tag='EC', start=1152, len=1), Token(form='불', tag='XPN', start=1154, len=1), Token(form='가역', tag='NNG', start=1155, len=2), Token(form='적', tag='XSN', start=1157, len=1), Token(form='이', tag='VCP', start=1158, len=1), Token(form='고', tag='EC', start=1159, len=1), Token(form='검증', tag='NNG', start=1161, len=2), Token(form='가능', tag='NNG', start=1163, len=2), Token(form='하', tag='XSA', start=1165, len=1), Token(form='ᆫ', tag='ETM', start=1165, len=1), Token(form='비핵', tag='NNG', start=1167, len=2), Token(form='화', tag='XSN', start=1169, len=1), Token(form='를', tag='JKO', start=1171, len=1), Token(form='강조', tag='NNG', start=1173, len=2), Token(form='하', tag='XSV', start=1175, len=1), Token(form='며', tag='EC', start=1176, len=1), Token(form='완곡', tag='XR', start=1178, len=2), Token(form='하', tag='XSA', start=1180, len=1), Token(form='ᆫ', tag='ETM', start=1180, len=1), Token(form='거절', tag='NNG', start=1182, len=2), Token(form='의사', tag='NNG', start=1184, len=2), Token(form='를', tag='JKO', start=1186, len=1), Token(form='밝히', tag='VV', start=1188, len=2), Token(form='ᆫ', tag='ETM', start=1189, len=1), Token(form='바', tag='NNB', start=1191, len=1), Token(form='있', tag='VA', start=1193, len=1), Token(form='다', tag='EF', start=1194, len=1), Token(form='하지만', tag='MAJ', start=1196, len=3), Token(form='17', tag='SN', start=1200, len=2), Token(form='일', tag='NNB', start=1202, len=1), Token(form='문', tag='NNP', start=1204, len=1), Token(form='대통령', tag='NNG', start=1206, len=3), Token(form='이', tag='JKS', start=1209, len=1), Token(form='한반도', tag='NNP', start=1211, len=3), Token(form='평화', tag='NNG', start=1215, len=2), Token(form='를', tag='JKO', start=1217, len=1), Token(form='위하', tag='VV', start=1219, len=2), Token(form='ᆫ', tag='ETM', start=1220, len=1), Token(form='특별', tag='NNG', start=1222, len=2), Token(form='미사', tag='NNG', start=1224, len=2), Token(form='에', tag='JKB', start=1226, len=1), Token(form='참석', tag='NNG', start=1228, len=2), Token(form='하', tag='XSV', start=1230, len=1), Token(form='고', tag='EC', start=1231, len=1), Token(form='특별', tag='NNG', start=1233, len=2), Token(form='연설', tag='NNG', start=1235, len=2), Token(form='을', tag='JKO', start=1237, len=1), Token(form='하', tag='VV', start=1239, len=1), Token(form='면서', tag='EC', start=1240, len=2), Token(form='한반도', tag='NNP', start=1244, len=3), Token(form='평화', tag='NNG', start=1248, len=2), Token(form='프로세스', tag='NNG', start=1250, len=4), Token(form='가', tag='JKS', start=1255, len=1), Token(form='한껏', tag='MAG', start=1257, len=2), Token(form='탄력', tag='NNG', start=1260, len=2), Token(form='을', tag='JKO', start=1262, len=1), Token(form='받', tag='VV-R', start=1264, len=1), Token(form='은', tag='ETM', start=1265, len=1), Token(form='데', tag='NNB', start=1267, len=1), Token(form='잇', tag='VV-I', start=1269, len=2), Token(form='어', tag='EC', start=1270, len=1), Token(form='18', tag='SN', start=1272, len=2), Token(form='일', tag='NNB', start=1274, len=1), Token(form='바티칸', tag='NNP', start=1276, len=3), Token(form='에서', tag='JKB', start=1279, len=2), Token(form='알현', tag='NNG', start=1282, len=2), Token(form='하', tag='XSV', start=1284, len=1), Token(form='ᆫ', tag='ETM', start=1284, len=1), Token(form='교황', tag='NNG', start=1286, len=2), Token(form='이', tag='JKS', start=1288, len=1), Token(form='적극', tag='NNG', start=1290, len=2), Token(form='적', tag='XSN', start=1292, len=1), Token(form='으로', tag='JKB', start=1293, len=2), Token(form='나서', tag='VV', start=1296, len=2), Token(form='면서', tag='EC', start=1298, len=2), Token(form='국제', tag='NNG', start=1301, len=2), Token(form='사회', tag='NNG', start=1303, len=2), Token(form='가', tag='JKS', start=1305, len=1), Token(form='영향', tag='NNG', start=1307, len=2), Token(form='을', tag='JKO', start=1309, len=1), Token(form='받', tag='VV-R', start=1311, len=1), Token(form='을', tag='ETM', start=1312, len=1), Token(form='수', tag='NNB', start=1314, len=1), Token(form='밖에', tag='JX', start=1315, len=2), Token(form='없', tag='VA', start=1318, len=1), Token(form='을', tag='ETM', start=1319, len=1), Token(form='것', tag='NNB', start=1321, len=1), Token(form='으로', tag='JKB', start=1322, len=2), Token(form='보이', tag='VV', start=1325, len=2), Token(form='ᆫ다', tag='EF', start=1326, len=2), Token(form='전', tag='MM', start=1330, len=1), Token(form='세계', tag='NNG', start=1331, len=2), Token(form='인구', tag='NNG', start=1334, len=2), Token(form='의', tag='JKG', start=1336, len=1), Token(form='17', tag='SN', start=1338, len=2), Token(form='7', tag='SN', start=1341, len=1), Token(form='인', tag='NNG', start=1343, len=1), Token(form='12', tag='SN', start=1345, len=2), Token(form='억', tag='NR', start=1347, len=1), Token(form='8500', tag='SN', start=1348, len=4), Token(form='만', tag='NR', start=1352, len=1), Token(form='명', tag='NNB', start=1353, len=1), Token(form='의', tag='JKG', start=1354, len=1), Token(form='신자', tag='NNG', start=1356, len=2), Token(form='를', tag='JKO', start=1358, len=1), Token(form='보유', tag='NNG', start=1360, len=2), Token(form='하', tag='XSV', start=1362, len=1), Token(form='ᆫ', tag='ETM', start=1362, len=1), Token(form='가톨릭', tag='NNG', start=1364, len=3), Token(form='의', tag='JKG', start=1367, len=1), Token(form='수장', tag='NNG', start=1369, len=2), Token(form='이', tag='JKS', start=1371, len=1), Token(form='직접', tag='MAG', start=1373, len=2), Token(form='나서', tag='VV', start=1376, len=2), Token(form='기', tag='ETN', start=1378, len=1), Token(form='때문', tag='NNB', start=1380, len=2), Token(form='에', tag='JKB', start=1382, len=1), Token(form='파급력', tag='NNG', start=1384, len=3), Token(form='이', tag='JKS', start=1387, len=1), Token(form='상당', tag='NNG', start=1389, len=2), Token(form='하', tag='XSA', start=1391, len=1), Token(form='ᆯ', tag='ETM', start=1391, len=1), Token(form='것', tag='NNB', start=1393, len=1), Token(form='이', tag='VCP', start=1394, len=1), Token(form='기', tag='ETN', start=1395, len=1), Token(form='때문', tag='NNB', start=1397, len=2), Token(form='이', tag='VCP', start=1399, len=1), Token(form='다', tag='EF', start=1400, len=1), Token(form='아울러', tag='MAG', start=1403, len=3), Token(form='교황', tag='NNG', start=1407, len=2), Token(form='의', tag='JKG', start=1409, len=1), Token(form='방북', tag='NNG', start=1411, len=2), Token(form='이', tag='JKS', start=1413, len=1), Token(form='성사', tag='NNG', start=1415, len=2), Token(form='되', tag='XSV', start=1417, len=1), Token(form='면', tag='EC', start=1418, len=1), Token(form='역사', tag='NNG', start=1420, len=2), Token(form='상', tag='XSN', start=1422, len=1), Token(form='처음', tag='NNG', start=1424, len=2), Token(form='으로', tag='JKB', start=1426, len=2), Token(form='북한', tag='NNP', start=1429, len=2), Token(form='땅', tag='NNG', start=1432, len=1), Token(form='을', tag='JKO', start=1433, len=1), Token(form='밟', tag='VV', start=1435, len=1), Token(form='는', tag='ETM', start=1436, len=1), Token(form='교황', tag='NNG', start=1438, len=2), Token(form='이', tag='VCP', start=1440, len=1), Token(form='라는', tag='ETM', start=1441, len=2), Token(form='상징', tag='NNG', start=1444, len=2), Token(form='성', tag='XSN', start=1446, len=1), Token(form='도', tag='JX', start=1447, len=1), Token(form='갖', tag='VV', start=1449, len=1), Token(form='게', tag='EC', start=1450, len=1), Token(form='되', tag='VV', start=1452, len=1), Token(form='ᆫ다', tag='EF', start=1452, len=2), Token(form='문', tag='NNP', start=1455, len=1), Token(form='대통령', tag='NNG', start=1457, len=3), Token(form='은', tag='JX', start=1460, len=1), Token(form='이러', tag='XR', start=1462, len=2), Token(form='하', tag='XSA', start=1464, len=1), Token(form='ᆫ', tag='ETM', start=1464, len=1), Token(form='기세', tag='NNG', start=1466, len=2), Token(form='로', tag='JKB', start=1468, len=1), Token(form='19', tag='SN', start=1470, len=2), Token(form='일', tag='NNB', start=1472, len=1), Token(form='벨기에', tag='NNP', start=1474, len=3), Token(form='브뤼셀', tag='NNP', start=1478, len=3), Token(form='에서', tag='JKB', start=1481, len=2), Token(form='열리', tag='VV', start=1484, len=2), Token(form='는', tag='ETM', start=1486, len=1), Token(form='제', tag='XPN', start=1488, len=1), Token(form='12', tag='SN', start=1489, len=2), Token(form='차', tag='NNB', start=1491, len=1), Token(form='아셈', tag='NNP', start=1493, len=2), Token(form='ASEM', tag='SL', start=1496, len=4), Token(form='아시아', tag='NNP', start=1501, len=3), Token(form='유럽', tag='NNP', start=1505, len=2), Token(form='정상', tag='NNG', start=1507, len=2), Token(form='회의', tag='NNG', start=1509, len=2), Token(form='에서', tag='JKB', start=1512, len=2), Token(form='영국', tag='NNP', start=1515, len=2), Token(form='과', tag='JC', start=1517, len=1), Token(form='독일', tag='NNP', start=1519, len=2), Token(form='태국', tag='NNP', start=1523, len=2), Token(form='총리', tag='NNG', start=1526, len=2), Token(form='와', tag='JKB', start=1528, len=1), Token(form='정상', tag='NNG', start=1530, len=2), Token(form='회담', tag='NNG', start=1532, len=2), Token(form='을', tag='JKO', start=1534, len=1), Token(form='갖', tag='VV', start=1536, len=1), Token(form='는다', tag='EF', start=1537, len=2), Token(form='특히', tag='MAG', start=1541, len=2), Token(form='영국', tag='NNP', start=1544, len=2), Token(form='독일', tag='NNP', start=1548, len=2), Token(form='총리', tag='NNG', start=1551, len=2), Token(form='와', tag='JKB', start=1553, len=1), Token(form='만나', tag='VV', start=1555, len=2), Token(form='어', tag='EC', start=1556, len=1), Token(form='대북', tag='NNG', start=1558, len=2), Token(form='제재', tag='NNG', start=1560, len=2), Token(form='완화', tag='NNG', start=1563, len=2), Token(form='등', tag='NNB', start=1566, len=1), Token(form='한반도', tag='NNP', start=1568, len=3), Token(form='평화', tag='NNG', start=1572, len=2), Token(form='프로세스', tag='NNG', start=1574, len=4), Token(form='설득', tag='NNG', start=1579, len=2), Token(form='작업', tag='NNG', start=1581, len=2), Token(form='에', tag='JKB', start=1583, len=1), Token(form='가속', tag='NNG', start=1585, len=2), Token(form='페달', tag='NNG', start=1587, len=2), Token(form='을', tag='JKO', start=1589, len=1), Token(form='밟', tag='VV', start=1591, len=1), Token(form='을', tag='ETM', start=1592, len=1), Token(form='전망', tag='NNG', start=1594, len=2), Token(form='이', tag='VCP', start=1596, len=1), Token(form='다', tag='EF', start=1597, len=1), Token(form='영국', tag='NNP', start=1599, len=2), Token(form='은', tag='JX', start=1601, len=1), Token(form='미국', tag='NNP', start=1603, len=2), Token(form='프랑스', tag='NNP', start=1607, len=3), Token(form='러시아', tag='NNP', start=1612, len=3), Token(form='중국', tag='NNP', start=1617, len=2), Token(form='과', tag='JKB', start=1619, len=1), Token(form='함께', tag='MAG', start=1621, len=2), Token(form='유엔', tag='NNP', start=1624, len=2), Token(form='안보리', tag='NNG', start=1627, len=3), Token(form='상임', tag='NNG', start=1631, len=2), Token(form='이사국', tag='NNG', start=1633, len=3), Token(form='에', tag='JKB', start=1636, len=1), Token(form='속하', tag='VV', start=1638, len=2), Token(form='ᆫ다', tag='EF', start=1639, len=2), Token(form='이미', tag='MAG', start=1643, len=2), Token(form='5', tag='SN', start=1646, len=1), Token(form='차례', tag='NNG', start=1647, len=2), Token(form='비', tag='XPN', start=1650, len=1), Token(form='상임', tag='NNG', start=1651, len=2), Token(form='이사국', tag='NNG', start=1653, len=3), Token(form='을', tag='JKO', start=1656, len=1), Token(form='지내', tag='VV', start=1658, len=2), Token(form='ᆫ', tag='ETM', start=1659, len=1), Token(form='독일', tag='NNP', start=1661, len=2), Token(form='은', tag='JX', start=1663, len=1), Token(form='내년', tag='NNG', start=1665, len=2), Token(form='안보리', tag='NNG', start=1668, len=3), Token(form='비', tag='XPN', start=1672, len=1), Token(form='상임', tag='NNG', start=1673, len=2), Token(form='이사국', tag='NNG', start=1675, len=3), Token(form='2020', tag='SN', start=1679, len=4), Token(form='년', tag='NNB', start=1683, len=1), Token(form='까지', tag='JX', start=1684, len=2), Token(form='으', tag='NNG', start=1687, len=1), Token(form='로', tag='JKB', start=1688, len=1), Token(form='선출', tag='NNG', start=1690, len=2), Token(form='되', tag='XSV', start=1692, len=1), Token(form='어', tag='EC', start=1692, len=1), Token(form='있', tag='VX', start=1694, len=1), Token(form='다', tag='EF', start=1695, len=1), Token(form='silverpaper', tag='SL', start=1697, len=11), Token(form='news', tag='SL', start=1709, len=4), Token(form='1', tag='SN', start=1713, len=1), Token(form='kr', tag='SL', start=1715, len=2), Token(form='진짜', tag='MAG', start=1719, len=2), Token(form='블록체인', tag='NNP', start=1722, len=4), Token(form='을', tag='JKO', start=1726, len=1), Token(form='만나', tag='VV', start=1728, len=2), Token(form='는', tag='ETM', start=1730, len=1), Token(form='곳', tag='NNG', start=1732, len=1), Token(form='크립토허브', tag='NNP', start=1735, len=5), Token(form='오픈', tag='NNG', start=1742, len=2), Token(form='글로벌', tag='NNG', start=1748, len=3), Token(form='바이오', tag='NNG', start=1751, len=3), Token(form='포럼', tag='NNG', start=1754, len=2), Token(form='2018', tag='SN', start=1757, len=4), Token(form='참가', tag='NNG', start=1762, len=2), Token(form='하기', tag='NNG', start=1764, len=2), Token(form='네이버', tag='NNP', start=1768, len=3), Token(form='메인', tag='NNG', start=1772, len=2), Token(form='에서', tag='JKB', start=1774, len=2), Token(form='뉴스1', tag='NNP', start=1778, len=3), Token(form='을', tag='JKO', start=1782, len=1), Token(form='구독', tag='NNG', start=1784, len=2), Token(form='하', tag='XSV', start=1786, len=1), Token(form='어', tag='EC', start=1786, len=1), Token(form='주', tag='VX', start=1787, len=1), Token(form='세요', tag='EF', start=1788, len=2), Token(form='뉴스1', tag='NNP', start=1793, len=3), Token(form='코리아', tag='NNP', start=1796, len=3), Token(form='news', tag='SL', start=1800, len=4), Token(form='1', tag='SN', start=1804, len=1), Token(form='kr', tag='SL', start=1806, len=2), Token(form='무단', tag='NNG', start=1811, len=2), Token(form='전재', tag='NNG', start=1814, len=2), Token(form='및', tag='MAG', start=1817, len=1), Token(form='재', tag='XPN', start=1819, len=1), Token(form='배포', tag='NNG', start=1820, len=2), Token(form='금지', tag='NNG', start=1823, len=2)]\n"
          ]
        }
      ],
      "source": [
        "kiwi_tokens = kiwi.tokenize(filtered_content)\n",
        "print(kiwi_tokens)\n",
        "# Tag 정보\n",
        "# https://github.com/bab2min/kiwipiepy#%ED%92%88%EC%82%AC-%ED%83%9C%EA%B7%B8"
      ]
    },
    {
      "cell_type": "markdown",
      "source": [
        "첫번째 토큰은 아셈이라는 형태소 2개를 담고 있다는 뜻."
      ],
      "metadata": {
        "id": "kpH9OlZQtA7Y"
      }
    },
    {
      "cell_type": "markdown",
      "metadata": {
        "id": "P2cfRZcuo9YP"
      },
      "source": [
        "여기서도 명사의 단어들만 추출하면 된다. 명사들은 대문자 N 2개만 들어가는 형태소만 선택하면 된다.\n",
        "그래서 'NN'이라는 것을 쓴다."
      ]
    },
    {
      "cell_type": "code",
      "execution_count": 13,
      "metadata": {
        "id": "VS32AAkho9YM"
      },
      "outputs": [],
      "source": [
        "# 명사 단어/형태소 선택하기\n",
        "Noun_words = []\n",
        "for token in kiwi_tokens:\n",
        "    if 'NN' in token.tag:\n",
        "        Noun_words.append(token.form)"
      ]
    },
    {
      "cell_type": "code",
      "execution_count": 14,
      "metadata": {
        "scrolled": true,
        "id": "ztDa-DVgo9YN",
        "outputId": "1b661927-11b6-4f8a-ad0a-ad38ad2cc1d8",
        "colab": {
          "base_uri": "https://localhost:8080/"
        }
      },
      "outputs": [
        {
          "output_type": "stream",
          "name": "stdout",
          "text": [
            "['아셈', '계기', '영국', '독일', '태국', '정상', '회담', '대북', '제재', '완화', '설득', '가속', '문재인', '대통령', '일', '오후', '현지', '시간', '바티칸', '교황청', '방문', '프란치스코', '교황', '악수', '청와대', '페이스북', '뉴스1', '바티칸', '뉴스1', '조소영', '기자', '프란치스코', '교황', '일', '현지', '시간', '문재인', '대통령', '만남', '사실', '방북', '의사', '문', '대통령', '한반도', '평화', '프로세스', '추진', '상당', '힘', '문', '대통령', '교황', '지지', '기반', '차', '북미', '정상', '회담', '신속', '개최', '촉구', '국제', '사회', '북한', '비핵', '촉진', '대북', '제재', '완화', '일정', '정도', '필요', '주장', '것', '문', '대통령', '이날', '오후', '시', '분', '바티칸', '교황', '궁', '내', '교황', '서재', '분', '동안', '프란치스코', '교황', '단독', '예방', '교황', '만남', '원활', '의사소통', '통역', '외', '배석자', '비밀', '원칙', '이날', '예방', '통역', '자리', '한현택', '신부', '외', '배석', '것', '사전', '청와대', '바티칸', '사이', '협의', '이례', '면담', '주요', '내용', '공개', '윤영', '청와대', '국민', '소통', '수석', '데', '교황', '문', '대통령', '김정은', '북한', '국무', '위원장', '방북', '초청', '의사', '김', '위원장', '초청장', '공식', '초청장', '교황', '초청장', '응답', '것', '수', '북한', '수', '언급', '문맥', '북한', '땅', '뜻', '해석', '교황', '한반도', '평화', '프로세스', '추진', '중', '한국', '정부', '노력', '지지', '앞', '해석', '힘', '윤', '수석', '교황', '방북', '시점', '언급', '데', '시점', '말', '한편', '교황', '답', '원론', '의미', '풀이', '교황', '방북', '자체', '문', '데', '의의', '평', '문', '대통령', '추진', '유럽', '한반도', '평화', '프로세스', '설득', '작업', '모양새', '감지', '문', '대통령', '일', '에마뉘엘', '마크롱', '프랑스', '대통령', '프랑스', '유엔', '안보리', '상임', '이사국', '대북', '제재', '완화', '힘', '요청', '마크롱', '대통령', '완전', '가역', '검증', '가능', '비핵', '강조', '거절', '의사', '바', '일', '문', '대통령', '한반도', '평화', '특별', '미사', '참석', '특별', '연설', '한반도', '평화', '프로세스', '탄력', '데', '일', '바티칸', '알현', '교황', '적극', '국제', '사회', '영향', '수', '것', '세계', '인구', '인', '명', '신자', '보유', '가톨릭', '수장', '때문', '파급력', '상당', '것', '때문', '교황', '방북', '성사', '역사', '처음', '북한', '땅', '교황', '상징', '문', '대통령', '기세', '일', '벨기에', '브뤼셀', '차', '아셈', '아시아', '유럽', '정상', '회의', '영국', '독일', '태국', '총리', '정상', '회담', '영국', '독일', '총리', '대북', '제재', '완화', '등', '한반도', '평화', '프로세스', '설득', '작업', '가속', '페달', '전망', '영국', '미국', '프랑스', '러시아', '중국', '유엔', '안보리', '상임', '이사국', '차례', '상임', '이사국', '독일', '내년', '안보리', '상임', '이사국', '년', '으', '선출', '블록체인', '곳', '크립토허브', '오픈', '글로벌', '바이오', '포럼', '참가', '하기', '네이버', '메인', '뉴스1', '구독', '뉴스1', '코리아', '무단', '전재', '배포', '금지']\n"
          ]
        }
      ],
      "source": [
        "print(Noun_words)"
      ]
    },
    {
      "cell_type": "markdown",
      "source": [
        "이제 불용어를 제거하면 된다."
      ],
      "metadata": {
        "id": "uOAVlesitWur"
      }
    },
    {
      "cell_type": "code",
      "execution_count": 15,
      "metadata": {
        "scrolled": true,
        "id": "X6Wttdc5o9YR",
        "outputId": "9eab81db-4070-4c0b-838b-461eace99607",
        "colab": {
          "base_uri": "https://localhost:8080/"
        }
      },
      "outputs": [
        {
          "output_type": "stream",
          "name": "stdout",
          "text": [
            "['아셈', '계기', '영국', '독일', '태국', '정상', '회담', '대북', '제재', '완화', '설득', '가속', '문재인', '대통령', '일', '오후', '현지', '시간', '바티칸', '교황청', '방문', '프란치스코', '교황', '악수', '청와대', '페이스북', '뉴스1', '바티칸', '뉴스1', '조소영', '기자', '프란치스코', '교황', '일', '현지', '시간', '문재인', '대통령', '만남', '사실', '방북', '의사', '밝히', '따르', '문', '대통령', '한반도', '평화', '프로세스', '추진', '상당', '힘', '실리', '되', '문', '대통령', '교황', '지지', '기반', '차', '북미', '정상', '회담', '신속', '개최', '촉구', '국제', '사회', '북한', '비핵', '촉진', '위하', '대북', '제재', '완화', '일정', '정도', '필요', '주장', '것', '보이', '문', '대통령', '이날', '오후', '시', '분', '바티칸', '교황', '궁', '내', '교황', '서재', '분', '동안', '프란치스코', '교황', '단독', '예방', '교황', '만남', '원활', '의사소통', '위하', '통역', '외', '배석자', '비밀', '이루', '원칙', '따르', '이날', '예방', '통역', '위하', '자리', '한현택', '신부', '외', '배석', '것', '전하', '사전', '청와대', '바티칸', '사이', '협의', '거치', '이례', '면담', '주요', '내용', '공개', '따르', '윤영', '차', '청와대', '국민', '소통', '수석', '밝히', '데', '따르', '교황', '문', '대통령', '김정은', '북한', '국무', '위원장', '방북', '초청', '의사', '전하', '김', '위원장', '초청장', '보내', '좋', '공식', '초청장', '보내', '좋', '하', '교황', '초청장', '오', '응답', '주', '것', '가', '수', '있', '하', '북한', '가', '수', '있', '언급', '문맥', '북한', '땅', '밟', '뜻', '해석', '교황', '그러', '한반도', '평화', '프로세스', '추진', '중', '한국', '정부', '노력', '지지', '멈추', '앞', '나아가', '두려워하', '하', '해석', '힘', '보태', '윤', '수석', '교황', '방북', '시점', '대하', '언급', '없', '데', '시점', '대하', '말', '없', '전하', '따르', '한편', '교황', '답', '원론', '의미', '풀이', '나오', '교황', '방북', '자체', '문', '열', '데', '의의', '있', '평', '문', '대통령', '추진', '유럽', '한반도', '평화', '프로세스', '설득', '작업', '주춤거리', '모양새', '감지', '문', '대통령', '지나', '일', '에마뉘엘', '마크롱', '프랑스', '대통령', '만나', '프랑스', '유엔', '안보리', '상임', '이사국', '대북', '제재', '완화', '힘', '요청', '마크롱', '대통령', '완전', '가역', '검증', '가능', '비핵', '강조', '거절', '의사', '밝히', '바', '있', '일', '문', '대통령', '한반도', '평화', '위하', '특별', '미사', '참석', '특별', '연설', '하', '한반도', '평화', '프로세스', '탄력', '데', '일', '바티칸', '알현', '교황', '적극', '나서', '국제', '사회', '영향', '수', '없', '것', '보이', '세계', '인구', '인', '명', '신자', '보유', '가톨릭', '수장', '나서', '때문', '파급력', '상당', '것', '때문', '교황', '방북', '성사', '역사', '처음', '북한', '땅', '밟', '교황', '상징', '갖', '되', '문', '대통령', '기세', '일', '벨기에', '브뤼셀', '열리', '차', '아셈', '아시아', '유럽', '정상', '회의', '영국', '독일', '태국', '총리', '정상', '회담', '갖', '영국', '독일', '총리', '만나', '대북', '제재', '완화', '등', '한반도', '평화', '프로세스', '설득', '작업', '가속', '페달', '밟', '전망', '영국', '미국', '프랑스', '러시아', '중국', '유엔', '안보리', '상임', '이사국', '속하', '차례', '상임', '이사국', '지내', '독일', '내년', '안보리', '상임', '이사국', '년', '으', '선출', '블록체인', '만나', '곳', '크립토허브', '오픈', '글로벌', '바이오', '포럼', '참가', '하기', '네이버', '메인', '뉴스1', '구독', '뉴스1', '코리아', '무단', '전재', '배포', '금지']\n"
          ]
        }
      ],
      "source": [
        "Featured_POS = ['NNG', 'NNP', 'NNB', 'VV', 'VA']\n",
        "selected_words = []\n",
        "for token in kiwi_tokens:\n",
        "    if token.tag in Featured_POS:\n",
        "        selected_words.append(token.form)\n",
        "print(selected_words)"
      ]
    },
    {
      "cell_type": "markdown",
      "metadata": {
        "id": "Ctxx1B_Bo9YR"
      },
      "source": [
        "## Kiwi 에서 제공되는 불용어 사전"
      ]
    },
    {
      "cell_type": "markdown",
      "source": [
        "Stopwords 라는 생성자함수를 이용해서 객체 stopwords_dict 를 만들고 있다."
      ],
      "metadata": {
        "id": "GlXgj42CtlZJ"
      }
    },
    {
      "cell_type": "code",
      "execution_count": 16,
      "metadata": {
        "id": "ERuNxlCNo9YR"
      },
      "outputs": [],
      "source": [
        "from kiwipiepy.utils import Stopwords\n",
        "stopwords_dict = Stopwords()"
      ]
    },
    {
      "cell_type": "markdown",
      "source": [
        "kiwi 분석기가 제공하는 불용어 사전을 보여준다. 불용어 사전을 이용해서 첫번째 불용어를 제거할 수 있다. 불용어 사전 같은 경우에는 추가적인 불용어를 추가할 수 있다.\n",
        "\n"
      ],
      "metadata": {
        "id": "a5x4YI1zttyO"
      }
    },
    {
      "cell_type": "code",
      "execution_count": 17,
      "metadata": {
        "scrolled": true,
        "id": "ouXPMY3zo9YS",
        "outputId": "888890e8-1bfe-4500-9f4b-aea6cbf5b943",
        "colab": {
          "base_uri": "https://localhost:8080/"
        }
      },
      "outputs": [
        {
          "output_type": "execute_result",
          "data": {
            "text/plain": [
              "{('ᆫ', 'ETM'),\n",
              " ('ᆫ', 'JX'),\n",
              " ('ᆫ다', 'EF'),\n",
              " ('ᆯ', 'ETM'),\n",
              " ('가', 'JKS'),\n",
              " ('같', 'VA'),\n",
              " ('것', 'NNB'),\n",
              " ('게', 'EC'),\n",
              " ('겠', 'EP'),\n",
              " ('고', 'EC'),\n",
              " ('고', 'JKQ'),\n",
              " ('과', 'JC'),\n",
              " ('과', 'JKB'),\n",
              " ('그', 'MM'),\n",
              " ('그', 'NP'),\n",
              " ('기', 'ETN'),\n",
              " ('까지', 'JX'),\n",
              " ('나', 'NP'),\n",
              " ('년', 'NNB'),\n",
              " ('는', 'ETM'),\n",
              " ('는', 'JX'),\n",
              " ('다', 'EC'),\n",
              " ('다', 'EF'),\n",
              " ('다고', 'EC'),\n",
              " ('다는', 'ETM'),\n",
              " ('대하', 'VV'),\n",
              " ('더', 'MAG'),\n",
              " ('던', 'ETM'),\n",
              " ('도', 'JX'),\n",
              " ('되', 'VV'),\n",
              " ('되', 'XSV'),\n",
              " ('들', 'XSN'),\n",
              " ('등', 'NNB'),\n",
              " ('따르', 'VV'),\n",
              " ('때', 'NNG'),\n",
              " ('때문', 'NNB'),\n",
              " ('라', 'EC'),\n",
              " ('라는', 'ETM'),\n",
              " ('로', 'JKB'),\n",
              " ('를', 'JKO'),\n",
              " ('만', 'JX'),\n",
              " ('만', 'NR'),\n",
              " ('말', 'NNG'),\n",
              " ('며', 'EC'),\n",
              " ('면', 'EC'),\n",
              " ('면서', 'EC'),\n",
              " ('명', 'NNB'),\n",
              " ('받', 'VV'),\n",
              " ('보', 'VV'),\n",
              " ('부터', 'JX'),\n",
              " ('사람', 'NNG'),\n",
              " ('성', 'XSN'),\n",
              " ('수', 'NNB'),\n",
              " ('아니', 'VCN'),\n",
              " ('않', 'VX'),\n",
              " ('어', 'EC'),\n",
              " ('어', 'EF'),\n",
              " ('어서', 'EC'),\n",
              " ('어야', 'EC'),\n",
              " ('없', 'VA'),\n",
              " ('었', 'EP'),\n",
              " ('에', 'JKB'),\n",
              " ('에게', 'JKB'),\n",
              " ('에서', 'JKB'),\n",
              " ('와', 'JC'),\n",
              " ('와', 'JKB'),\n",
              " ('우리', 'NP'),\n",
              " ('원', 'NNB'),\n",
              " ('월', 'NNB'),\n",
              " ('위하', 'VV'),\n",
              " ('으로', 'JKB'),\n",
              " ('은', 'ETM'),\n",
              " ('은', 'JX'),\n",
              " ('을', 'ETM'),\n",
              " ('을', 'JKO'),\n",
              " ('의', 'JKG'),\n",
              " ('이', 'JKC'),\n",
              " ('이', 'JKS'),\n",
              " ('이', 'MM'),\n",
              " ('이', 'NP'),\n",
              " ('이', 'VCP'),\n",
              " ('일', 'NNB'),\n",
              " ('일', 'NNG'),\n",
              " ('있', 'VV'),\n",
              " ('있', 'VX'),\n",
              " ('적', 'XSN'),\n",
              " ('제', 'XPN'),\n",
              " ('주', 'VX'),\n",
              " ('중', 'NNB'),\n",
              " ('지', 'EC'),\n",
              " ('지', 'VX'),\n",
              " ('지만', 'EC'),\n",
              " ('지역', 'NNG'),\n",
              " ('통하', 'VV'),\n",
              " ('하', 'VV'),\n",
              " ('하', 'VX'),\n",
              " ('하', 'XSA'),\n",
              " ('하', 'XSV'),\n",
              " ('한', 'MM'),\n",
              " ('화', 'XSN')}"
            ]
          },
          "metadata": {},
          "execution_count": 17
        }
      ],
      "source": [
        "stopwords_dict.stopwords"
      ]
    },
    {
      "cell_type": "markdown",
      "metadata": {
        "id": "UqcGPV-uo9YS"
      },
      "source": [
        "### 불용어 사전에 불용어 추가하기"
      ]
    },
    {
      "cell_type": "markdown",
      "source": [
        "예를 들어 오늘이라는 NNT 단어를 제거하려고 한다."
      ],
      "metadata": {
        "id": "e3UyDDbuuCLt"
      }
    },
    {
      "cell_type": "code",
      "execution_count": 18,
      "metadata": {
        "id": "H6TkBTqGo9YS"
      },
      "outputs": [],
      "source": [
        "# 한번에 하나의 단어 추가하기\n",
        "stopwords_dict.add(('오늘', 'NNG'))"
      ]
    },
    {
      "cell_type": "code",
      "execution_count": 19,
      "metadata": {
        "id": "uyo0sdqPo9YS"
      },
      "outputs": [],
      "source": [
        "# 한번에 여러 개의 단어 추가하기\n",
        "customized_stopwords = ['연합뉴스', '네이버', '기자', '문의']\n",
        "for word in customized_stopwords:\n",
        "    stopwords_dict.add((word, 'NNG'))"
      ]
    },
    {
      "cell_type": "markdown",
      "metadata": {
        "id": "JT2a6Beeo9YT"
      },
      "source": [
        "### 불용어 제거하기"
      ]
    },
    {
      "cell_type": "markdown",
      "source": [
        "tokenize라는 펑션 중에서 stop words 라는 파라미터를 이용해서 stopwords_dict 라는 변수로 지정을 해주면 이 펑션이 이 사전 안에 포함도어 있는 불용어를 제거하는 작업을 수행하게 된다. 영어보다 간단하게 불용어를 제거할 수 있다.\n",
        "\n",
        "\n",
        "복습\n",
        "kiwi 불용어 제거 방법에 첫번째는 키위분석기가 제공하는 사전, 두번째는 내가 사전에 추가하는데 add 펑션 이용하면 된다. 토크나이즈 펑션에서 stop-words 기능이 갖는 펑션을 이용하면 된다. 형태소 분석하는 동시에 불용어까지 제거하게 된다."
      ],
      "metadata": {
        "id": "4qEdx1KHuLpi"
      }
    },
    {
      "cell_type": "code",
      "execution_count": 20,
      "metadata": {
        "id": "2wp9Lgjpo9YT",
        "outputId": "608a7fd0-4e76-4919-d8db-779b66818e73",
        "colab": {
          "base_uri": "https://localhost:8080/"
        }
      },
      "outputs": [
        {
          "output_type": "execute_result",
          "data": {
            "text/plain": [
              "[Token(form='아셈', tag='NNP', start=0, len=2),\n",
              " Token(form='계기', tag='NNG', start=3, len=2),\n",
              " Token(form='영국', tag='NNP', start=6, len=2),\n",
              " Token(form='독일', tag='NNP', start=9, len=2),\n",
              " Token(form='태국', tag='NNP', start=12, len=2),\n",
              " Token(form='정상', tag='NNG', start=15, len=2),\n",
              " Token(form='회담', tag='NNG', start=17, len=2),\n",
              " Token(form='대북', tag='NNG', start=20, len=2),\n",
              " Token(form='제재', tag='NNG', start=22, len=2),\n",
              " Token(form='완화', tag='NNG', start=25, len=2),\n",
              " Token(form='설득', tag='NNG', start=28, len=2),\n",
              " Token(form='가속', tag='NNG', start=31, len=2),\n",
              " Token(form='문재인', tag='NNP', start=34, len=3),\n",
              " Token(form='대통령', tag='NNG', start=38, len=3),\n",
              " Token(form='18', tag='SN', start=43, len=2),\n",
              " Token(form='오후', tag='NNG', start=47, len=2),\n",
              " Token(form='현지', tag='NNG', start=50, len=2),\n",
              " Token(form='시간', tag='NNG', start=52, len=2),\n",
              " Token(form='바티칸', tag='NNP', start=56, len=3),\n",
              " Token(form='교황청', tag='NNG', start=60, len=3),\n",
              " Token(form='방문', tag='NNG', start=65, len=2),\n",
              " Token(form='프란치스코', tag='NNP', start=69, len=5),\n",
              " Token(form='교황', tag='NNG', start=75, len=2),\n",
              " Token(form='악수', tag='NNG', start=79, len=2),\n",
              " Token(form='청와대', tag='NNP', start=89, len=3),\n",
              " Token(form='페이스북', tag='NNP', start=93, len=4),\n",
              " Token(form='2018', tag='SN', start=99, len=4),\n",
              " Token(form='10', tag='SN', start=104, len=2),\n",
              " Token(form='18', tag='SN', start=107, len=2),\n",
              " Token(form='뉴스1', tag='NNP', start=110, len=3),\n",
              " Token(form='바티칸', tag='NNP', start=114, len=3),\n",
              " Token(form='뉴스1', tag='NNP', start=118, len=3),\n",
              " Token(form='조소영', tag='NNP', start=123, len=3),\n",
              " Token(form='프란치스코', tag='NNP', start=132, len=5),\n",
              " Token(form='교황', tag='NNG', start=138, len=2),\n",
              " Token(form='18', tag='SN', start=142, len=2),\n",
              " Token(form='현지', tag='NNG', start=146, len=2),\n",
              " Token(form='시간', tag='NNG', start=148, len=2),\n",
              " Token(form='문재인', tag='NNP', start=152, len=3),\n",
              " Token(form='대통령', tag='NNG', start=156, len=3),\n",
              " Token(form='만남', tag='NNG', start=162, len=2),\n",
              " Token(form='사실', tag='NNG', start=167, len=2),\n",
              " Token(form='상', tag='XSN', start=169, len=1),\n",
              " Token(form='방북', tag='NNG', start=171, len=2),\n",
              " Token(form='訪北', tag='SH', start=174, len=2),\n",
              " Token(form='의사', tag='NNG', start=177, len=2),\n",
              " Token(form='밝히', tag='VV', start=181, len=2),\n",
              " Token(form='ᆷ', tag='ETN', start=182, len=1),\n",
              " Token(form='문', tag='NNP', start=188, len=1),\n",
              " Token(form='대통령', tag='NNG', start=190, len=3),\n",
              " Token(form='한반도', tag='NNP', start=196, len=3),\n",
              " Token(form='평화', tag='NNG', start=200, len=2),\n",
              " Token(form='프로세스', tag='NNG', start=202, len=4),\n",
              " Token(form='추진', tag='NNG', start=208, len=2),\n",
              " Token(form='상당', tag='NNG', start=212, len=2),\n",
              " Token(form='힘', tag='NNG', start=216, len=1),\n",
              " Token(form='실리', tag='VV', start=219, len=2),\n",
              " Token(form='문', tag='NNP', start=227, len=1),\n",
              " Token(form='대통령', tag='NNG', start=229, len=3),\n",
              " Token(form='교황', tag='NNG', start=234, len=2),\n",
              " Token(form='지지', tag='NNG', start=238, len=2),\n",
              " Token(form='기반', tag='NNG', start=242, len=2),\n",
              " Token(form='2', tag='SN', start=248, len=1),\n",
              " Token(form='차', tag='NNB', start=249, len=1),\n",
              " Token(form='북미', tag='NNP', start=251, len=2),\n",
              " Token(form='정상', tag='NNG', start=253, len=2),\n",
              " Token(form='회담', tag='NNG', start=255, len=2),\n",
              " Token(form='신속', tag='NNG', start=259, len=2),\n",
              " Token(form='개최', tag='NNG', start=263, len=2),\n",
              " Token(form='촉구', tag='NNG', start=267, len=2),\n",
              " Token(form='국제', tag='NNG', start=272, len=2),\n",
              " Token(form='사회', tag='NNG', start=274, len=2),\n",
              " Token(form='북한', tag='NNP', start=278, len=2),\n",
              " Token(form='비핵', tag='NNG', start=282, len=2),\n",
              " Token(form='촉진', tag='NNG', start=287, len=2),\n",
              " Token(form='대북', tag='NNG', start=296, len=2),\n",
              " Token(form='제재', tag='NNG', start=298, len=2),\n",
              " Token(form='완화', tag='NNG', start=301, len=2),\n",
              " Token(form='일정', tag='NNG', start=305, len=2),\n",
              " Token(form='정도', tag='NNG', start=308, len=2),\n",
              " Token(form='필요', tag='NNG', start=311, len=2),\n",
              " Token(form='주장', tag='NNG', start=317, len=2),\n",
              " Token(form='잇', tag='VV-I', start=321, len=2),\n",
              " Token(form='가', tag='VX', start=323, len=1),\n",
              " Token(form='보이', tag='VV', start=329, len=2),\n",
              " Token(form='문', tag='NNP', start=333, len=1),\n",
              " Token(form='대통령', tag='NNG', start=335, len=3),\n",
              " Token(form='이날', tag='NNG', start=340, len=2),\n",
              " Token(form='오후', tag='NNG', start=343, len=2),\n",
              " Token(form='12', tag='SN', start=346, len=2),\n",
              " Token(form='시', tag='NNB', start=348, len=1),\n",
              " Token(form='5', tag='SN', start=349, len=1),\n",
              " Token(form='분', tag='NNB', start=350, len=1),\n",
              " Token(form='바티칸', tag='NNP', start=352, len=3),\n",
              " Token(form='교황', tag='NNG', start=356, len=2),\n",
              " Token(form='궁', tag='NNG', start=358, len=1),\n",
              " Token(form='내', tag='NNB', start=360, len=1),\n",
              " Token(form='교황', tag='NNG', start=362, len=2),\n",
              " Token(form='서재', tag='NNG', start=364, len=2),\n",
              " Token(form='40', tag='SN', start=369, len=2),\n",
              " Token(form='분', tag='NNB', start=371, len=1),\n",
              " Token(form='동안', tag='NNG', start=373, len=2),\n",
              " Token(form='프란치스코', tag='NNP', start=376, len=5),\n",
              " Token(form='교황', tag='NNG', start=382, len=2),\n",
              " Token(form='단독', tag='NNG', start=386, len=2),\n",
              " Token(form='예방', tag='NNG', start=389, len=2),\n",
              " Token(form='교황', tag='NNG', start=395, len=2),\n",
              " Token(form='만남', tag='NNG', start=400, len=2),\n",
              " Token(form='원활', tag='NNG', start=404, len=2),\n",
              " Token(form='의사소통', tag='NNG', start=408, len=4),\n",
              " Token(form='통역', tag='NNG', start=417, len=2),\n",
              " Token(form='외', tag='NNB', start=420, len=1),\n",
              " Token(form='배석자', tag='NNG', start=423, len=3),\n",
              " Token(form='없이', tag='MAG', start=427, len=2),\n",
              " Token(form='비밀', tag='NNG', start=431, len=2),\n",
              " Token(form='이루', tag='VV', start=436, len=2),\n",
              " Token(form='ᆫ다는', tag='ETM', start=438, len=3),\n",
              " Token(form='원칙', tag='NNG', start=442, len=2),\n",
              " Token(form='이날', tag='NNG', start=449, len=2),\n",
              " Token(form='예방', tag='NNG', start=452, len=2),\n",
              " Token(form='통역', tag='NNG', start=456, len=2),\n",
              " Token(form='자리', tag='NNG', start=463, len=2),\n",
              " Token(form='한현택', tag='NNP', start=467, len=3),\n",
              " Token(form='신부', tag='NNG', start=471, len=2),\n",
              " Token(form='외', tag='NNB', start=474, len=1),\n",
              " Token(form='누구', tag='NP', start=476, len=2),\n",
              " Token(form='배석', tag='NNG', start=480, len=2),\n",
              " Token(form='전하', tag='VV', start=492, len=2),\n",
              " Token(form='다만', tag='MAG', start=497, len=2),\n",
              " Token(form='사전', tag='NNG', start=500, len=2),\n",
              " Token(form='청와대', tag='NNP', start=504, len=3),\n",
              " Token(form='바티칸', tag='NNP', start=509, len=3),\n",
              " Token(form='사이', tag='NNG', start=513, len=2),\n",
              " Token(form='협의', tag='NNG', start=516, len=2),\n",
              " Token(form='거치', tag='VV', start=520, len=2),\n",
              " Token(form='이례', tag='NNG', start=523, len=2),\n",
              " Token(form='면담', tag='NNG', start=529, len=2),\n",
              " Token(form='주요', tag='NNG', start=533, len=2),\n",
              " Token(form='내용', tag='NNG', start=535, len=2),\n",
              " Token(form='공개', tag='NNG', start=539, len=2),\n",
              " Token(form='윤영', tag='NNP', start=551, len=2),\n",
              " Token(form='차', tag='VA', start=553, len=1),\n",
              " Token(form='청와대', tag='NNP', start=555, len=3),\n",
              " Token(form='국민', tag='NNG', start=559, len=2),\n",
              " Token(form='소통', tag='NNG', start=561, len=2),\n",
              " Token(form='수석', tag='NNG', start=563, len=2),\n",
              " Token(form='밝히', tag='VV', start=567, len=2),\n",
              " Token(form='데', tag='NNB', start=570, len=1),\n",
              " Token(form='교황', tag='NNG', start=576, len=2),\n",
              " Token(form='문', tag='NNP', start=580, len=1),\n",
              " Token(form='대통령', tag='NNG', start=582, len=3),\n",
              " Token(form='김정은', tag='NNP', start=587, len=3),\n",
              " Token(form='북한', tag='NNP', start=591, len=2),\n",
              " Token(form='국무', tag='NNG', start=594, len=2),\n",
              " Token(form='위원장', tag='NNG', start=596, len=3),\n",
              " Token(form='방북', tag='NNG', start=601, len=2),\n",
              " Token(form='초청', tag='NNG', start=604, len=2),\n",
              " Token(form='의사', tag='NNG', start=607, len=2),\n",
              " Token(form='전하', tag='VV', start=611, len=2),\n",
              " Token(form='김', tag='NNP', start=617, len=1),\n",
              " Token(form='위원장', tag='NNG', start=619, len=3),\n",
              " Token(form='초청장', tag='NNG', start=624, len=3),\n",
              " Token(form='보내', tag='VV', start=629, len=2),\n",
              " Token(form='어도', tag='EC', start=630, len=2),\n",
              " Token(form='좋', tag='VA', start=633, len=1),\n",
              " Token(form='느냐', tag='EC', start=635, len=2),\n",
              " Token(form='자', tag='EC', start=641, len=1),\n",
              " Token(form='공식', tag='NNG', start=644, len=2),\n",
              " Token(form='초청장', tag='NNG', start=647, len=3),\n",
              " Token(form='보내', tag='VV', start=652, len=2),\n",
              " Token(form='좋', tag='VA', start=657, len=1),\n",
              " Token(form='교황', tag='NNG', start=666, len=2),\n",
              " Token(form='이어', tag='MAG', start=670, len=2),\n",
              " Token(form='초청장', tag='NNG', start=674, len=3),\n",
              " Token(form='오', tag='VV', start=679, len=1),\n",
              " Token(form='무조건', tag='MAG', start=682, len=3),\n",
              " Token(form='응답', tag='NNG', start=686, len=2),\n",
              " Token(form='주', tag='VV', start=690, len=1),\n",
              " Token(form='가', tag='VV', start=699, len=1),\n",
              " Token(form='있', tag='VA', start=703, len=1),\n",
              " Token(form='북한', tag='NNP', start=713, len=2),\n",
              " Token(form='가', tag='VV', start=717, len=1),\n",
              " Token(form='있', tag='VA', start=721, len=1),\n",
              " Token(form='완벽히', tag='MAG', start=726, len=3),\n",
              " Token(form='언급', tag='NNG', start=730, len=2),\n",
              " Token(form='문맥', tag='NNG', start=741, len=2),\n",
              " Token(form='상', tag='XSN', start=743, len=1),\n",
              " Token(form='북한', tag='NNP', start=748, len=2),\n",
              " Token(form='땅', tag='NNG', start=751, len=1),\n",
              " Token(form='밟', tag='VV', start=754, len=1),\n",
              " Token(form='뜻', tag='NNG', start=759, len=1),\n",
              " Token(form='해석', tag='NNG', start=763, len=2),\n",
              " Token(form='교황', tag='NNG', start=769, len=2),\n",
              " Token(form='그러', tag='VV', start=773, len=2),\n",
              " Token(form='한반도', tag='NNP', start=779, len=3),\n",
              " Token(form='평화', tag='NNG', start=785, len=2),\n",
              " Token(form='프로세스', tag='NNG', start=787, len=4),\n",
              " Token(form='추진', tag='NNG', start=793, len=2),\n",
              " Token(form='한국', tag='NNP', start=799, len=2),\n",
              " Token(form='정부', tag='NNG', start=801, len=2),\n",
              " Token(form='노력', tag='NNG', start=805, len=2),\n",
              " Token(form='강력히', tag='MAG', start=809, len=3),\n",
              " Token(form='지지', tag='NNG', start=813, len=2),\n",
              " Token(form='멈추', tag='VV', start=821, len=2),\n",
              " Token(form='말', tag='VX', start=825, len=1),\n",
              " Token(form='앞', tag='NNG', start=828, len=1),\n",
              " Token(form='나아가', tag='VV', start=832, len=3),\n",
              " Token(form='어라', tag='EC', start=834, len=2),\n",
              " Token(form='두려워하', tag='VV', start=838, len=4),\n",
              " Token(form='말', tag='VX', start=844, len=1),\n",
              " Token(form='해석', tag='NNG', start=855, len=2),\n",
              " Token(form='힘', tag='NNG', start=859, len=1),\n",
              " Token(form='보태', tag='VV', start=862, len=2),\n",
              " Token(form='윤', tag='NNP', start=866, len=1),\n",
              " Token(form='수석', tag='NNG', start=868, len=2),\n",
              " Token(form='교황', tag='NNG', start=873, len=2),\n",
              " Token(form='방북', tag='NNG', start=877, len=2),\n",
              " Token(form='시점', tag='NNG', start=879, len=2),\n",
              " Token(form='언급', tag='NNG', start=886, len=2),\n",
              " Token(form='느냐', tag='EC', start=892, len=2),\n",
              " Token(form='데', tag='NNB', start=897, len=1),\n",
              " Token(form='시점', tag='NNG', start=901, len=2),\n",
              " Token(form='전하', tag='VV', start=918, len=2),\n",
              " Token(form='한편', tag='NNG', start=929, len=2),\n",
              " Token(form='교황', tag='NNG', start=934, len=2),\n",
              " Token(form='답', tag='NNG', start=938, len=1),\n",
              " Token(form='원론', tag='NNG', start=941, len=2),\n",
              " Token(form='의미', tag='NNG', start=945, len=2),\n",
              " Token(form='가', tag='JKC', start=947, len=1),\n",
              " Token(form='냐는', tag='ETM', start=951, len=2),\n",
              " Token(form='풀이', tag='NNG', start=954, len=2),\n",
              " Token(form='나오', tag='VV', start=958, len=2),\n",
              " Token(form='교황', tag='NNG', start=963, len=2),\n",
              " Token(form='방북', tag='NNG', start=967, len=2),\n",
              " Token(form='자체', tag='NNG', start=970, len=2),\n",
              " Token(form='문', tag='NNG', start=974, len=1),\n",
              " Token(form='열', tag='VV', start=977, len=1),\n",
              " Token(form='두', tag='VX', start=979, len=1),\n",
              " Token(form='데', tag='NNB', start=983, len=1),\n",
              " Token(form='의의', tag='NNG', start=986, len=2),\n",
              " Token(form='평', tag='NNG', start=994, len=1),\n",
              " Token(form='앞서', tag='MAG', start=998, len=2),\n",
              " Token(form='문', tag='NNP', start=1001, len=1),\n",
              " Token(form='대통령', tag='NNG', start=1003, len=3),\n",
              " Token(form='추진', tag='NNG', start=1008, len=2),\n",
              " Token(form='유럽', tag='NNP', start=1013, len=2),\n",
              " Token(form='한반도', tag='NNP', start=1019, len=3),\n",
              " Token(form='평화', tag='NNG', start=1023, len=2),\n",
              " Token(form='프로세스', tag='NNG', start=1025, len=4),\n",
              " Token(form='설득', tag='NNG', start=1030, len=2),\n",
              " Token(form='작업', tag='NNG', start=1033, len=2),\n",
              " Token(form='주춤거리', tag='VV', start=1037, len=4),\n",
              " Token(form='모양새', tag='NNG', start=1043, len=3),\n",
              " Token(form='감지', tag='NNG', start=1048, len=2),\n",
              " Token(form='었었', tag='EP', start=1050, len=2),\n",
              " Token(form='문', tag='NNP', start=1055, len=1),\n",
              " Token(form='대통령', tag='NNG', start=1057, len=3),\n",
              " Token(form='지나', tag='VV', start=1062, len=2),\n",
              " Token(form='15', tag='SN', start=1065, len=2),\n",
              " Token(form='에마뉘엘', tag='NNP', start=1069, len=4),\n",
              " Token(form='마크롱', tag='NNP', start=1074, len=3),\n",
              " Token(form='프랑스', tag='NNP', start=1078, len=3),\n",
              " Token(form='대통령', tag='NNG', start=1082, len=3),\n",
              " Token(form='만나', tag='VV', start=1087, len=2),\n",
              " Token(form='프랑스', tag='NNP', start=1090, len=3),\n",
              " Token(form='유엔', tag='NNP', start=1095, len=2),\n",
              " Token(form='안보리', tag='NNG', start=1098, len=3),\n",
              " Token(form='상임', tag='NNG', start=1102, len=2),\n",
              " Token(form='이사국', tag='NNG', start=1104, len=3),\n",
              " Token(form='으로서', tag='JKB', start=1107, len=3),\n",
              " Token(form='대북', tag='NNG', start=1111, len=2),\n",
              " Token(form='제재', tag='NNG', start=1113, len=2),\n",
              " Token(form='완화', tag='NNG', start=1116, len=2),\n",
              " Token(form='힘', tag='NNG', start=1120, len=1),\n",
              " Token(form='싣', tag='VV-I', start=1123, len=1),\n",
              " Token(form='달', tag='VX', start=1125, len=1),\n",
              " Token(form='라고', tag='EC', start=1126, len=2),\n",
              " Token(form='요청', tag='NNG', start=1129, len=2),\n",
              " Token(form='마크롱', tag='NNP', start=1135, len=3),\n",
              " Token(form='대통령', tag='NNG', start=1139, len=3),\n",
              " Token(form='CVID', tag='SL', start=1144, len=4),\n",
              " Token(form='완전', tag='NNG', start=1149, len=2),\n",
              " Token(form='불', tag='XPN', start=1154, len=1),\n",
              " Token(form='가역', tag='NNG', start=1155, len=2),\n",
              " Token(form='검증', tag='NNG', start=1161, len=2),\n",
              " Token(form='가능', tag='NNG', start=1163, len=2),\n",
              " Token(form='비핵', tag='NNG', start=1167, len=2),\n",
              " Token(form='강조', tag='NNG', start=1173, len=2),\n",
              " Token(form='완곡', tag='XR', start=1178, len=2),\n",
              " Token(form='거절', tag='NNG', start=1182, len=2),\n",
              " Token(form='의사', tag='NNG', start=1184, len=2),\n",
              " Token(form='밝히', tag='VV', start=1188, len=2),\n",
              " Token(form='바', tag='NNB', start=1191, len=1),\n",
              " Token(form='있', tag='VA', start=1193, len=1),\n",
              " Token(form='하지만', tag='MAJ', start=1196, len=3),\n",
              " Token(form='17', tag='SN', start=1200, len=2),\n",
              " Token(form='문', tag='NNP', start=1204, len=1),\n",
              " Token(form='대통령', tag='NNG', start=1206, len=3),\n",
              " Token(form='한반도', tag='NNP', start=1211, len=3),\n",
              " Token(form='평화', tag='NNG', start=1215, len=2),\n",
              " Token(form='특별', tag='NNG', start=1222, len=2),\n",
              " Token(form='미사', tag='NNG', start=1224, len=2),\n",
              " Token(form='참석', tag='NNG', start=1228, len=2),\n",
              " Token(form='특별', tag='NNG', start=1233, len=2),\n",
              " Token(form='연설', tag='NNG', start=1235, len=2),\n",
              " Token(form='한반도', tag='NNP', start=1244, len=3),\n",
              " Token(form='평화', tag='NNG', start=1248, len=2),\n",
              " Token(form='프로세스', tag='NNG', start=1250, len=4),\n",
              " Token(form='한껏', tag='MAG', start=1257, len=2),\n",
              " Token(form='탄력', tag='NNG', start=1260, len=2),\n",
              " Token(form='받', tag='VV-R', start=1264, len=1),\n",
              " Token(form='데', tag='NNB', start=1267, len=1),\n",
              " Token(form='잇', tag='VV-I', start=1269, len=2),\n",
              " Token(form='18', tag='SN', start=1272, len=2),\n",
              " Token(form='바티칸', tag='NNP', start=1276, len=3),\n",
              " Token(form='알현', tag='NNG', start=1282, len=2),\n",
              " Token(form='교황', tag='NNG', start=1286, len=2),\n",
              " Token(form='적극', tag='NNG', start=1290, len=2),\n",
              " Token(form='나서', tag='VV', start=1296, len=2),\n",
              " Token(form='국제', tag='NNG', start=1301, len=2),\n",
              " Token(form='사회', tag='NNG', start=1303, len=2),\n",
              " Token(form='영향', tag='NNG', start=1307, len=2),\n",
              " Token(form='받', tag='VV-R', start=1311, len=1),\n",
              " Token(form='밖에', tag='JX', start=1315, len=2),\n",
              " Token(form='보이', tag='VV', start=1325, len=2),\n",
              " Token(form='전', tag='MM', start=1330, len=1),\n",
              " Token(form='세계', tag='NNG', start=1331, len=2),\n",
              " Token(form='인구', tag='NNG', start=1334, len=2),\n",
              " Token(form='17', tag='SN', start=1338, len=2),\n",
              " Token(form='7', tag='SN', start=1341, len=1),\n",
              " Token(form='인', tag='NNG', start=1343, len=1),\n",
              " Token(form='12', tag='SN', start=1345, len=2),\n",
              " Token(form='억', tag='NR', start=1347, len=1),\n",
              " Token(form='8500', tag='SN', start=1348, len=4),\n",
              " Token(form='신자', tag='NNG', start=1356, len=2),\n",
              " Token(form='보유', tag='NNG', start=1360, len=2),\n",
              " Token(form='가톨릭', tag='NNG', start=1364, len=3),\n",
              " Token(form='수장', tag='NNG', start=1369, len=2),\n",
              " Token(form='직접', tag='MAG', start=1373, len=2),\n",
              " Token(form='나서', tag='VV', start=1376, len=2),\n",
              " Token(form='파급력', tag='NNG', start=1384, len=3),\n",
              " Token(form='상당', tag='NNG', start=1389, len=2),\n",
              " Token(form='아울러', tag='MAG', start=1403, len=3),\n",
              " Token(form='교황', tag='NNG', start=1407, len=2),\n",
              " Token(form='방북', tag='NNG', start=1411, len=2),\n",
              " Token(form='성사', tag='NNG', start=1415, len=2),\n",
              " Token(form='역사', tag='NNG', start=1420, len=2),\n",
              " Token(form='상', tag='XSN', start=1422, len=1),\n",
              " Token(form='처음', tag='NNG', start=1424, len=2),\n",
              " Token(form='북한', tag='NNP', start=1429, len=2),\n",
              " Token(form='땅', tag='NNG', start=1432, len=1),\n",
              " Token(form='밟', tag='VV', start=1435, len=1),\n",
              " Token(form='교황', tag='NNG', start=1438, len=2),\n",
              " Token(form='상징', tag='NNG', start=1444, len=2),\n",
              " Token(form='갖', tag='VV', start=1449, len=1),\n",
              " Token(form='문', tag='NNP', start=1455, len=1),\n",
              " Token(form='대통령', tag='NNG', start=1457, len=3),\n",
              " Token(form='이러', tag='XR', start=1462, len=2),\n",
              " Token(form='기세', tag='NNG', start=1466, len=2),\n",
              " Token(form='19', tag='SN', start=1470, len=2),\n",
              " Token(form='벨기에', tag='NNP', start=1474, len=3),\n",
              " Token(form='브뤼셀', tag='NNP', start=1478, len=3),\n",
              " Token(form='열리', tag='VV', start=1484, len=2),\n",
              " Token(form='12', tag='SN', start=1489, len=2),\n",
              " Token(form='차', tag='NNB', start=1491, len=1),\n",
              " Token(form='아셈', tag='NNP', start=1493, len=2),\n",
              " Token(form='ASEM', tag='SL', start=1496, len=4),\n",
              " Token(form='아시아', tag='NNP', start=1501, len=3),\n",
              " Token(form='유럽', tag='NNP', start=1505, len=2),\n",
              " Token(form='정상', tag='NNG', start=1507, len=2),\n",
              " Token(form='회의', tag='NNG', start=1509, len=2),\n",
              " Token(form='영국', tag='NNP', start=1515, len=2),\n",
              " Token(form='독일', tag='NNP', start=1519, len=2),\n",
              " Token(form='태국', tag='NNP', start=1523, len=2),\n",
              " Token(form='총리', tag='NNG', start=1526, len=2),\n",
              " Token(form='정상', tag='NNG', start=1530, len=2),\n",
              " Token(form='회담', tag='NNG', start=1532, len=2),\n",
              " Token(form='갖', tag='VV', start=1536, len=1),\n",
              " Token(form='는다', tag='EF', start=1537, len=2),\n",
              " Token(form='특히', tag='MAG', start=1541, len=2),\n",
              " Token(form='영국', tag='NNP', start=1544, len=2),\n",
              " Token(form='독일', tag='NNP', start=1548, len=2),\n",
              " Token(form='총리', tag='NNG', start=1551, len=2),\n",
              " Token(form='만나', tag='VV', start=1555, len=2),\n",
              " Token(form='대북', tag='NNG', start=1558, len=2),\n",
              " Token(form='제재', tag='NNG', start=1560, len=2),\n",
              " Token(form='완화', tag='NNG', start=1563, len=2),\n",
              " Token(form='한반도', tag='NNP', start=1568, len=3),\n",
              " Token(form='평화', tag='NNG', start=1572, len=2),\n",
              " Token(form='프로세스', tag='NNG', start=1574, len=4),\n",
              " Token(form='설득', tag='NNG', start=1579, len=2),\n",
              " Token(form='작업', tag='NNG', start=1581, len=2),\n",
              " Token(form='가속', tag='NNG', start=1585, len=2),\n",
              " Token(form='페달', tag='NNG', start=1587, len=2),\n",
              " Token(form='밟', tag='VV', start=1591, len=1),\n",
              " Token(form='전망', tag='NNG', start=1594, len=2),\n",
              " Token(form='영국', tag='NNP', start=1599, len=2),\n",
              " Token(form='미국', tag='NNP', start=1603, len=2),\n",
              " Token(form='프랑스', tag='NNP', start=1607, len=3),\n",
              " Token(form='러시아', tag='NNP', start=1612, len=3),\n",
              " Token(form='중국', tag='NNP', start=1617, len=2),\n",
              " Token(form='함께', tag='MAG', start=1621, len=2),\n",
              " Token(form='유엔', tag='NNP', start=1624, len=2),\n",
              " Token(form='안보리', tag='NNG', start=1627, len=3),\n",
              " Token(form='상임', tag='NNG', start=1631, len=2),\n",
              " Token(form='이사국', tag='NNG', start=1633, len=3),\n",
              " Token(form='속하', tag='VV', start=1638, len=2),\n",
              " Token(form='이미', tag='MAG', start=1643, len=2),\n",
              " Token(form='5', tag='SN', start=1646, len=1),\n",
              " Token(form='차례', tag='NNG', start=1647, len=2),\n",
              " Token(form='비', tag='XPN', start=1650, len=1),\n",
              " Token(form='상임', tag='NNG', start=1651, len=2),\n",
              " Token(form='이사국', tag='NNG', start=1653, len=3),\n",
              " Token(form='지내', tag='VV', start=1658, len=2),\n",
              " Token(form='독일', tag='NNP', start=1661, len=2),\n",
              " Token(form='내년', tag='NNG', start=1665, len=2),\n",
              " Token(form='안보리', tag='NNG', start=1668, len=3),\n",
              " Token(form='비', tag='XPN', start=1672, len=1),\n",
              " Token(form='상임', tag='NNG', start=1673, len=2),\n",
              " Token(form='이사국', tag='NNG', start=1675, len=3),\n",
              " Token(form='2020', tag='SN', start=1679, len=4),\n",
              " Token(form='으', tag='NNG', start=1687, len=1),\n",
              " Token(form='선출', tag='NNG', start=1690, len=2),\n",
              " Token(form='silverpaper', tag='SL', start=1697, len=11),\n",
              " Token(form='news', tag='SL', start=1709, len=4),\n",
              " Token(form='1', tag='SN', start=1713, len=1),\n",
              " Token(form='kr', tag='SL', start=1715, len=2),\n",
              " Token(form='진짜', tag='MAG', start=1719, len=2),\n",
              " Token(form='블록체인', tag='NNP', start=1722, len=4),\n",
              " Token(form='만나', tag='VV', start=1728, len=2),\n",
              " Token(form='곳', tag='NNG', start=1732, len=1),\n",
              " Token(form='크립토허브', tag='NNP', start=1735, len=5),\n",
              " Token(form='오픈', tag='NNG', start=1742, len=2),\n",
              " Token(form='글로벌', tag='NNG', start=1748, len=3),\n",
              " Token(form='바이오', tag='NNG', start=1751, len=3),\n",
              " Token(form='포럼', tag='NNG', start=1754, len=2),\n",
              " Token(form='2018', tag='SN', start=1757, len=4),\n",
              " Token(form='참가', tag='NNG', start=1762, len=2),\n",
              " Token(form='하기', tag='NNG', start=1764, len=2),\n",
              " Token(form='네이버', tag='NNP', start=1768, len=3),\n",
              " Token(form='메인', tag='NNG', start=1772, len=2),\n",
              " Token(form='뉴스1', tag='NNP', start=1778, len=3),\n",
              " Token(form='구독', tag='NNG', start=1784, len=2),\n",
              " Token(form='세요', tag='EF', start=1788, len=2),\n",
              " Token(form='뉴스1', tag='NNP', start=1793, len=3),\n",
              " Token(form='코리아', tag='NNP', start=1796, len=3),\n",
              " Token(form='news', tag='SL', start=1800, len=4),\n",
              " Token(form='1', tag='SN', start=1804, len=1),\n",
              " Token(form='kr', tag='SL', start=1806, len=2),\n",
              " Token(form='무단', tag='NNG', start=1811, len=2),\n",
              " Token(form='전재', tag='NNG', start=1814, len=2),\n",
              " Token(form='및', tag='MAG', start=1817, len=1),\n",
              " Token(form='재', tag='XPN', start=1819, len=1),\n",
              " Token(form='배포', tag='NNG', start=1820, len=2),\n",
              " Token(form='금지', tag='NNG', start=1823, len=2)]"
            ]
          },
          "metadata": {},
          "execution_count": 20
        }
      ],
      "source": [
        "# Kiwi를 이용해서 불용어 제거하기\n",
        "kiwi.tokenize(filtered_content, stopwords=stopwords_dict)"
      ]
    },
    {
      "cell_type": "markdown",
      "metadata": {
        "id": "glK7rhxro9YT"
      },
      "source": [
        "#1음절의 단어 제거하기"
      ]
    },
    {
      "cell_type": "markdown",
      "source": [
        "1음절 단어만 제거할 때 의미 파악하기 어려운 경우가 많다. 예를 들어 '안'이라고 하는 단어가 있을 때 이름, 장소, 부정의 의미인지 알기 어렵다.\n",
        "\n",
        "한국어에서는 1음절도 부정의 형태로 간주하고 제거하게 된다.\n",
        "\n",
        "단어의 크기가 1보다 큰 단어들을 선별하게 된다."
      ],
      "metadata": {
        "id": "OtKHqRtivKvw"
      }
    },
    {
      "cell_type": "code",
      "execution_count": 21,
      "metadata": {
        "id": "_jbY2hfZo9YU"
      },
      "outputs": [],
      "source": [
        "final_nouns = [word for word in Noun_words if len(word)>1]\n",
        "# 이는 아래 코드와 동일\n",
        "# final_nouns = []\n",
        "# for word in Noun_words:\n",
        "#     if len(word)>1:\n",
        "#         final_nouns.append(word)"
      ]
    },
    {
      "cell_type": "code",
      "execution_count": 22,
      "metadata": {
        "id": "8Ol_b-ADo9YU",
        "outputId": "459192b9-7bb7-48e5-d8d7-db1c8c1b12b0",
        "colab": {
          "base_uri": "https://localhost:8080/"
        }
      },
      "outputs": [
        {
          "output_type": "stream",
          "name": "stdout",
          "text": [
            "['아셈', '계기', '영국', '독일', '태국', '정상', '회담', '대북', '제재', '완화', '설득', '가속', '문재인', '대통령', '오후', '현지', '시간', '바티칸', '교황청', '방문', '프란치스코', '교황', '악수', '청와대', '페이스북', '뉴스1', '바티칸', '뉴스1', '조소영', '기자', '프란치스코', '교황', '현지', '시간', '문재인', '대통령', '만남', '사실', '방북', '의사', '대통령', '한반도', '평화', '프로세스', '추진', '상당', '대통령', '교황', '지지', '기반', '북미', '정상', '회담', '신속', '개최', '촉구', '국제', '사회', '북한', '비핵', '촉진', '대북', '제재', '완화', '일정', '정도', '필요', '주장', '대통령', '이날', '오후', '바티칸', '교황', '교황', '서재', '동안', '프란치스코', '교황', '단독', '예방', '교황', '만남', '원활', '의사소통', '통역', '배석자', '비밀', '원칙', '이날', '예방', '통역', '자리', '한현택', '신부', '배석', '사전', '청와대', '바티칸', '사이', '협의', '이례', '면담', '주요', '내용', '공개', '윤영', '청와대', '국민', '소통', '수석', '교황', '대통령', '김정은', '북한', '국무', '위원장', '방북', '초청', '의사', '위원장', '초청장', '공식', '초청장', '교황', '초청장', '응답', '북한', '언급', '문맥', '북한', '해석', '교황', '한반도', '평화', '프로세스', '추진', '한국', '정부', '노력', '지지', '해석', '수석', '교황', '방북', '시점', '언급', '시점', '한편', '교황', '원론', '의미', '풀이', '교황', '방북', '자체', '의의', '대통령', '추진', '유럽', '한반도', '평화', '프로세스', '설득', '작업', '모양새', '감지', '대통령', '에마뉘엘', '마크롱', '프랑스', '대통령', '프랑스', '유엔', '안보리', '상임', '이사국', '대북', '제재', '완화', '요청', '마크롱', '대통령', '완전', '가역', '검증', '가능', '비핵', '강조', '거절', '의사', '대통령', '한반도', '평화', '특별', '미사', '참석', '특별', '연설', '한반도', '평화', '프로세스', '탄력', '바티칸', '알현', '교황', '적극', '국제', '사회', '영향', '세계', '인구', '신자', '보유', '가톨릭', '수장', '때문', '파급력', '상당', '때문', '교황', '방북', '성사', '역사', '처음', '북한', '교황', '상징', '대통령', '기세', '벨기에', '브뤼셀', '아셈', '아시아', '유럽', '정상', '회의', '영국', '독일', '태국', '총리', '정상', '회담', '영국', '독일', '총리', '대북', '제재', '완화', '한반도', '평화', '프로세스', '설득', '작업', '가속', '페달', '전망', '영국', '미국', '프랑스', '러시아', '중국', '유엔', '안보리', '상임', '이사국', '차례', '상임', '이사국', '독일', '내년', '안보리', '상임', '이사국', '선출', '블록체인', '크립토허브', '오픈', '글로벌', '바이오', '포럼', '참가', '하기', '네이버', '메인', '뉴스1', '구독', '뉴스1', '코리아', '무단', '전재', '배포', '금지']\n"
          ]
        }
      ],
      "source": [
        "print(final_nouns)"
      ]
    },
    {
      "cell_type": "markdown",
      "source": [
        "이로써 전처리 과정이 끝났다."
      ],
      "metadata": {
        "id": "pfskhz2FvJ42"
      }
    },
    {
      "cell_type": "code",
      "execution_count": 23,
      "metadata": {
        "scrolled": true,
        "id": "abLCUKmTo9YU",
        "outputId": "263d0a99-1a9f-4f38-a350-d0e357d27c67",
        "colab": {
          "base_uri": "https://localhost:8080/"
        }
      },
      "outputs": [
        {
          "output_type": "stream",
          "name": "stdout",
          "text": [
            "Counter({'교황': 16, '대통령': 12, '한반도': 6, '평화': 6, '바티칸': 5, '방북': 5, '프로세스': 5, '북한': 5, '영국': 4, '독일': 4, '정상': 4, '대북': 4, '제재': 4, '완화': 4, '뉴스1': 4, '상임': 4, '이사국': 4, '회담': 3, '설득': 3, '프란치스코': 3, '청와대': 3, '의사': 3, '추진': 3, '초청장': 3, '프랑스': 3, '안보리': 3, '아셈': 2, '태국': 2, '가속': 2, '문재인': 2, '오후': 2, '현지': 2, '시간': 2, '만남': 2, '상당': 2, '지지': 2, '국제': 2, '사회': 2, '비핵': 2, '이날': 2, '예방': 2, '통역': 2, '수석': 2, '위원장': 2, '언급': 2, '해석': 2, '시점': 2, '유럽': 2, '작업': 2, '마크롱': 2, '유엔': 2, '특별': 2, '때문': 2, '총리': 2, '계기': 1, '교황청': 1, '방문': 1, '악수': 1, '페이스북': 1, '조소영': 1, '기자': 1, '사실': 1, '기반': 1, '북미': 1, '신속': 1, '개최': 1, '촉구': 1, '촉진': 1, '일정': 1, '정도': 1, '필요': 1, '주장': 1, '서재': 1, '동안': 1, '단독': 1, '원활': 1, '의사소통': 1, '배석자': 1, '비밀': 1, '원칙': 1, '자리': 1, '한현택': 1, '신부': 1, '배석': 1, '사전': 1, '사이': 1, '협의': 1, '이례': 1, '면담': 1, '주요': 1, '내용': 1, '공개': 1, '윤영': 1, '국민': 1, '소통': 1, '김정은': 1, '국무': 1, '초청': 1, '공식': 1, '응답': 1, '문맥': 1, '한국': 1, '정부': 1, '노력': 1, '한편': 1, '원론': 1, '의미': 1, '풀이': 1, '자체': 1, '의의': 1, '모양새': 1, '감지': 1, '에마뉘엘': 1, '요청': 1, '완전': 1, '가역': 1, '검증': 1, '가능': 1, '강조': 1, '거절': 1, '미사': 1, '참석': 1, '연설': 1, '탄력': 1, '알현': 1, '적극': 1, '영향': 1, '세계': 1, '인구': 1, '신자': 1, '보유': 1, '가톨릭': 1, '수장': 1, '파급력': 1, '성사': 1, '역사': 1, '처음': 1, '상징': 1, '기세': 1, '벨기에': 1, '브뤼셀': 1, '아시아': 1, '회의': 1, '페달': 1, '전망': 1, '미국': 1, '러시아': 1, '중국': 1, '차례': 1, '내년': 1, '선출': 1, '블록체인': 1, '크립토허브': 1, '오픈': 1, '글로벌': 1, '바이오': 1, '포럼': 1, '참가': 1, '하기': 1, '네이버': 1, '메인': 1, '구독': 1, '코리아': 1, '무단': 1, '전재': 1, '배포': 1, '금지': 1})\n"
          ]
        }
      ],
      "source": [
        "from collections import Counter\n",
        "c = Counter(final_nouns)\n",
        "print(c)"
      ]
    },
    {
      "cell_type": "code",
      "execution_count": 24,
      "metadata": {
        "id": "E53wWA2zo9YU",
        "outputId": "02d6f608-3aaa-4c26-de39-dc00d99c0048",
        "colab": {
          "base_uri": "https://localhost:8080/"
        }
      },
      "outputs": [
        {
          "output_type": "stream",
          "name": "stdout",
          "text": [
            "[('교황', 16), ('대통령', 12), ('한반도', 6), ('평화', 6), ('바티칸', 5), ('방북', 5), ('프로세스', 5), ('북한', 5), ('영국', 4), ('독일', 4)]\n"
          ]
        }
      ],
      "source": [
        "print(c.most_common(10))"
      ]
    },
    {
      "cell_type": "markdown",
      "source": [
        "불용어를 제거하는 것이 굉장히 중요한 작업들은 불용어를 제거한 다음에 빈도분석, 텍스트네트워크 분석에 나오는 결과를 보고나서 상위 목록 중에서 불용어가 포함되어 있는지 확인하고 추가적인 불용어 제거하는 작업을 거쳐야 한다.\n",
        "\n",
        "kiwi 가 100% 정확하지 않아서 사용자가 추가 전처리를 계속 해줘야 깔끔한 결과를 얻을 수 있다."
      ],
      "metadata": {
        "id": "7Gj7i-NpwAKF"
      }
    },
    {
      "cell_type": "code",
      "execution_count": null,
      "metadata": {
        "collapsed": true,
        "id": "Dpb4mnc2o9YV"
      },
      "outputs": [],
      "source": []
    }
  ],
  "metadata": {
    "kernelspec": {
      "display_name": "Python 3 (ipykernel)",
      "language": "python",
      "name": "python3"
    },
    "language_info": {
      "codemirror_mode": {
        "name": "ipython",
        "version": 3
      },
      "file_extension": ".py",
      "mimetype": "text/x-python",
      "name": "python",
      "nbconvert_exporter": "python",
      "pygments_lexer": "ipython3",
      "version": "3.9.13"
    },
    "colab": {
      "provenance": [],
      "include_colab_link": true
    }
  },
  "nbformat": 4,
  "nbformat_minor": 0
}