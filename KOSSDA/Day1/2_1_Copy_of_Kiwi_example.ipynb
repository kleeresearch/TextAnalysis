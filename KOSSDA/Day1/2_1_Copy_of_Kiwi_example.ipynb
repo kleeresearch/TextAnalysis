{
  "cells": [
    {
      "cell_type": "markdown",
      "metadata": {
        "id": "view-in-github",
        "colab_type": "text"
      },
      "source": [
        "<a href=\"https://colab.research.google.com/github/kleeresearch/TextAnalysis/blob/master/KOSSDA/Day1/2_1_Copy_of_Kiwi_example.ipynb\" target=\"_parent\"><img src=\"https://colab.research.google.com/assets/colab-badge.svg\" alt=\"Open In Colab\"/></a>"
      ]
    },
    {
      "cell_type": "code",
      "source": [
        "!pip install kiwipiepy"
      ],
      "metadata": {
        "colab": {
          "base_uri": "https://localhost:8080/"
        },
        "id": "pOPMvPSMrSVg",
        "outputId": "b2d87a3f-d370-413d-fd19-d992779f3330"
      },
      "execution_count": null,
      "outputs": [
        {
          "output_type": "stream",
          "name": "stdout",
          "text": [
            "Collecting kiwipiepy\n",
            "  Downloading kiwipiepy-0.16.2-cp310-cp310-manylinux_2_17_x86_64.manylinux2014_x86_64.whl (2.8 MB)\n",
            "\u001b[2K     \u001b[90m━━━━━━━━━━━━━━━━━━━━━━━━━━━━━━━━━━━━━━━━\u001b[0m \u001b[32m2.8/2.8 MB\u001b[0m \u001b[31m14.1 MB/s\u001b[0m eta \u001b[36m0:00:00\u001b[0m\n",
            "\u001b[?25hCollecting kiwipiepy-model~=0.16 (from kiwipiepy)\n",
            "  Downloading kiwipiepy_model-0.16.0.tar.gz (30.8 MB)\n",
            "\u001b[2K     \u001b[90m━━━━━━━━━━━━━━━━━━━━━━━━━━━━━━━━━━━━━━━━\u001b[0m \u001b[32m30.8/30.8 MB\u001b[0m \u001b[31m21.9 MB/s\u001b[0m eta \u001b[36m0:00:00\u001b[0m\n",
            "\u001b[?25h  Preparing metadata (setup.py) ... \u001b[?25l\u001b[?25hdone\n",
            "Requirement already satisfied: numpy in /usr/local/lib/python3.10/dist-packages (from kiwipiepy) (1.23.5)\n",
            "Requirement already satisfied: tqdm in /usr/local/lib/python3.10/dist-packages (from kiwipiepy) (4.66.1)\n",
            "Building wheels for collected packages: kiwipiepy-model\n",
            "  Building wheel for kiwipiepy-model (setup.py) ... \u001b[?25l\u001b[?25hdone\n",
            "  Created wheel for kiwipiepy-model: filename=kiwipiepy_model-0.16.0-py3-none-any.whl size=30813256 sha256=55854894b89df4355eb2bdc93fc3db4483b751a2e64cc4133687892972dd1e8b\n",
            "  Stored in directory: /root/.cache/pip/wheels/6b/03/2b/ac2c97cc65ebd9df3516f4b900adc2f0a744df8d1375b2e2ef\n",
            "Successfully built kiwipiepy-model\n",
            "Installing collected packages: kiwipiepy-model, kiwipiepy\n",
            "Successfully installed kiwipiepy-0.16.2 kiwipiepy-model-0.16.0\n"
          ]
        }
      ]
    },
    {
      "cell_type": "code",
      "execution_count": null,
      "metadata": {
        "id": "F8WIserzrHTP"
      },
      "outputs": [],
      "source": [
        "from kiwipiepy import Kiwi"
      ]
    },
    {
      "cell_type": "code",
      "execution_count": null,
      "metadata": {
        "id": "XVSMA74zrHTS"
      },
      "outputs": [],
      "source": [
        "kiwi = Kiwi()"
      ]
    },
    {
      "cell_type": "code",
      "execution_count": null,
      "metadata": {
        "id": "sohWiSIWrHTS"
      },
      "outputs": [],
      "source": [
        "text = \"텍스트 분석 수업입니다.\""
      ]
    },
    {
      "cell_type": "code",
      "execution_count": null,
      "metadata": {
        "id": "CzxabyZJrHTT"
      },
      "outputs": [],
      "source": [
        "tokens = kiwi.tokenize(text)"
      ]
    },
    {
      "cell_type": "code",
      "execution_count": null,
      "metadata": {
        "id": "Mhz_7dnmrHTT",
        "outputId": "5c65dca6-f949-4269-daa7-d803c70e5efe",
        "colab": {
          "base_uri": "https://localhost:8080/"
        }
      },
      "outputs": [
        {
          "output_type": "execute_result",
          "data": {
            "text/plain": [
              "[Token(form='텍스트', tag='NNG', start=0, len=3),\n",
              " Token(form='분석', tag='NNG', start=4, len=2),\n",
              " Token(form='수업', tag='NNG', start=7, len=2),\n",
              " Token(form='이', tag='VCP', start=9, len=1),\n",
              " Token(form='ᆸ니다', tag='EF', start=9, len=3),\n",
              " Token(form='.', tag='SF', start=12, len=1)]"
            ]
          },
          "metadata": {},
          "execution_count": 7
        }
      ],
      "source": [
        "tokens"
      ]
    },
    {
      "cell_type": "markdown",
      "source": [
        "(위 설명) 토큰에 대해서 알아서 빈도 수를 부석해준다. 형태소는 '텍스트', '분석' 등이 있다."
      ],
      "metadata": {
        "id": "SZQxPrm9r0hj"
      }
    },
    {
      "cell_type": "code",
      "execution_count": null,
      "metadata": {
        "id": "lo5GsMKqrHTU",
        "outputId": "4db9ac99-097e-4f1b-bc45-19819baa1794",
        "colab": {
          "base_uri": "https://localhost:8080/",
          "height": 35
        }
      },
      "outputs": [
        {
          "output_type": "execute_result",
          "data": {
            "text/plain": [
              "'텍스트'"
            ],
            "application/vnd.google.colaboratory.intrinsic+json": {
              "type": "string"
            }
          },
          "metadata": {},
          "execution_count": 8
        }
      ],
      "source": [
        "# 단어 추출\n",
        "tokens[0].form"
      ]
    },
    {
      "cell_type": "code",
      "execution_count": null,
      "metadata": {
        "id": "4P6oyLPUrHTV",
        "outputId": "1741e22b-6a08-405a-a842-0e3116ff0d51",
        "colab": {
          "base_uri": "https://localhost:8080/",
          "height": 35
        }
      },
      "outputs": [
        {
          "output_type": "execute_result",
          "data": {
            "text/plain": [
              "'NNG'"
            ],
            "application/vnd.google.colaboratory.intrinsic+json": {
              "type": "string"
            }
          },
          "metadata": {},
          "execution_count": 9
        }
      ],
      "source": [
        "# Tag 정보 추출\n",
        "tokens[0].tag"
      ]
    },
    {
      "cell_type": "markdown",
      "metadata": {
        "id": "S9Om22oDrHTV"
      },
      "source": [
        "## 명사 단어만 추출하기"
      ]
    },
    {
      "cell_type": "code",
      "execution_count": null,
      "metadata": {
        "id": "H96HVLVjrHTW"
      },
      "outputs": [],
      "source": [
        "# 품사 태그 정보\n",
        "# https://github.com/bab2min/kiwipiepy#%ED%92%88%EC%82%AC-%ED%83%9C%EA%B7%B8\n",
        "nouns = []\n",
        "for token in kiwi.tokenize(\"안녕하세요. 텍스트 분석 수업입니다.\"):\n",
        "    if 'NN' in token.tag:\n",
        "        nouns.append(token.form)"
      ]
    },
    {
      "cell_type": "markdown",
      "source": [
        "NN은 형태소이다. 형태소에 대한 품사 정보는 태그 참조."
      ],
      "metadata": {
        "id": "h4EcIJbhrox0"
      }
    },
    {
      "cell_type": "code",
      "execution_count": null,
      "metadata": {
        "id": "kgo5UTzdrHTX",
        "outputId": "fb9e7cd0-3837-46ca-a87b-2336552c1a1e",
        "colab": {
          "base_uri": "https://localhost:8080/"
        }
      },
      "outputs": [
        {
          "output_type": "execute_result",
          "data": {
            "text/plain": [
              "['안녕', '텍스트', '분석', '수업']"
            ]
          },
          "metadata": {},
          "execution_count": 11
        }
      ],
      "source": [
        "nouns"
      ]
    },
    {
      "cell_type": "code",
      "source": [],
      "metadata": {
        "id": "cpkKnAJfrmZp"
      },
      "execution_count": null,
      "outputs": []
    }
  ],
  "metadata": {
    "kernelspec": {
      "display_name": "Python 3 (ipykernel)",
      "language": "python",
      "name": "python3"
    },
    "language_info": {
      "codemirror_mode": {
        "name": "ipython",
        "version": 3
      },
      "file_extension": ".py",
      "mimetype": "text/x-python",
      "name": "python",
      "nbconvert_exporter": "python",
      "pygments_lexer": "ipython3",
      "version": "3.9.13"
    },
    "colab": {
      "provenance": [],
      "include_colab_link": true
    }
  },
  "nbformat": 4,
  "nbformat_minor": 0
}